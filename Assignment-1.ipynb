{
 "cells": [
  {
   "cell_type": "code",
   "execution_count": 37,
   "metadata": {},
   "outputs": [
    {
     "name": "stdout",
     "output_type": "stream",
     "text": [
      "Enter a 1\n",
      "Enter b 2\n",
      "Enter c 1\n",
      "-1.0\n"
     ]
    }
   ],
   "source": [
    "#Roots of a Quadratic Equation\n",
    "import cmath\n",
    "a =float(input('Enter a '))\n",
    "b =float(input('Enter b '))\n",
    "c =float(input('Enter c '))\n",
    "d = (b**2)-(4*a*c)\n",
    "if d > 0:\n",
    "    print(((-b) + cmath.sqrt(d))/(2*a))\n",
    "    print(((-b) - cmath.sqrt(d))/(2*a))\n",
    "elif d==0:\n",
    "    print((-b)/(2*a))\n",
    "else :\n",
    "    print(\"imaginary\")\n"
   ]
  },
  {
   "cell_type": "code",
   "execution_count": 19,
   "metadata": {},
   "outputs": [
    {
     "name": "stdout",
     "output_type": "stream",
     "text": [
      "enter k7\n",
      "7  *  1  =  7\n",
      "7  *  2  =  14\n",
      "7  *  3  =  21\n",
      "7  *  4  =  28\n",
      "7  *  5  =  35\n",
      "7  *  6  =  42\n",
      "7  *  7  =  49\n",
      "7  *  8  =  56\n",
      "7  *  9  =  63\n",
      "7  *  10  =  70\n"
     ]
    }
   ],
   "source": [
    "#Generation of K th table\n",
    "k = int(input(\"enter k \"))\n",
    "i=1\n",
    "n=10\n",
    "while i<=n:\n",
    "    print(k,\" * \",i,\" = \",k*i)\n",
    "    i+=1\n",
    "    "
   ]
  },
  {
   "cell_type": "code",
   "execution_count": 24,
   "metadata": {},
   "outputs": [
    {
     "name": "stdout",
     "output_type": "stream",
     "text": [
      "Enter n10\n",
      "0 1 1 2 3 5 8 13 21 34 55 "
     ]
    }
   ],
   "source": [
    "#Fibonacci Series\n",
    "n = int(input(\"Enter n \"))\n",
    "f1 = 0;\n",
    "f2 = 1;\n",
    "print(f1,f2,end=\" \")\n",
    "i=2\n",
    "while i <= n:\n",
    "    f3 = f1 + f2\n",
    "    print(f3,end=\" \")\n",
    "    f1 = f2\n",
    "    f2 = f3\n",
    "    i+=1"
   ]
  },
  {
   "cell_type": "code",
   "execution_count": 31,
   "metadata": {},
   "outputs": [
    {
     "name": "stdout",
     "output_type": "stream",
     "text": [
      "* \n",
      "* * \n",
      "* * * \n",
      "* * * * \n",
      "* * * * * \n"
     ]
    }
   ],
   "source": [
    "#Generating lower triangular pattern\n",
    "for i in range(0,5):\n",
    "    for j in range(0,i+1):\n",
    "        print(\"*\",end=\" \")\n",
    "    print()"
   ]
  },
  {
   "cell_type": "code",
   "execution_count": 45,
   "metadata": {},
   "outputs": [
    {
     "name": "stdout",
     "output_type": "stream",
     "text": [
      "enter n:5\n",
      "101\n"
     ]
    }
   ],
   "source": [
    "#Conversion of a decimal to binary\n",
    "n = int (input(\"enter n:\"))\n",
    "i=1\n",
    "s=0\n",
    "while n>0:\n",
    "    r =int(n%2)\n",
    "    s+=(i*r)\n",
    "    n/=2\n",
    "    i*=10\n",
    "print(s)\n",
    "    \n",
    "    "
   ]
  },
  {
   "cell_type": "code",
   "execution_count": null,
   "metadata": {},
   "outputs": [],
   "source": []
  }
 ],
 "metadata": {
  "kernelspec": {
   "display_name": "Python 3",
   "language": "python",
   "name": "python3"
  },
  "language_info": {
   "codemirror_mode": {
    "name": "ipython",
    "version": 3
   },
   "file_extension": ".py",
   "mimetype": "text/x-python",
   "name": "python",
   "nbconvert_exporter": "python",
   "pygments_lexer": "ipython3",
   "version": "3.7.4"
  }
 },
 "nbformat": 4,
 "nbformat_minor": 2
}
