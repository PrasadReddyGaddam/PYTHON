{
 "cells": [
  {
   "cell_type": "markdown",
   "metadata": {},
   "source": [
    "# Session 03-06-20"
   ]
  },
  {
   "cell_type": "markdown",
   "metadata": {},
   "source": [
    "# modules\n",
    " 1. PREDEFINED\n",
    " 2. USERDEFINED"
   ]
  },
  {
   "cell_type": "code",
   "execution_count": 1,
   "metadata": {},
   "outputs": [
    {
     "data": {
      "text/plain": [
       "'!\"#$%&\\'()*+,-./:;<=>?@[\\\\]^_`{|}~'"
      ]
     },
     "execution_count": 1,
     "metadata": {},
     "output_type": "execute_result"
    }
   ],
   "source": [
    "import string\n",
    "string.punctuation"
   ]
  },
  {
   "cell_type": "code",
   "execution_count": 2,
   "metadata": {},
   "outputs": [
    {
     "data": {
      "text/plain": [
       "'!\"#$%&\\'()*+,-./:;<=>?@[\\\\]^_`{|}~'"
      ]
     },
     "execution_count": 2,
     "metadata": {},
     "output_type": "execute_result"
    }
   ],
   "source": [
    "# providing alias name for a module\n",
    "import string as s   \n",
    "s.punctuation"
   ]
  },
  {
   "cell_type": "code",
   "execution_count": 11,
   "metadata": {},
   "outputs": [
    {
     "name": "stdout",
     "output_type": "stream",
     "text": [
      "!\"#$%&'()*+,-./:;<=>?@[\\]^_`{|}~\n",
      "0123456789\n"
     ]
    }
   ],
   "source": [
    "# for importing multiple function in module\n",
    "# if there is digit=10 then it gives 10 since it is local\n",
    "from string import digits,punctuation\n",
    "print(punctuation)\n",
    "print(digits)"
   ]
  },
  {
   "cell_type": "code",
   "execution_count": 13,
   "metadata": {},
   "outputs": [
    {
     "name": "stdout",
     "output_type": "stream",
     "text": [
      "!\"#$%&'()*+,-./:;<=>?@[\\]^_`{|}~\n",
      "0123456789\n"
     ]
    }
   ],
   "source": [
    "# for importing multiple function in module using(*)\n",
    "from string import *\n",
    "print(punctuation)\n",
    "print(digits)"
   ]
  },
  {
   "cell_type": "markdown",
   "metadata": {},
   "source": [
    "# userdefined modules"
   ]
  },
  {
   "cell_type": "code",
   "execution_count": 14,
   "metadata": {},
   "outputs": [
    {
     "name": "stdout",
     "output_type": "stream",
     "text": [
      "hi  prasad\n"
     ]
    }
   ],
   "source": [
    "#\n",
    "import operations\n",
    "operations.wish(\"prasad\")"
   ]
  },
  {
   "cell_type": "code",
   "execution_count": 15,
   "metadata": {},
   "outputs": [
    {
     "data": {
      "text/plain": [
       "5"
      ]
     },
     "execution_count": 15,
     "metadata": {},
     "output_type": "execute_result"
    }
   ],
   "source": [
    "import operations as o\n",
    "o.add(2,3)"
   ]
  },
  {
   "cell_type": "markdown",
   "metadata": {},
   "source": [
    "# Builtin libraries\n",
    "1. math\n",
    "2. statistics\n",
    "3. random"
   ]
  },
  {
   "cell_type": "code",
   "execution_count": 16,
   "metadata": {},
   "outputs": [
    {
     "data": {
      "text/plain": [
       "3628800"
      ]
     },
     "execution_count": 16,
     "metadata": {},
     "output_type": "execute_result"
    }
   ],
   "source": [
    "import math as m\n",
    "m.factorial(10)"
   ]
  },
  {
   "cell_type": "code",
   "execution_count": 20,
   "metadata": {},
   "outputs": [
    {
     "name": "stdout",
     "output_type": "stream",
     "text": [
      "153.93804002589985\n"
     ]
    }
   ],
   "source": [
    "# find area of circle using math\n",
    "def ar(r):\n",
    "    a=m.pi*r*r   # importing pi value\n",
    "    print(a)\n",
    "ar(7)"
   ]
  },
  {
   "cell_type": "code",
   "execution_count": 25,
   "metadata": {},
   "outputs": [
    {
     "name": "stdout",
     "output_type": "stream",
     "text": [
      "10.5\n",
      "10\n",
      "8\n"
     ]
    }
   ],
   "source": [
    "import statistics as s\n",
    "l = list(range(1,21))\n",
    "print(s.mean(l))\n",
    "l.append(8)\n",
    "print(s.median(l))\n",
    "print(s.mode(l))"
   ]
  },
  {
   "cell_type": "code",
   "execution_count": 26,
   "metadata": {},
   "outputs": [
    {
     "data": {
      "text/plain": [
       "5.792030649747898"
      ]
     },
     "execution_count": 26,
     "metadata": {},
     "output_type": "execute_result"
    }
   ],
   "source": [
    "s.stdev(l)"
   ]
  },
  {
   "cell_type": "code",
   "execution_count": 28,
   "metadata": {},
   "outputs": [
    {
     "data": {
      "text/plain": [
       "33.54761904761905"
      ]
     },
     "execution_count": 28,
     "metadata": {},
     "output_type": "execute_result"
    }
   ],
   "source": [
    "s.variance(l)"
   ]
  },
  {
   "cell_type": "markdown",
   "metadata": {},
   "source": [
    "## random\n",
    "1. randint        -> randint(start,stop)\n",
    "2. randrange      -> similar to above, stop is excluded\n",
    "3. random         -> random float value\n",
    "4. choice         -> random element in list\n",
    "5. choices(obj,k) ->random n elements in list ,k is mandatory"
   ]
  },
  {
   "cell_type": "code",
   "execution_count": 33,
   "metadata": {},
   "outputs": [
    {
     "name": "stdout",
     "output_type": "stream",
     "text": [
      "6\n",
      "15\n",
      "0.8882330763559176\n",
      "3\n",
      "[3, 2, 3]\n"
     ]
    }
   ],
   "source": [
    "import random as r\n",
    "print(r.randint(1,20))\n",
    "print(r.randrange(1,20)) # -->stop value is excluded\n",
    "print(r.random())\n",
    "l = [1,2,3]\n",
    "print(r.choice(l))\n",
    "print(r.choices(l,k=3))"
   ]
  },
  {
   "cell_type": "markdown",
   "metadata": {},
   "source": [
    "### OS\n",
    "1. mkdir\n",
    "2. rename\n",
    "3. remove\n",
    "- getcwd\n",
    "- listdir\n",
    "- chdir          ->change dir\n",
    "- rmdir          ->remove dir"
   ]
  },
  {
   "cell_type": "code",
   "execution_count": 34,
   "metadata": {},
   "outputs": [],
   "source": [
    "import os\n",
    "os.mkdir(\"sample\")"
   ]
  },
  {
   "cell_type": "code",
   "execution_count": 37,
   "metadata": {},
   "outputs": [
    {
     "name": "stdout",
     "output_type": "stream",
     "text": [
      "C:\\Users\\PRASAD REDDY\\Desktop\\Python\n",
      "['.git', '.ipynb_checkpoints', '01-06-20.ipynb', '02-06-20.ipynb', '03-06-20.ipynb', '27-05-20.ipynb', '28-05-2020.ipynb', '29-05-20.ipynb', '30-05-20.ipynb', 'Assignment-1(27-05-2020).ipynb', 'Assignment-2(28-05-2020).ipynb', 'Assignment-3(29-05-2020).ipynb', 'Assignment-4(30-05-20).ipynb', 'Assignment-5(01-06-20).ipynb', 'Assignment-6(02-06-20).ipynb', 'operations.py', 'PYTHON', 'sample', 'temp.docx', '__pycache__']\n"
     ]
    }
   ],
   "source": [
    "print(os.getcwd())\n",
    "print(os.listdir())"
   ]
  },
  {
   "cell_type": "code",
   "execution_count": 38,
   "metadata": {},
   "outputs": [],
   "source": [
    "os.rmdir(\"sample\")"
   ]
  },
  {
   "cell_type": "markdown",
   "metadata": {},
   "source": [
    "### NUMPY Packages:\n",
    "1. Operations related Numerics\n",
    "2. Computational operation"
   ]
  },
  {
   "cell_type": "code",
   "execution_count": 4,
   "metadata": {},
   "outputs": [
    {
     "name": "stdout",
     "output_type": "stream",
     "text": [
      "<class 'numpy.ndarray'> [1 2 3 4]\n"
     ]
    }
   ],
   "source": [
    "import numpy as np\n",
    "l = [1,2,3,4]\n",
    "a = np.array(l)\n",
    "print(type(a),a)         #array creation"
   ]
  },
  {
   "cell_type": "code",
   "execution_count": 46,
   "metadata": {},
   "outputs": [
    {
     "data": {
      "text/plain": [
       "[1, 2, 3, 4, 5, 6, 7, 8, 9, 10]"
      ]
     },
     "execution_count": 46,
     "metadata": {},
     "output_type": "execute_result"
    }
   ],
   "source": [
    "l1 = list(range(1,11))\n",
    "l1\n"
   ]
  },
  {
   "cell_type": "code",
   "execution_count": 48,
   "metadata": {},
   "outputs": [
    {
     "data": {
      "text/plain": [
       "array([1, 2, 3, 4])"
      ]
     },
     "execution_count": 48,
     "metadata": {},
     "output_type": "execute_result"
    }
   ],
   "source": [
    "arr = np.arange(1,10)\n",
    "a"
   ]
  },
  {
   "cell_type": "markdown",
   "metadata": {},
   "source": [
    " ### Difference between python list and numpy array\n",
    " 1. less memory\n",
    " 2. fast\n",
    " 3. covinient"
   ]
  },
  {
   "cell_type": "code",
   "execution_count": 13,
   "metadata": {},
   "outputs": [
    {
     "name": "stdout",
     "output_type": "stream",
     "text": [
      "24\n",
      "4000\n",
      "1000\n"
     ]
    }
   ],
   "source": [
    "import sys \n",
    "size = 1000\n",
    "li2 = list(range(size))\n",
    "print(sys.getsizeof(li2[0]*size))\n",
    "arr1 = np.arange(1000)\n",
    "print(arr1.itemsize*arr1.size)\n",
    "print(size)"
   ]
  },
  {
   "cell_type": "code",
   "execution_count": 14,
   "metadata": {},
   "outputs": [
    {
     "name": "stdout",
     "output_type": "stream",
     "text": [
      "time for lists: 0.0009965896606445312\n",
      "time for array: 0.002993345260620117\n"
     ]
    }
   ],
   "source": [
    "import time\n",
    "size= 20000\n",
    "list1 = list(range(size))\n",
    "list2 = list(range(size))\n",
    "start=time.time()\n",
    "result = [x+y for x,y in zip(list1,list2)]\n",
    "print(\"time for lists:\",time.time()-start)\n",
    "arr1 = np.arange(size)\n",
    "arr2 = np.arange(size)\n",
    "result =arr1+arr2\n",
    "print(\"time for array:\",time.time()-start)"
   ]
  },
  {
   "cell_type": "code",
   "execution_count": 15,
   "metadata": {},
   "outputs": [
    {
     "data": {
      "text/plain": [
       "[11, 13, 15, 27, 19]"
      ]
     },
     "execution_count": 15,
     "metadata": {},
     "output_type": "execute_result"
    }
   ],
   "source": [
    "l1 = [1,2,3,4,5]\n",
    "l2 =[10,11,12,23,14]\n",
    "result =[x+y for x,y in zip(l1,l2)]\n",
    "result"
   ]
  }
 ],
 "metadata": {
  "kernelspec": {
   "display_name": "Python 3",
   "language": "python",
   "name": "python3"
  },
  "language_info": {
   "codemirror_mode": {
    "name": "ipython",
    "version": 3
   },
   "file_extension": ".py",
   "mimetype": "text/x-python",
   "name": "python",
   "nbconvert_exporter": "python",
   "pygments_lexer": "ipython3",
   "version": "3.7.4"
  }
 },
 "nbformat": 4,
 "nbformat_minor": 2
}
