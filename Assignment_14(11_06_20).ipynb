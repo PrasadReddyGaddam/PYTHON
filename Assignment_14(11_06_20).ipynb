{
  "nbformat": 4,
  "nbformat_minor": 0,
  "metadata": {
    "colab": {
      "name": "Assignment-14(11-06-20).ipynb",
      "provenance": [],
      "authorship_tag": "ABX9TyNpjLi27MMi5TfiduIX015O",
      "include_colab_link": true
    },
    "kernelspec": {
      "name": "python3",
      "display_name": "Python 3"
    }
  },
  "cells": [
    {
      "cell_type": "markdown",
      "metadata": {
        "id": "view-in-github",
        "colab_type": "text"
      },
      "source": [
        "<a href=\"https://colab.research.google.com/github/PrasadReddyGaddam/PYTHON/blob/master/Assignment_14(11_06_20).ipynb\" target=\"_parent\"><img src=\"https://colab.research.google.com/assets/colab-badge.svg\" alt=\"Open In Colab\"/></a>"
      ]
    },
    {
      "cell_type": "markdown",
      "metadata": {
        "id": "KUkSSm-k36pb",
        "colab_type": "text"
      },
      "source": [
        "**CSE-221710301019-GADDAM PRASAD REDDY**"
      ]
    },
    {
      "cell_type": "code",
      "metadata": {
        "id": "7RsaN8sE37QP",
        "colab_type": "code",
        "outputId": "09b9aa32-d5cf-4ff6-a8af-fec044c20b70",
        "colab": {
          "base_uri": "https://localhost:8080/",
          "height": 173
        }
      },
      "source": [
        "#1. Chefs string\n",
        "def l(x):return x[1:]+x[0]\n",
        "def r(x):return x[-1]+x[0:len(x)-1]\n",
        "n = int(input())\n",
        "list1 = [input() for i in range(n)]\n",
        "for x in list1:\n",
        "  print(\"YES\") if l(x)==r(x) else print(\"NO\")"
      ],
      "execution_count": 0,
      "outputs": [
        {
          "output_type": "stream",
          "text": [
            "4\n",
            "a\n",
            "aa\n",
            "abcd\n",
            "bcds\n",
            "YES\n",
            "YES\n",
            "NO\n",
            "NO\n"
          ],
          "name": "stdout"
        }
      ]
    },
    {
      "cell_type": "code",
      "metadata": {
        "id": "fiUn3q2t4GJB",
        "colab_type": "code",
        "outputId": "98d53115-2657-4e41-d550-2aacb1b5ccae",
        "colab": {
          "base_uri": "https://localhost:8080/",
          "height": 52
        }
      },
      "source": [
        "#2.Beautiful days at movies\n",
        "i,j,k = [int(x) for x in input().split()]\n",
        "c = [1 for z in range(i,j+1) if (z-int(str(z)[::-1]))%k == 0 ]\n",
        "sum(c)"
      ],
      "execution_count": 8,
      "outputs": [
        {
          "output_type": "stream",
          "text": [
            "20 23 6\n"
          ],
          "name": "stdout"
        },
        {
          "output_type": "execute_result",
          "data": {
            "text/plain": [
              "2"
            ]
          },
          "metadata": {
            "tags": []
          },
          "execution_count": 8
        }
      ]
    },
    {
      "cell_type": "code",
      "metadata": {
        "id": "dqfGD5hm4SjT",
        "colab_type": "code",
        "outputId": "04d12ab2-c8a2-4d46-b5db-99f495723e9f",
        "colab": {
          "base_uri": "https://localhost:8080/",
          "height": 139
        }
      },
      "source": [
        "#3.Birthday candles count\n",
        "n = int(input())\n",
        "l = [int(input(x)) for x in range(n)]\n",
        "print()\n",
        "l.count(max(l))\n"
      ],
      "execution_count": 11,
      "outputs": [
        {
          "output_type": "stream",
          "text": [
            "4\n",
            "3\n",
            "12\n",
            "21\n",
            "33\n",
            "\n"
          ],
          "name": "stdout"
        },
        {
          "output_type": "execute_result",
          "data": {
            "text/plain": [
              "2"
            ]
          },
          "metadata": {
            "tags": []
          },
          "execution_count": 11
        }
      ]
    },
    {
      "cell_type": "code",
      "metadata": {
        "id": "CS1G_3_I5XsF",
        "colab_type": "code",
        "outputId": "cd89ecc1-a103-42ee-d502-801480a508e5",
        "colab": {
          "base_uri": "https://localhost:8080/",
          "height": 52
        }
      },
      "source": [
        "#4.For a given positive number num,identify the palindrome formed by performing the following operations\n",
        "#Add num and its reverse\n",
        "#Check whether the sum is palindrome or not.\n",
        "#If not,add the sum and its reverse and repeat the process until a palindrome is obtained.\n",
        "n = int(input())\n",
        "rev = int(str(n)[::-1])\n",
        "if(n==rev):\n",
        "  print(n)\n",
        "while n != rev:\n",
        "  n += rev \n",
        "  rev = int(str(n)[::-1])\n",
        "print(n)"
      ],
      "execution_count": 6,
      "outputs": [
        {
          "output_type": "stream",
          "text": [
            "195\n",
            "9339\n"
          ],
          "name": "stdout"
        }
      ]
    },
    {
      "cell_type": "code",
      "metadata": {
        "id": "G16VJrTW6KAm",
        "colab_type": "code",
        "colab": {
          "base_uri": "https://localhost:8080/",
          "height": 52
        },
        "outputId": "6353fcef-9fe3-4c4e-ad04-5d1dd9c5b603"
      },
      "source": [
        "#5.\n",
        "z = [int(x) for x in input().split(\",\")]\n",
        "l = len(z)\n",
        "list1 = []\n",
        "for i in range(0,l):\n",
        "  for j in range(0,l):\n",
        "    for k in range(0,l):\n",
        "      if(i!=j & j!=k & k!=i):\n",
        "        list1.append(z[i]*100 + z[j]*10 + z[k])\n",
        "print(max(list1),\",\",len(list1),sep='')"
      ],
      "execution_count": 44,
      "outputs": [
        {
          "output_type": "stream",
          "text": [
            "1,2,1\n",
            "211,6\n"
          ],
          "name": "stdout"
        }
      ]
    },
    {
      "cell_type": "code",
      "metadata": {
        "id": "FT5ElVZMopjk",
        "colab_type": "code",
        "colab": {
          "base_uri": "https://localhost:8080/",
          "height": 139
        },
        "outputId": "31acd822-9911-4ba7-f302-b948e2741a2e"
      },
      "source": [
        "6.# Contigious set  \n",
        "t=int(input())\n",
        "while t:\n",
        "    a=input().split()\n",
        "    n=int(a[0])\n",
        "    k=int(a[1])\n",
        "    lst=input().split()\n",
        "    for i in range(n):\n",
        "        lst[i] = int(lst[i])\n",
        "    greater = 0\n",
        "    length=0\n",
        "    pos = -1\n",
        "    allTimeLong=0\n",
        "    for i in range(n):\n",
        "        if lst[i]>k and greater!=0 and lst[i]!=greater:\n",
        "            greater = lst[i]\n",
        "            if allTimeLong<length:\n",
        "                allTimeLong=length\n",
        "            length = i - pos\n",
        "            pos=i\n",
        "            continue\n",
        "        elif lst[i]>k:\n",
        "            greater = lst[i]\n",
        "            pos=i\n",
        "        length+=1\n",
        "    if allTimeLong<length:\n",
        "        allTimeLong=length\n",
        "    t-=1\n",
        "    print(allTimeLong)"
      ],
      "execution_count": 45,
      "outputs": [
        {
          "output_type": "stream",
          "text": [
            "2 \n",
            "5 3\n",
            "2 4 2 4 2\n",
            "5\n",
            "8 5\n",
            "9 3 5 7 8 11 17 2\n",
            "3\n"
          ],
          "name": "stdout"
        }
      ]
    },
    {
      "cell_type": "code",
      "metadata": {
        "id": "l3B8JiC_v0ZZ",
        "colab_type": "code",
        "colab": {}
      },
      "source": [
        ""
      ],
      "execution_count": 0,
      "outputs": []
    }
  ]
}