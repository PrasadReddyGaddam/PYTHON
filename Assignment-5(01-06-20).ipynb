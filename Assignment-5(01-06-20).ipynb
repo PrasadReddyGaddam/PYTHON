{
 "cells": [
  {
   "cell_type": "markdown",
   "metadata": {},
   "source": [
    "# CSE-221710301019-PRASADREDDY"
   ]
  },
  {
   "cell_type": "markdown",
   "metadata": {},
   "source": [
    "``` CREATING A STRONG PASSWORD```"
   ]
  },
  {
   "cell_type": "code",
   "execution_count": 4,
   "metadata": {},
   "outputs": [
    {
     "name": "stdout",
     "output_type": "stream",
     "text": [
      "Braveuranus43:\n",
      "Enter 'y' for another password: y\n",
      "Fairpluto72+\n",
      "Enter 'y' for another password: y\n",
      "Magnificentmoon11%\n",
      "Enter 'y' for another password: y\n",
      "Brightmoon13%\n",
      "Enter 'y' for another password: y\n",
      "Faithfulvenus82~\n",
      "Enter 'y' for another password: y\n",
      "Goodsun78{\n",
      "Enter 'y' for another password: y\n",
      "Faithfulneptune83<\n",
      "Enter 'y' for another password: y\n",
      "Fairjupiter62'\n",
      "Enter 'y' for another password: y\n",
      "Faithfulsaturn76-\n",
      "Enter 'y' for another password: y\n",
      "Breakablesaturn4,\n",
      "Enter 'y' for another password: y\n",
      "Fairuranus18@\n",
      "Enter 'y' for another password: y\n",
      "Fairmars8:\n",
      "Enter 'y' for another password: y\n",
      "Magnificentvenus15`\n",
      "Enter 'y' for another password: y\n",
      "Brightjupiter12>\n",
      "Enter 'y' for another password: y\n",
      "Goodjupiter83,\n",
      "Enter 'y' for another password: y\n",
      "Faithfulsaturn54\"\n",
      "Enter 'y' for another password: y\n",
      "Faithfulsaturn98}\n",
      "Enter 'y' for another password: y\n",
      "Betterpluto86-\n",
      "Enter 'y' for another password: no\n"
     ]
    }
   ],
   "source": [
    "import random\n",
    "import string\n",
    "adj = [\"Brave\",\"Fair\",\"Magnificent\",\"Breakable\",\"Faithful\",\"Misty\",\"Bright\",\"Good\",\"Better\",\"Best\"]\n",
    "noun = [\"sun\",\"moon\",\"earth\",\"venus\",\"mars\",\"jupiter\",\"saturn\",\"uranus\",\"neptune\",\"pluto\"]\n",
    "n = \"y\"\n",
    "while n == \"y\":\n",
    "    p1 = random.choice(adj)\n",
    "    p2 = random.choice(noun)\n",
    "    p3 = random.randint(0,100)\n",
    "    p  = string.punctuation\n",
    "    p4 = random.choice(p)\n",
    "    print(p1+p2+str(p3)+p4)\n",
    "    n = input(\"Enter 'y' for another password: \")"
   ]
  }
 ],
 "metadata": {
  "kernelspec": {
   "display_name": "Python 3",
   "language": "python",
   "name": "python3"
  },
  "language_info": {
   "codemirror_mode": {
    "name": "ipython",
    "version": 3
   },
   "file_extension": ".py",
   "mimetype": "text/x-python",
   "name": "python",
   "nbconvert_exporter": "python",
   "pygments_lexer": "ipython3",
   "version": "3.7.4"
  }
 },
 "nbformat": 4,
 "nbformat_minor": 2
}
