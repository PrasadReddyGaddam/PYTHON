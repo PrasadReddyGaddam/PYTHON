{
 "cells": [
  {
   "cell_type": "markdown",
   "metadata": {},
   "source": [
    "```1. Count the no.of words,no.of letters,no.of lines available in your file```"
   ]
  },
  {
   "cell_type": "markdown",
   "metadata": {},
   "source": [
    "# CSE-221710301019-PRASADREDDY"
   ]
  },
  {
   "cell_type": "code",
   "execution_count": 4,
   "metadata": {},
   "outputs": [
    {
     "name": "stdout",
     "output_type": "stream",
     "text": [
      "Hello everyone\n",
      "welcome to the session \n",
      "Python pr0gramming\n",
      "Todays topics are inbuilt functions of lists\n",
      "\n",
      "Total no of characters: 102\n",
      "Total no of words: 16\n",
      "Total no of lines: 4\n"
     ]
    }
   ],
   "source": [
    "f = open(\"file1.txt\",\"r\")\n",
    "x = f.read()\n",
    "print(x)\n",
    "c = 0\n",
    "w = 0\n",
    "l = 0\n",
    "for i in x:\n",
    "    c += 1\n",
    "    if i == '\\n':\n",
    "        l += 1\n",
    "    elif i == \" \":\n",
    "        w+=1\n",
    "print()\n",
    "print(\"Total no of characters:\",c)\n",
    "print(\"Total no of words:\",w+l+1)\n",
    "print(\"Total no of lines:\",l+1)"
   ]
  },
  {
   "cell_type": "markdown",
   "metadata": {},
   "source": [
    "```2. Copy the content of one file to another```"
   ]
  },
  {
   "cell_type": "markdown",
   "metadata": {},
   "source": [
    "```3. Display the words starting with letter 'p```"
   ]
  },
  {
   "cell_type": "code",
   "execution_count": 13,
   "metadata": {},
   "outputs": [
    {
     "name": "stdout",
     "output_type": "stream",
     "text": [
      "prasad\n",
      "person\n"
     ]
    }
   ],
   "source": [
    "l = [\"prasad\",\"reddy\",\"person\"]\n",
    "for i in l:\n",
    "    if str(i).startswith(\"p\"):\n",
    "        print(i)"
   ]
  },
  {
   "cell_type": "markdown",
   "metadata": {},
   "source": [
    "```4. Rename and remove files```"
   ]
  },
  {
   "cell_type": "code",
   "execution_count": 14,
   "metadata": {},
   "outputs": [],
   "source": [
    "f=open(\"ss.txt\",\"w\")\n",
    "f.write(\"hello everyone\")           # file creation\n",
    "f.close()"
   ]
  },
  {
   "cell_type": "code",
   "execution_count": 21,
   "metadata": {},
   "outputs": [
    {
     "name": "stdout",
     "output_type": "stream",
     "text": [
      "Hello everyone\n",
      "welcome to the session \n",
      "Python pr0gramming\n",
      "Todays topics are inbuilt functions of lists\n"
     ]
    }
   ],
   "source": [
    "with open(\"file1.txt\",\"r\") as f:\n",
    "    with open(\"file2.txt\",\"w\") as f2:\n",
    "        for line in f:\n",
    "            f2.write(line)\n",
    "a = open(\"file2.txt\",\"r\")\n",
    "print(a.read())\n",
    "a.close()"
   ]
  },
  {
   "cell_type": "code",
   "execution_count": 15,
   "metadata": {},
   "outputs": [],
   "source": [
    "import os\n",
    "os.rename( \"ss.txt\", \"doc.txt\" )    # renaming"
   ]
  },
  {
   "cell_type": "code",
   "execution_count": 16,
   "metadata": {},
   "outputs": [
    {
     "name": "stdout",
     "output_type": "stream",
     "text": [
      "hello everyone\n"
     ]
    }
   ],
   "source": [
    "f=open(\"doc.txt\",\"r\")\n",
    "data=f.read()                       # displaying \n",
    "print(data)  \n",
    "f.close()"
   ]
  },
  {
   "cell_type": "code",
   "execution_count": 17,
   "metadata": {},
   "outputs": [],
   "source": [
    "import os\n",
    "os.remove(\"doc.txt\")                # removing"
   ]
  },
  {
   "cell_type": "markdown",
   "metadata": {},
   "source": [
    "```5. Create a folder \n",
    "Goto that folder and create 5 no.of files\n",
    "All the file names should be unique\n",
    "Add some content into the file and the content in all the files should be unique\n",
    "File size should be 512bits ```"
   ]
  },
  {
   "cell_type": "code",
   "execution_count": 2,
   "metadata": {},
   "outputs": [],
   "source": [
    "\n",
    "import os\n",
    "import string\n",
    "import random\n",
    "os.mkdir(\"intern\")\n",
    "for i in range(1,6):\n",
    "    file_name = \"C:\\\\Users\\\\PRASAD REDDY\\\\Desktop\\\\Python\\\\intern\\\\file%d\"%(i)\n",
    "    f = open(file_name,\"a\")\n",
    "    data =\" \"\n",
    "    for i in range(512):\n",
    "        data = data + random.choice(string.ascii_letters)\n",
    "    f.write(data)\n",
    "    f.close()"
   ]
  },
  {
   "cell_type": "code",
   "execution_count": null,
   "metadata": {},
   "outputs": [],
   "source": []
  }
 ],
 "metadata": {
  "kernelspec": {
   "display_name": "Python 3",
   "language": "python",
   "name": "python3"
  },
  "language_info": {
   "codemirror_mode": {
    "name": "ipython",
    "version": 3
   },
   "file_extension": ".py",
   "mimetype": "text/x-python",
   "name": "python",
   "nbconvert_exporter": "python",
   "pygments_lexer": "ipython3",
   "version": "3.7.4"
  }
 },
 "nbformat": 4,
 "nbformat_minor": 2
}
