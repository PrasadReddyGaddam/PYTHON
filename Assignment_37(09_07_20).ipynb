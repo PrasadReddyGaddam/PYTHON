{
  "nbformat": 4,
  "nbformat_minor": 0,
  "metadata": {
    "colab": {
      "name": "Assignment-37(09-07-20).ipynb",
      "provenance": [],
      "authorship_tag": "ABX9TyOTMMpy5zn+rTTz0XTCRghW",
      "include_colab_link": true
    },
    "kernelspec": {
      "name": "python3",
      "display_name": "Python 3"
    }
  },
  "cells": [
    {
      "cell_type": "markdown",
      "metadata": {
        "id": "view-in-github",
        "colab_type": "text"
      },
      "source": [
        "<a href=\"https://colab.research.google.com/github/PrasadReddyGaddam/PYTHON/blob/master/Assignment_37(09_07_20).ipynb\" target=\"_parent\"><img src=\"https://colab.research.google.com/assets/colab-badge.svg\" alt=\"Open In Colab\"/></a>"
      ]
    },
    {
      "cell_type": "markdown",
      "metadata": {
        "id": "7tZJwVXS2mtm",
        "colab_type": "text"
      },
      "source": [
        "**CSE-221710301019-PRASAD REDDY**"
      ]
    },
    {
      "cell_type": "markdown",
      "metadata": {
        "id": "okNa5SzO3Gse",
        "colab_type": "text"
      },
      "source": [
        "# Handwritten digit recognition"
      ]
    },
    {
      "cell_type": "markdown",
      "metadata": {
        "id": "YrhUNymb3JsV",
        "colab_type": "text"
      },
      "source": [
        "## Data Collection"
      ]
    },
    {
      "cell_type": "markdown",
      "metadata": {
        "id": "V913jKTc3REm",
        "colab_type": "text"
      },
      "source": [
        "### Importing required packages"
      ]
    },
    {
      "cell_type": "code",
      "metadata": {
        "id": "QAJGwQa62oBr",
        "colab_type": "code",
        "colab": {}
      },
      "source": [
        "import numpy as np\n",
        "import pandas as pd\n",
        "import tensorflow as tf\n",
        "import tensorflow.keras as keras\n",
        "import matplotlib.pyplot as plt\n",
        "%matplotlib inline"
      ],
      "execution_count": 1,
      "outputs": []
    },
    {
      "cell_type": "markdown",
      "metadata": {
        "id": "auMFL5zL3Wws",
        "colab_type": "text"
      },
      "source": [
        "### Loading MNSIT Dataset"
      ]
    },
    {
      "cell_type": "code",
      "metadata": {
        "id": "CRlKfIte2_YG",
        "colab_type": "code",
        "colab": {
          "base_uri": "https://localhost:8080/",
          "height": 35
        },
        "outputId": "fc2409ae-5f95-44b5-ee43-fb12561a3e43"
      },
      "source": [
        "from keras.datasets.mnist import load_data"
      ],
      "execution_count": 2,
      "outputs": [
        {
          "output_type": "stream",
          "text": [
            "Using TensorFlow backend.\n"
          ],
          "name": "stderr"
        }
      ]
    },
    {
      "cell_type": "code",
      "metadata": {
        "id": "Hd-lJFn63jhA",
        "colab_type": "code",
        "colab": {
          "base_uri": "https://localhost:8080/",
          "height": 52
        },
        "outputId": "a3ffa1c0-acd3-4889-b2fa-3edaee6cc972"
      },
      "source": [
        "## load_data -- return value is two tuples train,test\n",
        "(train_digits,train_labels),(test_digits,test_labels) = load_data()\n",
        "print(train_digits.shape)\n",
        "print(test_digits.shape)"
      ],
      "execution_count": 3,
      "outputs": [
        {
          "output_type": "stream",
          "text": [
            "(60000, 28, 28)\n",
            "(10000, 28, 28)\n"
          ],
          "name": "stdout"
        }
      ]
    },
    {
      "cell_type": "markdown",
      "metadata": {
        "id": "Ksivxcqe4aFl",
        "colab_type": "text"
      },
      "source": [
        "- There are 600000 images in training and 10000 images in test data"
      ]
    },
    {
      "cell_type": "markdown",
      "metadata": {
        "id": "-YQXhq9K5HRw",
        "colab_type": "text"
      },
      "source": [
        "- there are 0-9 a total of 10 classes"
      ]
    },
    {
      "cell_type": "markdown",
      "metadata": {
        "id": "dwPgruaM5elb",
        "colab_type": "text"
      },
      "source": [
        "### Image count for each label in train data"
      ]
    },
    {
      "cell_type": "code",
      "metadata": {
        "id": "U_M02O8p4KkZ",
        "colab_type": "code",
        "colab": {
          "base_uri": "https://localhost:8080/",
          "height": 208
        },
        "outputId": "fdb28f95-80d9-41d2-df4e-971ca5c258c8"
      },
      "source": [
        "pd.Series(train_labels).value_counts()"
      ],
      "execution_count": 4,
      "outputs": [
        {
          "output_type": "execute_result",
          "data": {
            "text/plain": [
              "1    6742\n",
              "7    6265\n",
              "3    6131\n",
              "2    5958\n",
              "9    5949\n",
              "0    5923\n",
              "6    5918\n",
              "8    5851\n",
              "4    5842\n",
              "5    5421\n",
              "dtype: int64"
            ]
          },
          "metadata": {
            "tags": []
          },
          "execution_count": 4
        }
      ]
    },
    {
      "cell_type": "markdown",
      "metadata": {
        "id": "nwG_t2LV5myg",
        "colab_type": "text"
      },
      "source": [
        "### Image count for each label in test data"
      ]
    },
    {
      "cell_type": "code",
      "metadata": {
        "id": "a76x_Wx04rU3",
        "colab_type": "code",
        "colab": {
          "base_uri": "https://localhost:8080/",
          "height": 208
        },
        "outputId": "73a8853d-a189-4f35-ba42-69fd15ed2c6e"
      },
      "source": [
        "pd.Series(test_labels).value_counts()"
      ],
      "execution_count": 5,
      "outputs": [
        {
          "output_type": "execute_result",
          "data": {
            "text/plain": [
              "1    1135\n",
              "2    1032\n",
              "7    1028\n",
              "3    1010\n",
              "9    1009\n",
              "4     982\n",
              "0     980\n",
              "8     974\n",
              "6     958\n",
              "5     892\n",
              "dtype: int64"
            ]
          },
          "metadata": {
            "tags": []
          },
          "execution_count": 5
        }
      ]
    },
    {
      "cell_type": "code",
      "metadata": {
        "id": "yXk1dNLs6SHP",
        "colab_type": "code",
        "colab": {
          "base_uri": "https://localhost:8080/",
          "height": 52
        },
        "outputId": "6d38df95-67f3-405f-ffa2-d5fda2a5e30c"
      },
      "source": [
        "samples = np.random.randint(train_digits.shape[0],size=16)\n",
        "samples"
      ],
      "execution_count": 6,
      "outputs": [
        {
          "output_type": "execute_result",
          "data": {
            "text/plain": [
              "array([36065, 57110, 29342, 14021, 14681, 23197, 10377, 35541, 47000,\n",
              "       17025, 47375, 51950, 48641, 11424, 51707,  5966])"
            ]
          },
          "metadata": {
            "tags": []
          },
          "execution_count": 6
        }
      ]
    },
    {
      "cell_type": "code",
      "metadata": {
        "id": "vZ5p9amG5uRM",
        "colab_type": "code",
        "colab": {
          "base_uri": "https://localhost:8080/",
          "height": 645
        },
        "outputId": "c5bd11ce-703b-4218-a5db-38a898dbdb03"
      },
      "source": [
        "plt.figure(figsize=(16,16))\n",
        "j = 1\n",
        "for i in samples:\n",
        "  plt.subplot(4,4,j)\n",
        "  plt.imshow(train_digits[i],cmap='gray')\n",
        "  plt.title(\"Digit: \"+str(train_labels[i]))\n",
        "  plt.axis('off')\n",
        "  j += 1"
      ],
      "execution_count": 7,
      "outputs": [
        {
          "output_type": "display_data",
          "data": {
            "image/png": "[encoded data removed]",
            "text/plain": [
              "<Figure size 1152x1152 with 16 Axes>"
            ]
          },
          "metadata": {
            "tags": [],
            "needs_background": "light"
          }
        }
      ]
    },
    {
      "cell_type": "code",
      "metadata": {
        "id": "8763C4Jc6hfa",
        "colab_type": "code",
        "colab": {
          "base_uri": "https://localhost:8080/",
          "height": 635
        },
        "outputId": "61917ed3-0c50-4135-acff-dbc09ad62880"
      },
      "source": [
        "plt.figure(figsize=(16,16))\n",
        "j = 1\n",
        "for i in samples:\n",
        "  plt.subplot(4,4,j)\n",
        "  plt.hist(train_digits[i].flat)\n",
        "  plt.title(\"Digit: \"+str(train_labels[i]))\n",
        "  #plt.axis('off')\n",
        "  j += 1"
      ],
      "execution_count": 8,
      "outputs": [
        {
          "output_type": "display_data",
          "data": {
            "image/png": "[encoded data removed]",
            "text/plain": [
              "<Figure size 1152x1152 with 16 Axes>"
            ]
          },
          "metadata": {
            "tags": [],
            "needs_background": "light"
          }
        }
      ]
    },
    {
      "cell_type": "markdown",
      "metadata": {
        "id": "UCSrMyh4683q",
        "colab_type": "text"
      },
      "source": [
        "### Preprocessing"
      ]
    },
    {
      "cell_type": "markdown",
      "metadata": {
        "id": "wCt4q7FZ6_fl",
        "colab_type": "text"
      },
      "source": [
        " - Scaling "
      ]
    },
    {
      "cell_type": "code",
      "metadata": {
        "id": "7nUOdoXe6nYE",
        "colab_type": "code",
        "colab": {}
      },
      "source": [
        "## pixel values are from 0 to 255\n",
        "train_digits_sc =  train_digits/255.0\n",
        "test_digits_sc = test_digits/255.0"
      ],
      "execution_count": 9,
      "outputs": []
    },
    {
      "cell_type": "markdown",
      "metadata": {
        "id": "ytErgCF87aUL",
        "colab_type": "text"
      },
      "source": [
        "  - Convert labels into categorical values"
      ]
    },
    {
      "cell_type": "code",
      "metadata": {
        "id": "KguPyJ2F7GtE",
        "colab_type": "code",
        "colab": {
          "base_uri": "https://localhost:8080/",
          "height": 35
        },
        "outputId": "84d64601-f905-4597-90f0-937d8d6b973d"
      },
      "source": [
        "train_labels"
      ],
      "execution_count": 10,
      "outputs": [
        {
          "output_type": "execute_result",
          "data": {
            "text/plain": [
              "array([5, 0, 4, ..., 5, 6, 8], dtype=uint8)"
            ]
          },
          "metadata": {
            "tags": []
          },
          "execution_count": 10
        }
      ]
    },
    {
      "cell_type": "code",
      "metadata": {
        "id": "kHNBxT0w7KIb",
        "colab_type": "code",
        "colab": {}
      },
      "source": [
        "from keras.utils import to_categorical\n",
        "train_labels_cat = to_categorical(train_labels)"
      ],
      "execution_count": 11,
      "outputs": []
    },
    {
      "cell_type": "code",
      "metadata": {
        "id": "i0jHOHJe8FmP",
        "colab_type": "code",
        "colab": {
          "base_uri": "https://localhost:8080/",
          "height": 35
        },
        "outputId": "388409e7-351c-4b8e-b118-3e284d296019"
      },
      "source": [
        "train_labels_cat[1]"
      ],
      "execution_count": 12,
      "outputs": [
        {
          "output_type": "execute_result",
          "data": {
            "text/plain": [
              "array([1., 0., 0., 0., 0., 0., 0., 0., 0., 0.], dtype=float32)"
            ]
          },
          "metadata": {
            "tags": []
          },
          "execution_count": 12
        }
      ]
    },
    {
      "cell_type": "code",
      "metadata": {
        "id": "oMY1QDvt8IRv",
        "colab_type": "code",
        "colab": {
          "base_uri": "https://localhost:8080/",
          "height": 35
        },
        "outputId": "841e444e-638a-4ad2-c0b8-9f42b7a80cba"
      },
      "source": [
        "test_labels_cat = to_categorical(test_labels)\n",
        "test_labels_cat[9]"
      ],
      "execution_count": 13,
      "outputs": [
        {
          "output_type": "execute_result",
          "data": {
            "text/plain": [
              "array([0., 0., 0., 0., 0., 0., 0., 0., 0., 1.], dtype=float32)"
            ]
          },
          "metadata": {
            "tags": []
          },
          "execution_count": 13
        }
      ]
    },
    {
      "cell_type": "code",
      "metadata": {
        "id": "-XEi7BVg8UVt",
        "colab_type": "code",
        "colab": {
          "base_uri": "https://localhost:8080/",
          "height": 87
        },
        "outputId": "5bd67a58-3f95-4fc6-fe12-370e88311178"
      },
      "source": [
        "from sklearn.model_selection import train_test_split\n",
        "X_train,X_test,y_train,y_test = train_test_split(train_digits_sc,train_labels_cat,test_size=0.1,random_state=2)\n",
        "print(X_train.shape)\n",
        "print(X_test.shape)\n",
        "print(y_train.shape)\n",
        "print(y_test.shape)"
      ],
      "execution_count": 14,
      "outputs": [
        {
          "output_type": "stream",
          "text": [
            "(54000, 28, 28)\n",
            "(6000, 28, 28)\n",
            "(54000, 10)\n",
            "(6000, 10)\n"
          ],
          "name": "stdout"
        }
      ]
    },
    {
      "cell_type": "markdown",
      "metadata": {
        "id": "MgeRxqAn9i9W",
        "colab_type": "text"
      },
      "source": [
        "- Importing required methods"
      ]
    },
    {
      "cell_type": "code",
      "metadata": {
        "id": "lYZd7Ec69XnR",
        "colab_type": "code",
        "colab": {}
      },
      "source": [
        "from keras.models import Sequential\n",
        "from keras.layers import Dense,Flatten"
      ],
      "execution_count": 15,
      "outputs": []
    },
    {
      "cell_type": "markdown",
      "metadata": {
        "id": "nYUD7OwP9udr",
        "colab_type": "text"
      },
      "source": [
        "# MODEL 1"
      ]
    },
    {
      "cell_type": "code",
      "metadata": {
        "id": "Z5Fw5lET9hxy",
        "colab_type": "code",
        "colab": {
          "base_uri": "https://localhost:8080/",
          "height": 329
        },
        "outputId": "c9c8a0b1-0806-4b39-8e29-353de3b5a4f5"
      },
      "source": [
        "# we are creating a base model\n",
        "model = Sequential()\n",
        "#first layer\n",
        "model.add(Flatten(input_shape=(28,28)))\n",
        "# 784 pixel values as input to this Dense\n",
        "model.add(Dense(128,activation=\"relu\"))\n",
        "model.add(Dense(128,activation=\"relu\"))\n",
        "model.add(Dense(64,activation=\"relu\"))\n",
        "#final layer\n",
        "model.add(Dense(10,activation=\"softmax\"))\n",
        "model.summary()"
      ],
      "execution_count": 16,
      "outputs": [
        {
          "output_type": "stream",
          "text": [
            "Model: \"sequential_1\"\n",
            "_________________________________________________________________\n",
            "Layer (type)                 Output Shape              Param #   \n",
            "=================================================================\n",
            "flatten_1 (Flatten)          (None, 784)               0         \n",
            "_________________________________________________________________\n",
            "dense_1 (Dense)              (None, 128)               100480    \n",
            "_________________________________________________________________\n",
            "dense_2 (Dense)              (None, 128)               16512     \n",
            "_________________________________________________________________\n",
            "dense_3 (Dense)              (None, 64)                8256      \n",
            "_________________________________________________________________\n",
            "dense_4 (Dense)              (None, 10)                650       \n",
            "=================================================================\n",
            "Total params: 125,898\n",
            "Trainable params: 125,898\n",
            "Non-trainable params: 0\n",
            "_________________________________________________________________\n"
          ],
          "name": "stdout"
        }
      ]
    },
    {
      "cell_type": "markdown",
      "metadata": {
        "id": "JtodNIEa_fjH",
        "colab_type": "text"
      },
      "source": [
        "### Compile the model"
      ]
    },
    {
      "cell_type": "code",
      "metadata": {
        "id": "eRx1WXS4-teL",
        "colab_type": "code",
        "colab": {}
      },
      "source": [
        "model.compile(optimizer=\"adam\",loss=tf.keras.losses.CategoricalCrossentropy(),metrics=[\"accuracy\"])"
      ],
      "execution_count": 17,
      "outputs": []
    },
    {
      "cell_type": "markdown",
      "metadata": {
        "id": "psq3wREq_hWY",
        "colab_type": "text"
      },
      "source": [
        "### Train the model"
      ]
    },
    {
      "cell_type": "code",
      "metadata": {
        "id": "8oWaxXRk_Zln",
        "colab_type": "code",
        "colab": {
          "base_uri": "https://localhost:8080/",
          "height": 401
        },
        "outputId": "96071178-d2a7-44f5-a1e8-55ce8f358430"
      },
      "source": [
        "history = model.fit(x=X_train,y=y_train,epochs=10,validation_data=(X_test,y_test),batch_size=32)"
      ],
      "execution_count": 18,
      "outputs": [
        {
          "output_type": "stream",
          "text": [
            "Train on 54000 samples, validate on 6000 samples\n",
            "Epoch 1/10\n",
            "54000/54000 [==============================] - 6s 108us/step - loss: 0.2408 - accuracy: 0.9262 - val_loss: 0.1620 - val_accuracy: 0.9465\n",
            "Epoch 2/10\n",
            "54000/54000 [==============================] - 6s 102us/step - loss: 0.1031 - accuracy: 0.9684 - val_loss: 0.0945 - val_accuracy: 0.9705\n",
            "Epoch 3/10\n",
            "54000/54000 [==============================] - 6s 103us/step - loss: 0.0736 - accuracy: 0.9767 - val_loss: 0.1116 - val_accuracy: 0.9670\n",
            "Epoch 4/10\n",
            "54000/54000 [==============================] - 6s 103us/step - loss: 0.0561 - accuracy: 0.9815 - val_loss: 0.1093 - val_accuracy: 0.9683\n",
            "Epoch 5/10\n",
            "54000/54000 [==============================] - 5s 102us/step - loss: 0.0470 - accuracy: 0.9850 - val_loss: 0.0864 - val_accuracy: 0.9743\n",
            "Epoch 6/10\n",
            "54000/54000 [==============================] - 6s 102us/step - loss: 0.0397 - accuracy: 0.9870 - val_loss: 0.0945 - val_accuracy: 0.9738\n",
            "Epoch 7/10\n",
            "54000/54000 [==============================] - 6s 103us/step - loss: 0.0313 - accuracy: 0.9902 - val_loss: 0.0919 - val_accuracy: 0.9752\n",
            "Epoch 8/10\n",
            "54000/54000 [==============================] - 5s 101us/step - loss: 0.0297 - accuracy: 0.9901 - val_loss: 0.0891 - val_accuracy: 0.9778\n",
            "Epoch 9/10\n",
            "54000/54000 [==============================] - 6s 104us/step - loss: 0.0271 - accuracy: 0.9913 - val_loss: 0.0968 - val_accuracy: 0.9738\n",
            "Epoch 10/10\n",
            "54000/54000 [==============================] - 6s 103us/step - loss: 0.0215 - accuracy: 0.9927 - val_loss: 0.0945 - val_accuracy: 0.9758\n"
          ],
          "name": "stdout"
        }
      ]
    },
    {
      "cell_type": "code",
      "metadata": {
        "id": "s5YFcowM_6ol",
        "colab_type": "code",
        "colab": {
          "base_uri": "https://localhost:8080/",
          "height": 52
        },
        "outputId": "6ac94999-333e-4334-deb5-fea49a4ec3d9"
      },
      "source": [
        "model.evaluate(test_digits_sc,test_labels_cat)"
      ],
      "execution_count": 19,
      "outputs": [
        {
          "output_type": "stream",
          "text": [
            "10000/10000 [==============================] - 0s 29us/step\n"
          ],
          "name": "stdout"
        },
        {
          "output_type": "execute_result",
          "data": {
            "text/plain": [
              "[0.10351938656155325, 0.9761999845504761]"
            ]
          },
          "metadata": {
            "tags": []
          },
          "execution_count": 19
        }
      ]
    },
    {
      "cell_type": "code",
      "metadata": {
        "id": "1dfHrUTgAp1L",
        "colab_type": "code",
        "colab": {
          "base_uri": "https://localhost:8080/",
          "height": 69
        },
        "outputId": "c3099113-05a7-4b31-ab68-d51771364405"
      },
      "source": [
        "model.predict(np.expand_dims(test_digits_sc[0],axis=0))"
      ],
      "execution_count": 20,
      "outputs": [
        {
          "output_type": "execute_result",
          "data": {
            "text/plain": [
              "array([[4.4725560e-11, 1.8247124e-07, 1.9600685e-07, 2.2306666e-07,\n",
              "        4.7451687e-09, 3.7898027e-12, 9.9839895e-14, 9.9999881e-01,\n",
              "        2.3921620e-10, 4.4157639e-07]], dtype=float32)"
            ]
          },
          "metadata": {
            "tags": []
          },
          "execution_count": 20
        }
      ]
    },
    {
      "cell_type": "code",
      "metadata": {
        "id": "-7lRG71sBEmd",
        "colab_type": "code",
        "colab": {
          "base_uri": "https://localhost:8080/",
          "height": 35
        },
        "outputId": "466dc5c6-fc95-4eda-d05a-dbb776dc4861"
      },
      "source": [
        "model.predict_classes(np.expand_dims(test_digits_sc[0],axis=0))"
      ],
      "execution_count": 21,
      "outputs": [
        {
          "output_type": "execute_result",
          "data": {
            "text/plain": [
              "array([7])"
            ]
          },
          "metadata": {
            "tags": []
          },
          "execution_count": 21
        }
      ]
    },
    {
      "cell_type": "code",
      "metadata": {
        "id": "ugu52lbrBHkq",
        "colab_type": "code",
        "colab": {
          "base_uri": "https://localhost:8080/",
          "height": 35
        },
        "outputId": "fc67b073-53d2-45cd-d5de-885981b4ff74"
      },
      "source": [
        "model.predict_classes(np.expand_dims(test_digits_sc[5],axis=0))"
      ],
      "execution_count": 22,
      "outputs": [
        {
          "output_type": "execute_result",
          "data": {
            "text/plain": [
              "array([1])"
            ]
          },
          "metadata": {
            "tags": []
          },
          "execution_count": 22
        }
      ]
    },
    {
      "cell_type": "code",
      "metadata": {
        "id": "woT7hUs8BVsB",
        "colab_type": "code",
        "colab": {
          "base_uri": "https://localhost:8080/",
          "height": 283
        },
        "outputId": "a7946837-aeae-4bbc-cfa9-906364c2d2b6"
      },
      "source": [
        "plt.plot(range(1,11),history.history['accuracy'])\n",
        "plt.plot(range(1,11),history.history['val_accuracy'])\n"
      ],
      "execution_count": 23,
      "outputs": [
        {
          "output_type": "execute_result",
          "data": {
            "text/plain": [
              "[<matplotlib.lines.Line2D at 0x7f5fd8fa2198>]"
            ]
          },
          "metadata": {
            "tags": []
          },
          "execution_count": 23
        },
        {
          "output_type": "display_data",
          "data": {
            "image/png": "[encoded data removed]",
            "text/plain": [
              "<Figure size 432x288 with 1 Axes>"
            ]
          },
          "metadata": {
            "tags": [],
            "needs_background": "light"
          }
        }
      ]
    },
    {
      "cell_type": "markdown",
      "metadata": {
        "id": "dHu-XbiyCf0r",
        "colab_type": "text"
      },
      "source": [
        "# MODEL 2"
      ]
    },
    {
      "cell_type": "code",
      "metadata": {
        "id": "9Z-l6JZCBdj3",
        "colab_type": "code",
        "colab": {
          "base_uri": "https://localhost:8080/",
          "height": 399
        },
        "outputId": "a67f162d-246a-4cd6-ac93-85dccbc23caf"
      },
      "source": [
        "## We are creating the base model\n",
        "model = Sequential()\n",
        "# first layer\n",
        "model.add(Flatten(input_shape=(28,28)))\n",
        "## 784 pixel values as input to this Dense. 128 Neurons in the Layers\n",
        "model.add(Dense(128,activation='relu')) # 784*128+128\n",
        "model.add(Dense(128,activation='relu'))#128*128+128\n",
        "model.add(Dense(64,activation='relu')) #128*64+64\n",
        "model.add(Dense(256,activation='relu')) #128*64+64\n",
        "model.add(Dense(128,activation='relu')) #128*64+64\n",
        "# final layer\n",
        "model.add(Dense(10,activation='softmax'))\n",
        "model.summary()"
      ],
      "execution_count": 24,
      "outputs": [
        {
          "output_type": "stream",
          "text": [
            "Model: \"sequential_2\"\n",
            "_________________________________________________________________\n",
            "Layer (type)                 Output Shape              Param #   \n",
            "=================================================================\n",
            "flatten_2 (Flatten)          (None, 784)               0         \n",
            "_________________________________________________________________\n",
            "dense_5 (Dense)              (None, 128)               100480    \n",
            "_________________________________________________________________\n",
            "dense_6 (Dense)              (None, 128)               16512     \n",
            "_________________________________________________________________\n",
            "dense_7 (Dense)              (None, 64)                8256      \n",
            "_________________________________________________________________\n",
            "dense_8 (Dense)              (None, 256)               16640     \n",
            "_________________________________________________________________\n",
            "dense_9 (Dense)              (None, 128)               32896     \n",
            "_________________________________________________________________\n",
            "dense_10 (Dense)             (None, 10)                1290      \n",
            "=================================================================\n",
            "Total params: 176,074\n",
            "Trainable params: 176,074\n",
            "Non-trainable params: 0\n",
            "_________________________________________________________________\n"
          ],
          "name": "stdout"
        }
      ]
    },
    {
      "cell_type": "code",
      "metadata": {
        "id": "v_a7u_6yCl5Y",
        "colab_type": "code",
        "colab": {}
      },
      "source": [
        "model.compile(optimizer ='adam',loss =tf.keras.losses.CategoricalCrossentropy(),metrics=['accuracy'])"
      ],
      "execution_count": 25,
      "outputs": []
    },
    {
      "cell_type": "code",
      "metadata": {
        "id": "33e4Fq-SCsu7",
        "colab_type": "code",
        "colab": {
          "base_uri": "https://localhost:8080/",
          "height": 401
        },
        "outputId": "3ced824f-7b4c-4dad-8315-2d9cefbce86c"
      },
      "source": [
        "history =model.fit(x=X_train,y=y_train,epochs=10,validation_data=(X_test,y_test),batch_size=32)"
      ],
      "execution_count": 26,
      "outputs": [
        {
          "output_type": "stream",
          "text": [
            "Train on 54000 samples, validate on 6000 samples\n",
            "Epoch 1/10\n",
            "54000/54000 [==============================] - 7s 130us/step - loss: 0.2551 - accuracy: 0.9229 - val_loss: 0.1477 - val_accuracy: 0.9570\n",
            "Epoch 2/10\n",
            "54000/54000 [==============================] - 7s 128us/step - loss: 0.1215 - accuracy: 0.9637 - val_loss: 0.1358 - val_accuracy: 0.9590\n",
            "Epoch 3/10\n",
            "54000/54000 [==============================] - 7s 129us/step - loss: 0.0923 - accuracy: 0.9727 - val_loss: 0.1027 - val_accuracy: 0.9708\n",
            "Epoch 4/10\n",
            "54000/54000 [==============================] - 7s 128us/step - loss: 0.0744 - accuracy: 0.9781 - val_loss: 0.0935 - val_accuracy: 0.9715\n",
            "Epoch 5/10\n",
            "54000/54000 [==============================] - 7s 128us/step - loss: 0.0608 - accuracy: 0.9809 - val_loss: 0.0894 - val_accuracy: 0.9745\n",
            "Epoch 6/10\n",
            "54000/54000 [==============================] - 7s 129us/step - loss: 0.0520 - accuracy: 0.9839 - val_loss: 0.1150 - val_accuracy: 0.9727\n",
            "Epoch 7/10\n",
            "54000/54000 [==============================] - 7s 130us/step - loss: 0.0463 - accuracy: 0.9861 - val_loss: 0.0853 - val_accuracy: 0.9747\n",
            "Epoch 8/10\n",
            "54000/54000 [==============================] - 7s 130us/step - loss: 0.0398 - accuracy: 0.9882 - val_loss: 0.0776 - val_accuracy: 0.9780\n",
            "Epoch 9/10\n",
            "54000/54000 [==============================] - 7s 128us/step - loss: 0.0334 - accuracy: 0.9894 - val_loss: 0.0908 - val_accuracy: 0.9767\n",
            "Epoch 10/10\n",
            "54000/54000 [==============================] - 7s 132us/step - loss: 0.0314 - accuracy: 0.9905 - val_loss: 0.0971 - val_accuracy: 0.9775\n"
          ],
          "name": "stdout"
        }
      ]
    },
    {
      "cell_type": "code",
      "metadata": {
        "id": "e_WNTPX7CxCq",
        "colab_type": "code",
        "colab": {
          "base_uri": "https://localhost:8080/",
          "height": 52
        },
        "outputId": "30d43b06-d9c1-456c-bb99-9d8f24b99820"
      },
      "source": [
        "model.evaluate(test_digits_sc,test_labels_cat)"
      ],
      "execution_count": 27,
      "outputs": [
        {
          "output_type": "stream",
          "text": [
            "10000/10000 [==============================] - 0s 34us/step\n"
          ],
          "name": "stdout"
        },
        {
          "output_type": "execute_result",
          "data": {
            "text/plain": [
              "[0.11196990839748687, 0.9782999753952026]"
            ]
          },
          "metadata": {
            "tags": []
          },
          "execution_count": 27
        }
      ]
    },
    {
      "cell_type": "code",
      "metadata": {
        "id": "o8TIOvG4DS9z",
        "colab_type": "code",
        "colab": {
          "base_uri": "https://localhost:8080/",
          "height": 69
        },
        "outputId": "fbca90b4-9a38-4be1-d9b0-869bd7ea7557"
      },
      "source": [
        "model.predict(np.expand_dims(test_digits_sc[0],axis=0))"
      ],
      "execution_count": 28,
      "outputs": [
        {
          "output_type": "execute_result",
          "data": {
            "text/plain": [
              "array([[2.1049751e-13, 3.0643992e-08, 1.3157947e-07, 1.2036345e-07,\n",
              "        1.5581193e-07, 2.1421588e-11, 3.7259444e-16, 9.9999785e-01,\n",
              "        4.3722981e-10, 1.7282809e-06]], dtype=float32)"
            ]
          },
          "metadata": {
            "tags": []
          },
          "execution_count": 28
        }
      ]
    },
    {
      "cell_type": "code",
      "metadata": {
        "id": "E08r1e7_DIyo",
        "colab_type": "code",
        "colab": {
          "base_uri": "https://localhost:8080/",
          "height": 35
        },
        "outputId": "7e1c54a6-f186-43fa-ec6c-90065ade70b2"
      },
      "source": [
        "model.predict_classes(np.expand_dims(test_digits_sc[56],axis=0))"
      ],
      "execution_count": 29,
      "outputs": [
        {
          "output_type": "execute_result",
          "data": {
            "text/plain": [
              "array([4])"
            ]
          },
          "metadata": {
            "tags": []
          },
          "execution_count": 29
        }
      ]
    },
    {
      "cell_type": "code",
      "metadata": {
        "id": "IANr9XWiDOcS",
        "colab_type": "code",
        "colab": {
          "base_uri": "https://localhost:8080/",
          "height": 283
        },
        "outputId": "3f5b324b-5c28-4b7f-f44a-ccc2bdf296cf"
      },
      "source": [
        "plt.plot(range(1,11),history.history['accuracy'])\n",
        "plt.plot(range(1,11),history.history['val_accuracy'])"
      ],
      "execution_count": 30,
      "outputs": [
        {
          "output_type": "execute_result",
          "data": {
            "text/plain": [
              "[<matplotlib.lines.Line2D at 0x7f5fd8cf95f8>]"
            ]
          },
          "metadata": {
            "tags": []
          },
          "execution_count": 30
        },
        {
          "output_type": "display_data",
          "data": {
            "image/png": "[encoded data removed]",
            "text/plain": [
              "<Figure size 432x288 with 1 Axes>"
            ]
          },
          "metadata": {
            "tags": [],
            "needs_background": "light"
          }
        }
      ]
    },
    {
      "cell_type": "markdown",
      "metadata": {
        "id": "ArdYvS_8Dgf3",
        "colab_type": "text"
      },
      "source": [
        "- The accuarcy andVal_Accuracy of the model 1 is :<br>[0.09088712198650173, 0.9796000123023987]\n",
        "- The accuarcy andVal_Accuracy of the model 1 is :<br>[0.09636233940101228, 0.9750999808311462]"
      ]
    },
    {
      "cell_type": "markdown",
      "metadata": {
        "id": "3xk6K62KDyq6",
        "colab_type": "text"
      },
      "source": [
        "**Hence model 1 predicts better than model 2**"
      ]
    }
  ]
}