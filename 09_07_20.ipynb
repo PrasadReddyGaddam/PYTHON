{
  "nbformat": 4,
  "nbformat_minor": 0,
  "metadata": {
    "colab": {
      "name": "09-07-20.ipynb",
      "provenance": [],
      "authorship_tag": "ABX9TyPm9FZydm+lrGqH5toN6r9k",
      "include_colab_link": true
    },
    "kernelspec": {
      "name": "python3",
      "display_name": "Python 3"
    }
  },
  "cells": [
    {
      "cell_type": "markdown",
      "metadata": {
        "id": "view-in-github",
        "colab_type": "text"
      },
      "source": [
        "<a href=\"https://colab.research.google.com/github/PrasadReddyGaddam/PYTHON/blob/master/09_07_20.ipynb\" target=\"_parent\"><img src=\"https://colab.research.google.com/assets/colab-badge.svg\" alt=\"Open In Colab\"/></a>"
      ]
    },
    {
      "cell_type": "code",
      "metadata": {
        "id": "k1RyCkwqwo_N",
        "colab_type": "code",
        "colab": {}
      },
      "source": [
        "import tensorflow.keras as keras\n",
        "import numpy as np\n",
        "import matplotlib.pyplot as plt\n",
        "%matplotlib inline\n",
        "import tensorflow as tf"
      ],
      "execution_count": 1,
      "outputs": []
    },
    {
      "cell_type": "markdown",
      "metadata": {
        "id": "xEehUA1GxBsD",
        "colab_type": "text"
      },
      "source": [
        "- **Load MNSIT  dataset**"
      ]
    },
    {
      "cell_type": "code",
      "metadata": {
        "id": "p9GHe5MexzAU",
        "colab_type": "code",
        "colab": {
          "base_uri": "https://localhost:8080/",
          "height": 35
        },
        "outputId": "064d4480-4771-4abc-b091-29c4f191491c"
      },
      "source": [
        "from keras.datasets.mnist import load_data"
      ],
      "execution_count": 2,
      "outputs": [
        {
          "output_type": "stream",
          "text": [
            "Using TensorFlow backend.\n"
          ],
          "name": "stderr"
        }
      ]
    },
    {
      "cell_type": "code",
      "metadata": {
        "id": "LSo05ruXw-sc",
        "colab_type": "code",
        "colab": {
          "base_uri": "https://localhost:8080/",
          "height": 35
        },
        "outputId": "71009685-48c1-409f-e5d1-a09842a1c525"
      },
      "source": [
        "# load_data -- return value is two tuple train,test\n",
        "(train_digits,train_labels),(test_digits,test_labels) = load_data()\n",
        "print(train_digits.shape)"
      ],
      "execution_count": 3,
      "outputs": [
        {
          "output_type": "stream",
          "text": [
            "(60000, 28, 28)\n"
          ],
          "name": "stdout"
        }
      ]
    },
    {
      "cell_type": "markdown",
      "metadata": {
        "id": "jz3PK3dGx7Kh",
        "colab_type": "text"
      },
      "source": [
        "- there are 60000 images in training data\n",
        "28*28"
      ]
    },
    {
      "cell_type": "code",
      "metadata": {
        "id": "3zjp9PWxxhGJ",
        "colab_type": "code",
        "colab": {
          "base_uri": "https://localhost:8080/",
          "height": 35
        },
        "outputId": "37aaea55-38bd-458a-c599-009698ea2e02"
      },
      "source": [
        "print(test_digits.shape)"
      ],
      "execution_count": 4,
      "outputs": [
        {
          "output_type": "stream",
          "text": [
            "(10000, 28, 28)\n"
          ],
          "name": "stdout"
        }
      ]
    },
    {
      "cell_type": "code",
      "metadata": {
        "id": "fghFefbYyMZH",
        "colab_type": "code",
        "colab": {
          "base_uri": "https://localhost:8080/",
          "height": 35
        },
        "outputId": "644fc8bd-fef7-4e37-82f7-efa81a3f1194"
      },
      "source": [
        "type(train_labels)"
      ],
      "execution_count": 5,
      "outputs": [
        {
          "output_type": "execute_result",
          "data": {
            "text/plain": [
              "numpy.ndarray"
            ]
          },
          "metadata": {
            "tags": []
          },
          "execution_count": 5
        }
      ]
    },
    {
      "cell_type": "code",
      "metadata": {
        "id": "XwzyXG42ylAx",
        "colab_type": "code",
        "colab": {
          "base_uri": "https://localhost:8080/",
          "height": 208
        },
        "outputId": "bfbce403-2781-4493-9008-5ddf35b6c8a4"
      },
      "source": [
        "import pandas as pd\n",
        "pd.Series(train_labels).value_counts()"
      ],
      "execution_count": 6,
      "outputs": [
        {
          "output_type": "execute_result",
          "data": {
            "text/plain": [
              "1    6742\n",
              "7    6265\n",
              "3    6131\n",
              "2    5958\n",
              "9    5949\n",
              "0    5923\n",
              "6    5918\n",
              "8    5851\n",
              "4    5842\n",
              "5    5421\n",
              "dtype: int64"
            ]
          },
          "metadata": {
            "tags": []
          },
          "execution_count": 6
        }
      ]
    },
    {
      "cell_type": "code",
      "metadata": {
        "id": "GGyIc_Pjy6_d",
        "colab_type": "code",
        "colab": {
          "base_uri": "https://localhost:8080/",
          "height": 208
        },
        "outputId": "f70d3d49-4ac6-462a-c381-4d9349d9d80b"
      },
      "source": [
        "pd.Series(test_labels).value_counts()"
      ],
      "execution_count": 7,
      "outputs": [
        {
          "output_type": "execute_result",
          "data": {
            "text/plain": [
              "1    1135\n",
              "2    1032\n",
              "7    1028\n",
              "3    1010\n",
              "9    1009\n",
              "4     982\n",
              "0     980\n",
              "8     974\n",
              "6     958\n",
              "5     892\n",
              "dtype: int64"
            ]
          },
          "metadata": {
            "tags": []
          },
          "execution_count": 7
        }
      ]
    },
    {
      "cell_type": "markdown",
      "metadata": {
        "id": "k-PIOkE3zz3q",
        "colab_type": "text"
      },
      "source": [
        "EDA"
      ]
    },
    {
      "cell_type": "code",
      "metadata": {
        "id": "vK9_1tkSzsXp",
        "colab_type": "code",
        "colab": {
          "base_uri": "https://localhost:8080/",
          "height": 283
        },
        "outputId": "45386517-a64f-4a0e-c8ee-737ea0b89e7d"
      },
      "source": [
        "plt.imshow(train_digits[6000])"
      ],
      "execution_count": 8,
      "outputs": [
        {
          "output_type": "execute_result",
          "data": {
            "text/plain": [
              "<matplotlib.image.AxesImage at 0x7f005b7bcc88>"
            ]
          },
          "metadata": {
            "tags": []
          },
          "execution_count": 8
        },
        {
          "output_type": "display_data",
          "data": {
            "image/png": "[encoded data removed]",
            "text/plain": [
              "<Figure size 432x288 with 1 Axes>"
            ]
          },
          "metadata": {
            "tags": [],
            "needs_background": "light"
          }
        }
      ]
    },
    {
      "cell_type": "code",
      "metadata": {
        "id": "luuzmUjR0AVS",
        "colab_type": "code",
        "colab": {
          "base_uri": "https://localhost:8080/",
          "height": 299
        },
        "outputId": "46a6d68e-6dfa-4358-bbaf-1b2f7ab9a5b6"
      },
      "source": [
        "plt.imshow(train_digits[60],cmap=\"gray\")\n",
        "plt.title(\"Digit\"+str(train_labels[60]))"
      ],
      "execution_count": 9,
      "outputs": [
        {
          "output_type": "execute_result",
          "data": {
            "text/plain": [
              "Text(0.5, 1.0, 'Digit4')"
            ]
          },
          "metadata": {
            "tags": []
          },
          "execution_count": 9
        },
        {
          "output_type": "display_data",
          "data": {
            "image/png": "[encoded data removed]",
            "text/plain": [
              "<Figure size 432x288 with 1 Axes>"
            ]
          },
          "metadata": {
            "tags": [],
            "needs_background": "light"
          }
        }
      ]
    },
    {
      "cell_type": "code",
      "metadata": {
        "id": "xrHtB7It0sK7",
        "colab_type": "code",
        "colab": {
          "base_uri": "https://localhost:8080/",
          "height": 803
        },
        "outputId": "236d10bd-1d07-42b5-d70e-101681d3b236"
      },
      "source": [
        "plt.hist(train_digits[0])"
      ],
      "execution_count": 10,
      "outputs": [
        {
          "output_type": "execute_result",
          "data": {
            "text/plain": [
              "(array([[28.,  0.,  0.,  0.,  0.,  0.,  0.,  0.,  0.,  0.],\n",
              "        [28.,  0.,  0.,  0.,  0.,  0.,  0.,  0.,  0.,  0.],\n",
              "        [28.,  0.,  0.,  0.,  0.,  0.,  0.,  0.,  0.,  0.],\n",
              "        [28.,  0.,  0.,  0.,  0.,  0.,  0.,  0.,  0.,  0.],\n",
              "        [26.,  0.,  1.,  0.,  0.,  1.,  0.,  0.,  0.,  0.],\n",
              "        [26.,  0.,  0.,  0.,  0.,  0.,  1.,  0.,  0.,  1.],\n",
              "        [26.,  0.,  0.,  0.,  0.,  0.,  0.,  0.,  1.,  1.],\n",
              "        [24.,  1.,  0.,  0.,  0.,  0.,  1.,  0.,  0.,  2.],\n",
              "        [21.,  1.,  0.,  1.,  0.,  0.,  0.,  0.,  3.,  2.],\n",
              "        [20.,  1.,  1.,  0.,  0.,  1.,  1.,  0.,  0.,  4.],\n",
              "        [20.,  0.,  0.,  1.,  1.,  1.,  0.,  0.,  1.,  4.],\n",
              "        [18.,  0.,  0.,  0.,  1.,  1.,  2.,  0.,  0.,  6.],\n",
              "        [15.,  2.,  0.,  0.,  0.,  1.,  1.,  1.,  1.,  7.],\n",
              "        [15.,  0.,  0.,  2.,  0.,  1.,  0.,  2.,  1.,  7.],\n",
              "        [16.,  2.,  1.,  1.,  0.,  0.,  0.,  1.,  2.,  5.],\n",
              "        [18.,  0.,  0.,  0.,  0.,  1.,  1.,  3.,  0.,  5.],\n",
              "        [15.,  1.,  0.,  2.,  2.,  0.,  0.,  1.,  0.,  7.],\n",
              "        [16.,  0.,  0.,  0.,  1.,  1.,  1.,  1.,  0.,  8.],\n",
              "        [19.,  0.,  0.,  2.,  0.,  1.,  1.,  0.,  1.,  4.],\n",
              "        [20.,  2.,  0.,  1.,  0.,  0.,  1.,  2.,  1.,  1.],\n",
              "        [24.,  0.,  1.,  1.,  0.,  0.,  1.,  0.,  0.,  1.],\n",
              "        [25.,  0.,  1.,  0.,  0.,  0.,  0.,  0.,  0.,  2.],\n",
              "        [25.,  1.,  0.,  0.,  0.,  0.,  0.,  1.,  0.,  1.],\n",
              "        [26.,  0.,  1.,  0.,  1.,  0.,  0.,  0.,  0.,  0.],\n",
              "        [28.,  0.,  0.,  0.,  0.,  0.,  0.,  0.,  0.,  0.],\n",
              "        [28.,  0.,  0.,  0.,  0.,  0.,  0.,  0.,  0.,  0.],\n",
              "        [28.,  0.,  0.,  0.,  0.,  0.,  0.,  0.,  0.,  0.],\n",
              "        [28.,  0.,  0.,  0.,  0.,  0.,  0.,  0.,  0.,  0.]]),\n",
              " array([  0. ,  25.5,  51. ,  76.5, 102. , 127.5, 153. , 178.5, 204. ,\n",
              "        229.5, 255. ]),\n",
              " <a list of 28 Lists of Patches objects>)"
            ]
          },
          "metadata": {
            "tags": []
          },
          "execution_count": 10
        },
        {
          "output_type": "display_data",
          "data": {
            "image/png": "[encoded data removed]",
            "text/plain": [
              "<Figure size 432x288 with 1 Axes>"
            ]
          },
          "metadata": {
            "tags": [],
            "needs_background": "light"
          }
        }
      ]
    },
    {
      "cell_type": "code",
      "metadata": {
        "id": "C-zcqCVj2FZP",
        "colab_type": "code",
        "colab": {
          "base_uri": "https://localhost:8080/",
          "height": 335
        },
        "outputId": "d61ee50e-a925-4f9c-a873-e1e16921c23a"
      },
      "source": [
        "plt.hist(train_digits[0].flat) #1d array to be passed"
      ],
      "execution_count": 11,
      "outputs": [
        {
          "output_type": "execute_result",
          "data": {
            "text/plain": [
              "(array([639.,  11.,   6.,  11.,   6.,   9.,  11.,  12.,  11.,  68.]),\n",
              " array([  0. ,  25.5,  51. ,  76.5, 102. , 127.5, 153. , 178.5, 204. ,\n",
              "        229.5, 255. ]),\n",
              " <a list of 10 Patch objects>)"
            ]
          },
          "metadata": {
            "tags": []
          },
          "execution_count": 11
        },
        {
          "output_type": "display_data",
          "data": {
            "image/png": "[encoded data removed]",
            "text/plain": [
              "<Figure size 432x288 with 1 Axes>"
            ]
          },
          "metadata": {
            "tags": [],
            "needs_background": "light"
          }
        }
      ]
    },
    {
      "cell_type": "code",
      "metadata": {
        "id": "S201OMhy1GD_",
        "colab_type": "code",
        "colab": {
          "base_uri": "https://localhost:8080/",
          "height": 265
        },
        "outputId": "afdbb67c-c3ef-4218-88b6-30ce76f476be"
      },
      "source": [
        "plt.hist(train_digits[0].flat,bins=255)\n",
        "plt.show()"
      ],
      "execution_count": 12,
      "outputs": [
        {
          "output_type": "display_data",
          "data": {
            "image/png": "[encoded data removed]",
            "text/plain": [
              "<Figure size 432x288 with 1 Axes>"
            ]
          },
          "metadata": {
            "tags": [],
            "needs_background": "light"
          }
        }
      ]
    },
    {
      "cell_type": "code",
      "metadata": {
        "id": "XT1vNw-m1if0",
        "colab_type": "code",
        "colab": {
          "base_uri": "https://localhost:8080/",
          "height": 335
        },
        "outputId": "1c4939a5-8603-4b4f-8799-aa3c3e139271"
      },
      "source": [
        "plt.hist(train_digits[14].flat)"
      ],
      "execution_count": 13,
      "outputs": [
        {
          "output_type": "execute_result",
          "data": {
            "text/plain": [
              "(array([713.,  17.,   1.,   2.,  10.,   0.,   4.,   4.,   2.,  31.]),\n",
              " array([  0. ,  25.5,  51. ,  76.5, 102. , 127.5, 153. , 178.5, 204. ,\n",
              "        229.5, 255. ]),\n",
              " <a list of 10 Patch objects>)"
            ]
          },
          "metadata": {
            "tags": []
          },
          "execution_count": 13
        },
        {
          "output_type": "display_data",
          "data": {
            "image/png": "[encoded data removed]",
            "text/plain": [
              "<Figure size 432x288 with 1 Axes>"
            ]
          },
          "metadata": {
            "tags": [],
            "needs_background": "light"
          }
        }
      ]
    },
    {
      "cell_type": "code",
      "metadata": {
        "id": "1tnnQ1kM2xdM",
        "colab_type": "code",
        "colab": {
          "base_uri": "https://localhost:8080/",
          "height": 104
        },
        "outputId": "f4e8ceae-8601-40f0-9f0a-8b9a799bfef8"
      },
      "source": [
        "train_digits[0][5:10,22:25]"
      ],
      "execution_count": 14,
      "outputs": [
        {
          "output_type": "execute_result",
          "data": {
            "text/plain": [
              "array([[247, 127,   0],\n",
              "       [195,  64,   0],\n",
              "       [ 39,   0,   0],\n",
              "       [  0,   0,   0],\n",
              "       [  0,   0,   0]], dtype=uint8)"
            ]
          },
          "metadata": {
            "tags": []
          },
          "execution_count": 14
        }
      ]
    },
    {
      "cell_type": "code",
      "metadata": {
        "id": "ngPIEbEq37MY",
        "colab_type": "code",
        "colab": {
          "base_uri": "https://localhost:8080/",
          "height": 52
        },
        "outputId": "c6370fa5-c0a8-4bcd-ba78-ec76cdbe9c92"
      },
      "source": [
        "samples = np.random.randint(train_digits.shape[0],size=16)\n",
        "samples"
      ],
      "execution_count": 15,
      "outputs": [
        {
          "output_type": "execute_result",
          "data": {
            "text/plain": [
              "array([41255, 31904,  5524, 32286, 32604, 12099, 22312, 17279, 29573,\n",
              "       45830, 37273, 52334, 35586, 40054, 32571, 24688])"
            ]
          },
          "metadata": {
            "tags": []
          },
          "execution_count": 15
        }
      ]
    },
    {
      "cell_type": "code",
      "metadata": {
        "id": "3txTiOLq5cjc",
        "colab_type": "code",
        "colab": {
          "base_uri": "https://localhost:8080/",
          "height": 645
        },
        "outputId": "3ac4f7f1-b0cf-4fd3-f8ad-105cee978972"
      },
      "source": [
        "plt.figure(figsize=(16,16))\n",
        "j = 1\n",
        "for  i in samples:\n",
        "  plt.subplot(4,4,j)\n",
        "  #plt.imshow(train_digits[i],cmap=\"gray\")\n",
        "  plt.imshow(train_digits[i])\n",
        "  plt.title(\"Digit\"+str(train_labels[i]))\n",
        "  plt.axis(\"off\")\n",
        "  j +=1"
      ],
      "execution_count": 16,
      "outputs": [
        {
          "output_type": "display_data",
          "data": {
            "image/png": "[encoded data removed]",
            "text/plain": [
              "<Figure size 1152x1152 with 16 Axes>"
            ]
          },
          "metadata": {
            "tags": [],
            "needs_background": "light"
          }
        }
      ]
    },
    {
      "cell_type": "code",
      "metadata": {
        "id": "8TE1-Dqc5il_",
        "colab_type": "code",
        "colab": {
          "base_uri": "https://localhost:8080/",
          "height": 635
        },
        "outputId": "2a8cf606-0818-43d3-8bb7-148e149ce046"
      },
      "source": [
        "plt.figure(figsize=(16,16))\n",
        "j = 1\n",
        "for  i in samples:\n",
        "  plt.subplot(4,4,j)\n",
        "  plt.hist(train_digits[i].flat)\n",
        "  plt.title(\"Digit\"+str(train_labels[i]))\n",
        "  #plt.axis(\"off\")\n",
        "  j +=1"
      ],
      "execution_count": 17,
      "outputs": [
        {
          "output_type": "display_data",
          "data": {
            "image/png": "[encoded data removed]",
            "text/plain": [
              "<Figure size 1152x1152 with 16 Axes>"
            ]
          },
          "metadata": {
            "tags": [],
            "needs_background": "light"
          }
        }
      ]
    },
    {
      "cell_type": "markdown",
      "metadata": {
        "id": "dbwkOdJt8Z92",
        "colab_type": "text"
      },
      "source": [
        "## Preprocessing"
      ]
    },
    {
      "cell_type": "markdown",
      "metadata": {
        "id": "Q4H-QLpF8fBT",
        "colab_type": "text"
      },
      "source": [
        "### Scaling"
      ]
    },
    {
      "cell_type": "code",
      "metadata": {
        "id": "VmE2hOIF6yIJ",
        "colab_type": "code",
        "colab": {}
      },
      "source": [
        "train_digits_sc  = train_digits/255.0\n",
        "test_digits_sc = test_digits/255.0"
      ],
      "execution_count": 18,
      "outputs": []
    },
    {
      "cell_type": "code",
      "metadata": {
        "id": "Gg89zE8T8uPr",
        "colab_type": "code",
        "colab": {
          "base_uri": "https://localhost:8080/",
          "height": 35
        },
        "outputId": "2a6444e5-5967-466e-c802-5b2a58ad99d8"
      },
      "source": [
        "train_labels"
      ],
      "execution_count": 19,
      "outputs": [
        {
          "output_type": "execute_result",
          "data": {
            "text/plain": [
              "array([5, 0, 4, ..., 5, 6, 8], dtype=uint8)"
            ]
          },
          "metadata": {
            "tags": []
          },
          "execution_count": 19
        }
      ]
    },
    {
      "cell_type": "code",
      "metadata": {
        "id": "LTIvSbHX85jD",
        "colab_type": "code",
        "colab": {}
      },
      "source": [
        "#to convert into labels\n",
        "from keras.utils import to_categorical"
      ],
      "execution_count": 20,
      "outputs": []
    },
    {
      "cell_type": "code",
      "metadata": {
        "id": "LP8YWw5S8-96",
        "colab_type": "code",
        "colab": {}
      },
      "source": [
        "train_labels_cat = to_categorical(train_labels)"
      ],
      "execution_count": 21,
      "outputs": []
    },
    {
      "cell_type": "code",
      "metadata": {
        "id": "I6Fj0Ugo9RBh",
        "colab_type": "code",
        "colab": {
          "base_uri": "https://localhost:8080/",
          "height": 35
        },
        "outputId": "73134c72-c715-43f9-9b0d-7f2aceadcfa9"
      },
      "source": [
        "train_labels_cat[0]"
      ],
      "execution_count": 22,
      "outputs": [
        {
          "output_type": "execute_result",
          "data": {
            "text/plain": [
              "array([0., 0., 0., 0., 0., 1., 0., 0., 0., 0.], dtype=float32)"
            ]
          },
          "metadata": {
            "tags": []
          },
          "execution_count": 22
        }
      ]
    },
    {
      "cell_type": "code",
      "metadata": {
        "id": "QUsLQwUn9UIe",
        "colab_type": "code",
        "colab": {}
      },
      "source": [
        "test_labels_cat = to_categorical(test_labels)"
      ],
      "execution_count": 23,
      "outputs": []
    },
    {
      "cell_type": "code",
      "metadata": {
        "id": "XfSFZAbv9aGI",
        "colab_type": "code",
        "colab": {
          "base_uri": "https://localhost:8080/",
          "height": 35
        },
        "outputId": "973a390c-81e3-4acf-f0de-c6a165fab698"
      },
      "source": [
        "test_labels_cat[0]"
      ],
      "execution_count": 24,
      "outputs": [
        {
          "output_type": "execute_result",
          "data": {
            "text/plain": [
              "array([0., 0., 0., 0., 0., 0., 0., 1., 0., 0.], dtype=float32)"
            ]
          },
          "metadata": {
            "tags": []
          },
          "execution_count": 24
        }
      ]
    },
    {
      "cell_type": "markdown",
      "metadata": {
        "id": "Pl0SAPdW-cUC",
        "colab_type": "text"
      },
      "source": [
        "- Split the train data to train ad validation"
      ]
    },
    {
      "cell_type": "code",
      "metadata": {
        "id": "pHXlbv-K9dGf",
        "colab_type": "code",
        "colab": {
          "base_uri": "https://localhost:8080/",
          "height": 87
        },
        "outputId": "2764dd15-5282-4e4e-c2aa-b7d44052ce6b"
      },
      "source": [
        "from sklearn.model_selection import train_test_split\n",
        "X_train,X_val,y_train,y_val = train_test_split(train_digits_sc,train_labels_cat,test_size=0.1,random_state=32)\n",
        "print(X_train.shape)\n",
        "print(X_val.shape)\n",
        "print(y_train.shape)\n",
        "print(y_val.shape)"
      ],
      "execution_count": 25,
      "outputs": [
        {
          "output_type": "stream",
          "text": [
            "(54000, 28, 28)\n",
            "(6000, 28, 28)\n",
            "(54000, 10)\n",
            "(6000, 10)\n"
          ],
          "name": "stdout"
        }
      ]
    },
    {
      "cell_type": "markdown",
      "metadata": {
        "id": "YSefzNPT_oog",
        "colab_type": "text"
      },
      "source": [
        "##  Build and train model"
      ]
    },
    {
      "cell_type": "markdown",
      "metadata": {
        "id": "IJC6vGQC_u5v",
        "colab_type": "text"
      },
      "source": [
        "### Build model\n",
        "- We need to take 1d array as input for Dense layer\n",
        "- How many hidden layers need to be added\n",
        "- How many neurons in  each hidden layer?\n",
        "- What is activation function for hidden layer?\n",
        "- How many neurons to be taken in output layer?\n",
        "- What is activation functin for output layer?"
      ]
    },
    {
      "cell_type": "code",
      "metadata": {
        "id": "Fap2xWaR_R_S",
        "colab_type": "code",
        "colab": {}
      },
      "source": [
        "#import methods required\n",
        "from keras.models import Sequential\n",
        "from keras.layers import Dense,Flatten"
      ],
      "execution_count": 26,
      "outputs": []
    },
    {
      "cell_type": "code",
      "metadata": {
        "id": "VbUWZVGVC6ia",
        "colab_type": "code",
        "colab": {
          "base_uri": "https://localhost:8080/",
          "height": 364
        },
        "outputId": "622da358-396d-470f-b487-c05cab5eb45e"
      },
      "source": [
        "# We are creating base  model\n",
        "model = Sequential()\n",
        "# first layer(only first layer takes input shape)\n",
        "# Since it is seq procedur o/p of one layer is i/p of next layer\n",
        "model.add(Flatten(input_shape=(28,28)))\n",
        "# 784 pixel value as input to dense.128 neuron in the layer\n",
        "model.add(Dense(128,activation=\"relu\")) #784*128+128\n",
        "model.add(Dense(128,activation=\"relu\"))  #128*128+128\n",
        "model.add(Dense(64,activation=\"relu\"))\n",
        "model.add(Dense(256,activation=\"relu\"))\n",
        "# Final layer\n",
        "model.add(Dense(10,activation=\"softmax\"))\n",
        "model.summary()"
      ],
      "execution_count": 27,
      "outputs": [
        {
          "output_type": "stream",
          "text": [
            "Model: \"sequential_1\"\n",
            "_________________________________________________________________\n",
            "Layer (type)                 Output Shape              Param #   \n",
            "=================================================================\n",
            "flatten_1 (Flatten)          (None, 784)               0         \n",
            "_________________________________________________________________\n",
            "dense_1 (Dense)              (None, 128)               100480    \n",
            "_________________________________________________________________\n",
            "dense_2 (Dense)              (None, 128)               16512     \n",
            "_________________________________________________________________\n",
            "dense_3 (Dense)              (None, 64)                8256      \n",
            "_________________________________________________________________\n",
            "dense_4 (Dense)              (None, 256)               16640     \n",
            "_________________________________________________________________\n",
            "dense_5 (Dense)              (None, 10)                2570      \n",
            "=================================================================\n",
            "Total params: 144,458\n",
            "Trainable params: 144,458\n",
            "Non-trainable params: 0\n",
            "_________________________________________________________________\n"
          ],
          "name": "stdout"
        }
      ]
    },
    {
      "cell_type": "markdown",
      "metadata": {
        "id": "ORwlab66HQoG",
        "colab_type": "text"
      },
      "source": [
        "### Compile the model\n",
        "- What is the loss functin?\n",
        "- What is the optimizer?\n",
        "- What are the Metrics used?"
      ]
    },
    {
      "cell_type": "code",
      "metadata": {
        "id": "zxRLM1zTDaoq",
        "colab_type": "code",
        "colab": {}
      },
      "source": [
        "model.compile(optimizer=\"adam\",loss=tf.keras.losses.CategoricalCrossentropy(),metrics=[\"accuracy\"])"
      ],
      "execution_count": 28,
      "outputs": []
    },
    {
      "cell_type": "markdown",
      "metadata": {
        "id": "hMQQ2ifDKwyV",
        "colab_type": "text"
      },
      "source": [
        "##Train model"
      ]
    },
    {
      "cell_type": "code",
      "metadata": {
        "id": "kEFVqPH8Hxp7",
        "colab_type": "code",
        "colab": {
          "base_uri": "https://localhost:8080/",
          "height": 401
        },
        "outputId": "81f80f72-ef7f-4e97-e90e-4a5b41eaaddb"
      },
      "source": [
        "history = model.fit(x=X_train,y=y_train,epochs=10,validation_data=(X_val,y_val),batch_size=32)"
      ],
      "execution_count": 29,
      "outputs": [
        {
          "output_type": "stream",
          "text": [
            "Train on 54000 samples, validate on 6000 samples\n",
            "Epoch 1/10\n",
            "54000/54000 [==============================] - 7s 125us/step - loss: 0.2478 - accuracy: 0.9242 - val_loss: 0.1618 - val_accuracy: 0.9510\n",
            "Epoch 2/10\n",
            "54000/54000 [==============================] - 7s 123us/step - loss: 0.1093 - accuracy: 0.9666 - val_loss: 0.1232 - val_accuracy: 0.9633\n",
            "Epoch 3/10\n",
            "54000/54000 [==============================] - 7s 124us/step - loss: 0.0828 - accuracy: 0.9746 - val_loss: 0.1033 - val_accuracy: 0.9700\n",
            "Epoch 4/10\n",
            "54000/54000 [==============================] - 7s 121us/step - loss: 0.0634 - accuracy: 0.9804 - val_loss: 0.1124 - val_accuracy: 0.9713\n",
            "Epoch 5/10\n",
            "54000/54000 [==============================] - 7s 121us/step - loss: 0.0526 - accuracy: 0.9834 - val_loss: 0.1039 - val_accuracy: 0.9727\n",
            "Epoch 6/10\n",
            "54000/54000 [==============================] - 7s 124us/step - loss: 0.0460 - accuracy: 0.9853 - val_loss: 0.1178 - val_accuracy: 0.9727\n",
            "Epoch 7/10\n",
            "54000/54000 [==============================] - 7s 121us/step - loss: 0.0406 - accuracy: 0.9878 - val_loss: 0.0799 - val_accuracy: 0.9783\n",
            "Epoch 8/10\n",
            "54000/54000 [==============================] - 7s 121us/step - loss: 0.0337 - accuracy: 0.9901 - val_loss: 0.1024 - val_accuracy: 0.9763\n",
            "Epoch 9/10\n",
            "54000/54000 [==============================] - 7s 121us/step - loss: 0.0317 - accuracy: 0.9901 - val_loss: 0.1058 - val_accuracy: 0.9748\n",
            "Epoch 10/10\n",
            "54000/54000 [==============================] - 7s 122us/step - loss: 0.0260 - accuracy: 0.9917 - val_loss: 0.1239 - val_accuracy: 0.9732\n"
          ],
          "name": "stdout"
        }
      ]
    },
    {
      "cell_type": "markdown",
      "metadata": {
        "id": "w0RO2dsJObgV",
        "colab_type": "text"
      },
      "source": [
        "## Evaluating model "
      ]
    },
    {
      "cell_type": "code",
      "metadata": {
        "id": "2B1uDrl-KJND",
        "colab_type": "code",
        "colab": {
          "base_uri": "https://localhost:8080/",
          "height": 52
        },
        "outputId": "12d0611a-52b8-40f1-b38d-7e16a554143f"
      },
      "source": [
        "model.evaluate(test_digits_sc,test_labels_cat)"
      ],
      "execution_count": 30,
      "outputs": [
        {
          "output_type": "stream",
          "text": [
            "10000/10000 [==============================] - 0s 29us/step\n"
          ],
          "name": "stdout"
        },
        {
          "output_type": "execute_result",
          "data": {
            "text/plain": [
              "[0.1128699624111021, 0.9750999808311462]"
            ]
          },
          "metadata": {
            "tags": []
          },
          "execution_count": 30
        }
      ]
    },
    {
      "cell_type": "code",
      "metadata": {
        "id": "A-2MwqiTOXUz",
        "colab_type": "code",
        "colab": {
          "base_uri": "https://localhost:8080/",
          "height": 69
        },
        "outputId": "a48e8ce4-7fdc-47cd-ec33-ff6b650301fe"
      },
      "source": [
        "model.predict(np.expand_dims(test_digits_sc[0],axis=0))\n",
        "#model.predict(test_digits_sc[[0]])"
      ],
      "execution_count": 31,
      "outputs": [
        {
          "output_type": "execute_result",
          "data": {
            "text/plain": [
              "array([[1.4449428e-13, 1.7355172e-12, 1.2561086e-10, 5.1707882e-10,\n",
              "        3.3494580e-13, 6.0440524e-14, 3.6709107e-19, 1.0000000e+00,\n",
              "        2.5066765e-13, 1.2891367e-08]], dtype=float32)"
            ]
          },
          "metadata": {
            "tags": []
          },
          "execution_count": 31
        }
      ]
    },
    {
      "cell_type": "code",
      "metadata": {
        "id": "k8AisZS6OzS2",
        "colab_type": "code",
        "colab": {
          "base_uri": "https://localhost:8080/",
          "height": 537
        },
        "outputId": "c2dff70c-0d13-40ed-c7d6-d29403eb5323"
      },
      "source": [
        "model.predict(test_digits_sc[:10]) # for 10 imgs"
      ],
      "execution_count": 32,
      "outputs": [
        {
          "output_type": "execute_result",
          "data": {
            "text/plain": [
              "array([[1.44494835e-13, 1.73551722e-12, 1.25611091e-10, 5.17079823e-10,\n",
              "        3.34946426e-13, 6.04406390e-14, 3.67092494e-19, 1.00000000e+00,\n",
              "        2.50669114e-13, 1.28914168e-08],\n",
              "       [5.81978855e-13, 6.90895945e-08, 9.99999881e-01, 9.01630215e-10,\n",
              "        5.24382759e-10, 6.92133070e-12, 4.97369368e-10, 1.55816036e-08,\n",
              "        1.67155600e-09, 2.75154121e-15],\n",
              "       [1.14025118e-08, 9.99016643e-01, 1.20431672e-04, 5.14980138e-06,\n",
              "        1.49851840e-05, 1.44465985e-05, 1.38354044e-05, 6.45276916e-04,\n",
              "        1.69078747e-04, 1.26480415e-07],\n",
              "       [1.00000000e+00, 3.39919629e-12, 7.62822236e-11, 3.50700317e-13,\n",
              "        9.73879137e-12, 7.33525437e-13, 4.29050490e-10, 1.05752100e-11,\n",
              "        1.10233211e-10, 5.11318626e-11],\n",
              "       [5.06370057e-10, 1.22250043e-09, 2.02671700e-07, 2.15594686e-12,\n",
              "        9.99971271e-01, 6.00850392e-09, 3.50501885e-08, 1.38344793e-08,\n",
              "        8.36042791e-09, 2.84685884e-05],\n",
              "       [3.54178254e-12, 9.99981999e-01, 5.24701306e-07, 1.05386100e-08,\n",
              "        2.83234158e-07, 3.54041880e-08, 1.18721282e-07, 1.52101629e-05,\n",
              "        1.73643809e-06, 5.34217226e-10],\n",
              "       [8.66956767e-12, 4.79930332e-11, 3.94274835e-08, 8.19862841e-14,\n",
              "        9.99998689e-01, 8.27702976e-11, 2.78306755e-09, 7.26463667e-10,\n",
              "        3.83530052e-09, 1.26233238e-06],\n",
              "       [2.16895568e-08, 2.17492531e-08, 7.33363834e-07, 2.56484382e-05,\n",
              "        2.83218571e-04, 1.78318260e-07, 5.20253042e-11, 3.67644025e-05,\n",
              "        7.23631956e-07, 9.99652743e-01],\n",
              "       [1.05504130e-11, 1.48272976e-08, 2.49777221e-09, 1.01324062e-07,\n",
              "        3.52191276e-09, 9.99540806e-01, 2.49137047e-05, 2.14267775e-12,\n",
              "        4.33673325e-04, 5.05580203e-07],\n",
              "       [5.27091704e-09, 4.44449810e-08, 4.13825596e-09, 9.35055482e-08,\n",
              "        5.41238580e-03, 7.93667354e-10, 1.56060278e-12, 3.10198920e-05,\n",
              "        2.97523393e-08, 9.94556427e-01]], dtype=float32)"
            ]
          },
          "metadata": {
            "tags": []
          },
          "execution_count": 32
        }
      ]
    },
    {
      "cell_type": "code",
      "metadata": {
        "id": "CUzTZJEdQORo",
        "colab_type": "code",
        "colab": {
          "base_uri": "https://localhost:8080/",
          "height": 35
        },
        "outputId": "dc7aa0b4-51d0-4187-93b1-f5be28215fd1"
      },
      "source": [
        "model.predict_classes(test_digits_sc[[0]])"
      ],
      "execution_count": 33,
      "outputs": [
        {
          "output_type": "execute_result",
          "data": {
            "text/plain": [
              "array([7])"
            ]
          },
          "metadata": {
            "tags": []
          },
          "execution_count": 33
        }
      ]
    },
    {
      "cell_type": "code",
      "metadata": {
        "id": "po3QAjXpQ5cw",
        "colab_type": "code",
        "colab": {
          "base_uri": "https://localhost:8080/",
          "height": 69
        },
        "outputId": "435f08ac-98ed-4c42-8939-838132d077d0"
      },
      "source": [
        "model.predict_proba(test_digits_sc[[0]])"
      ],
      "execution_count": 34,
      "outputs": [
        {
          "output_type": "execute_result",
          "data": {
            "text/plain": [
              "array([[1.4449428e-13, 1.7355172e-12, 1.2561086e-10, 5.1707882e-10,\n",
              "        3.3494580e-13, 6.0440524e-14, 3.6709107e-19, 1.0000000e+00,\n",
              "        2.5066765e-13, 1.2891367e-08]], dtype=float32)"
            ]
          },
          "metadata": {
            "tags": []
          },
          "execution_count": 34
        }
      ]
    },
    {
      "cell_type": "code",
      "metadata": {
        "id": "TzWf_HAoRIdY",
        "colab_type": "code",
        "colab": {
          "base_uri": "https://localhost:8080/",
          "height": 867
        },
        "outputId": "8d9d5b4b-ee55-4634-9fea-2e2862a57cd3"
      },
      "source": [
        "dir(history)"
      ],
      "execution_count": 35,
      "outputs": [
        {
          "output_type": "execute_result",
          "data": {
            "text/plain": [
              "['__class__',\n",
              " '__delattr__',\n",
              " '__dict__',\n",
              " '__dir__',\n",
              " '__doc__',\n",
              " '__eq__',\n",
              " '__format__',\n",
              " '__ge__',\n",
              " '__getattribute__',\n",
              " '__gt__',\n",
              " '__hash__',\n",
              " '__init__',\n",
              " '__init_subclass__',\n",
              " '__le__',\n",
              " '__lt__',\n",
              " '__module__',\n",
              " '__ne__',\n",
              " '__new__',\n",
              " '__reduce__',\n",
              " '__reduce_ex__',\n",
              " '__repr__',\n",
              " '__setattr__',\n",
              " '__sizeof__',\n",
              " '__str__',\n",
              " '__subclasshook__',\n",
              " '__weakref__',\n",
              " 'epoch',\n",
              " 'history',\n",
              " 'model',\n",
              " 'on_batch_begin',\n",
              " 'on_batch_end',\n",
              " 'on_epoch_begin',\n",
              " 'on_epoch_end',\n",
              " 'on_predict_batch_begin',\n",
              " 'on_predict_batch_end',\n",
              " 'on_predict_begin',\n",
              " 'on_predict_end',\n",
              " 'on_test_batch_begin',\n",
              " 'on_test_batch_end',\n",
              " 'on_test_begin',\n",
              " 'on_test_end',\n",
              " 'on_train_batch_begin',\n",
              " 'on_train_batch_end',\n",
              " 'on_train_begin',\n",
              " 'on_train_end',\n",
              " 'params',\n",
              " 'set_model',\n",
              " 'set_params',\n",
              " 'validation_data']"
            ]
          },
          "metadata": {
            "tags": []
          },
          "execution_count": 35
        }
      ]
    },
    {
      "cell_type": "code",
      "metadata": {
        "id": "WIzeaquhRaA-",
        "colab_type": "code",
        "colab": {
          "base_uri": "https://localhost:8080/",
          "height": 711
        },
        "outputId": "bf292588-0060-40e4-a459-64480e25f268"
      },
      "source": [
        "history.history"
      ],
      "execution_count": 36,
      "outputs": [
        {
          "output_type": "execute_result",
          "data": {
            "text/plain": [
              "{'accuracy': [0.9242037,\n",
              "  0.9665926,\n",
              "  0.9746482,\n",
              "  0.98037034,\n",
              "  0.9833889,\n",
              "  0.9853333,\n",
              "  0.98775923,\n",
              "  0.9901111,\n",
              "  0.9900926,\n",
              "  0.9917222],\n",
              " 'loss': [0.24782348882600114,\n",
              "  0.1093015239139398,\n",
              "  0.08278398318971611,\n",
              "  0.06344403801441917,\n",
              "  0.052607640262399974,\n",
              "  0.04597446210812605,\n",
              "  0.04064337618685116,\n",
              "  0.033739718072250846,\n",
              "  0.031740275858413686,\n",
              "  0.025982158886678885],\n",
              " 'val_accuracy': [0.9509999752044678,\n",
              "  0.9633333086967468,\n",
              "  0.9700000286102295,\n",
              "  0.9713333249092102,\n",
              "  0.9726666808128357,\n",
              "  0.9726666808128357,\n",
              "  0.9783333539962769,\n",
              "  0.9763333201408386,\n",
              "  0.9748333096504211,\n",
              "  0.9731666445732117],\n",
              " 'val_loss': [0.16176274346311886,\n",
              "  0.12324384292960167,\n",
              "  0.10330200275219976,\n",
              "  0.11241717433805266,\n",
              "  0.10392819826553265,\n",
              "  0.11784913071182868,\n",
              "  0.07994632773807583,\n",
              "  0.10242628668283578,\n",
              "  0.10578642603832608,\n",
              "  0.12393359203425158]}"
            ]
          },
          "metadata": {
            "tags": []
          },
          "execution_count": 36
        }
      ]
    },
    {
      "cell_type": "code",
      "metadata": {
        "id": "DwetNU5MRca3",
        "colab_type": "code",
        "colab": {
          "base_uri": "https://localhost:8080/",
          "height": 35
        },
        "outputId": "56f500bf-04d3-40af-ed7f-75669bda369b"
      },
      "source": [
        "history.history.keys()"
      ],
      "execution_count": 37,
      "outputs": [
        {
          "output_type": "execute_result",
          "data": {
            "text/plain": [
              "dict_keys(['val_loss', 'val_accuracy', 'loss', 'accuracy'])"
            ]
          },
          "metadata": {
            "tags": []
          },
          "execution_count": 37
        }
      ]
    },
    {
      "cell_type": "code",
      "metadata": {
        "id": "pZ8MKoP6Ri_n",
        "colab_type": "code",
        "colab": {
          "base_uri": "https://localhost:8080/",
          "height": 283
        },
        "outputId": "26976050-4658-43d4-b2dc-0812f598eb90"
      },
      "source": [
        "plt.plot(range(1,11),history.history[\"accuracy\"])\n",
        "plt.plot(range(1,11),history.history[\"val_accuracy\"])\n",
        "  "
      ],
      "execution_count": 38,
      "outputs": [
        {
          "output_type": "execute_result",
          "data": {
            "text/plain": [
              "[<matplotlib.lines.Line2D at 0x7f004c1c01d0>]"
            ]
          },
          "metadata": {
            "tags": []
          },
          "execution_count": 38
        },
        {
          "output_type": "display_data",
          "data": {
            "image/png": "[encoded data removed]",
            "text/plain": [
              "<Figure size 432x288 with 1 Axes>"
            ]
          },
          "metadata": {
            "tags": [],
            "needs_background": "light"
          }
        }
      ]
    },
    {
      "cell_type": "code",
      "metadata": {
        "id": "AbKBMT4AS9wA",
        "colab_type": "code",
        "colab": {}
      },
      "source": [
        ""
      ],
      "execution_count": null,
      "outputs": []
    }
  ]
}