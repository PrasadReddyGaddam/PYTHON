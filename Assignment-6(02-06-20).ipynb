{
 "cells": [
  {
   "cell_type": "markdown",
   "metadata": {},
   "source": [
    "# CSE-221710301019-PRASAD REDDY"
   ]
  },
  {
   "cell_type": "markdown",
   "metadata": {},
   "source": [
    "## Guess the secret word"
   ]
  },
  {
   "cell_type": "code",
   "execution_count": 1,
   "metadata": {},
   "outputs": [],
   "source": [
    "import random\n",
    "lives = 9\n",
    "lot = [\"apple\",\"beans\",\"cakes\",\"donut\",\"fries\",\"honey\",\"lemon\",\"pizza\",\"olive\",\"momos\"]\n",
    "word = random.choice(lot)\n",
    "clue = list(\"?????\")\n",
    "heart = \"\\u2764\"\n",
    "guessed = False"
   ]
  },
  {
   "cell_type": "code",
   "execution_count": 2,
   "metadata": {},
   "outputs": [],
   "source": [
    "def update(letter,word,clue):\n",
    "    index=0\n",
    "    while index<len(word):\n",
    "        if letter == word[index]:\n",
    "            clue[index] = letter\n",
    "        index = index+1"
   ]
  },
  {
   "cell_type": "code",
   "execution_count": 3,
   "metadata": {},
   "outputs": [
    {
     "name": "stdout",
     "output_type": "stream",
     "text": [
      "['?', '?', '?', '?', '?']\n",
      "lives left:  ❤❤❤❤❤❤❤❤❤\n",
      "Guess a letter or a word: a\n",
      "Incorrect. You lose a life\n",
      "['?', '?', '?', '?', '?']\n",
      "lives left:  ❤❤❤❤❤❤❤❤\n",
      "Guess a letter or a word: o\n",
      "['?', '?', '?', 'o', '?']\n",
      "lives left:  ❤❤❤❤❤❤❤❤\n",
      "Guess a letter or a word: l\n",
      "['l', '?', '?', 'o', '?']\n",
      "lives left:  ❤❤❤❤❤❤❤❤\n",
      "Guess a letter or a word: e\n",
      "['l', 'e', '?', 'o', '?']\n",
      "lives left:  ❤❤❤❤❤❤❤❤\n",
      "Guess a letter or a word: m\n",
      "['l', 'e', 'm', 'o', '?']\n",
      "lives left:  ❤❤❤❤❤❤❤❤\n",
      "Guess a letter or a word: o\n",
      "['l', 'e', 'm', 'o', '?']\n",
      "lives left:  ❤❤❤❤❤❤❤❤\n",
      "Guess a letter or a word: n\n",
      "['l', 'e', 'm', 'o', 'n']\n",
      "lives left:  ❤❤❤❤❤❤❤❤\n",
      "Guess a letter or a word: lemon\n",
      "You won the game,Secret_word was: lemon\n"
     ]
    }
   ],
   "source": [
    "while lives > 0:\n",
    "    print(clue)\n",
    "    print(\"lives left: \",heart*lives)\n",
    "    guess = input(\"Guess a letter or a word: \")\n",
    "    if guess == word:\n",
    "        guessed = True\n",
    "        break\n",
    "    elif guess in word:\n",
    "        update(guess,word,clue)\n",
    "    else:\n",
    "        print(\"Incorrect. You lose a life\")\n",
    "        lives = lives - 1\n",
    "if guessed==True:\n",
    "    print(\"You won the game,Secret_word was:\",word)\n",
    "else:\n",
    "    print(\"You lost the game,Secret_word was:\",word)"
   ]
  }
 ],
 "metadata": {
  "kernelspec": {
   "display_name": "Python 3",
   "language": "python",
   "name": "python3"
  },
  "language_info": {
   "codemirror_mode": {
    "name": "ipython",
    "version": 3
   },
   "file_extension": ".py",
   "mimetype": "text/x-python",
   "name": "python",
   "nbconvert_exporter": "python",
   "pygments_lexer": "ipython3",
   "version": "3.7.4"
  }
 },
 "nbformat": 4,
 "nbformat_minor": 2
}
