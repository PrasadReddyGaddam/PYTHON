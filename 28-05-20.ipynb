{
 "cells": [
  {
   "cell_type": "code",
   "execution_count": 12,
   "metadata": {},
   "outputs": [
    {
     "data": {
      "text/plain": [
       "'C:\\\\Users\\\\PRASAD REDDY\\\\Python'"
      ]
     },
     "execution_count": 12,
     "metadata": {},
     "output_type": "execute_result"
    }
   ],
   "source": [
    "pwd\n"
   ]
  },
  {
   "cell_type": "markdown",
   "metadata": {},
   "source": [
    "# Strings\n",
    "1. \" \"/'' every character is a string in python\n",
    "2. immutable no changes are allowed to sstrings\n",
    "3. collection of chars with \"/'\n",
    "4. iterable objects"
   ]
  },
  {
   "cell_type": "code",
   "execution_count": 1,
   "metadata": {},
   "outputs": [
    {
     "name": "stdout",
     "output_type": "stream",
     "text": [
      "enter world \n",
      "<class 'str'> <class 'str'>\n"
     ]
    }
   ],
   "source": [
    "s1 = input('enter ')\n",
    "s2 = \"hello\"\n",
    "print(type(s1),type(s2))"
   ]
  },
  {
   "cell_type": "code",
   "execution_count": 11,
   "metadata": {},
   "outputs": [
    {
     "name": "stdout",
     "output_type": "stream",
     "text": [
      "world hello\n",
      "hellohellohellohello\n",
      "o o llo\n",
      "llo\n"
     ]
    }
   ],
   "source": [
    "# operators : +,* repetition,[]slice\n",
    "print(s1+s2)\n",
    "print(s2 * 4)\n",
    "print(s2[4],s2[-1],s2[2:])\n",
    "#empty value in slice  start =0,stop =len,step\n",
    "#slice s1[start:stop:step]\n",
    "print(s2[2:])"
   ]
  },
  {
   "cell_type": "code",
   "execution_count": 15,
   "metadata": {},
   "outputs": [
    {
     "name": "stdout",
     "output_type": "stream",
     "text": [
      "hello\n",
      "hello\n",
      "hlo\n"
     ]
    }
   ],
   "source": [
    "print(s2[0:5])\n",
    "print(s2[:])\n",
    "print(s2[::2])"
   ]
  },
  {
   "cell_type": "code",
   "execution_count": 25,
   "metadata": {},
   "outputs": [
    {
     "name": "stdout",
     "output_type": "stream",
     "text": [
      "enter string23456\n",
      "no\n"
     ]
    }
   ],
   "source": [
    "#Palindrome(string)\n",
    "s = input(\"enter string\")\n",
    "if s==(s[::-1]):\n",
    "    print(\"palindrome\")\n",
    "else :\n",
    "    print(\"no\")"
   ]
  },
  {
   "cell_type": "code",
   "execution_count": 26,
   "metadata": {},
   "outputs": [
    {
     "name": "stdout",
     "output_type": "stream",
     "text": [
      "enter n121\n",
      "yes\n"
     ]
    }
   ],
   "source": [
    "#str() converts into string\n",
    "n = int(input(\"enter n\"))\n",
    "if str(n)  == str(n)[::-1]:\n",
    "    print(\"yes\")\n",
    "else : \n",
    "    print(\"no\")"
   ]
  },
  {
   "cell_type": "code",
   "execution_count": 27,
   "metadata": {},
   "outputs": [
    {
     "name": "stdout",
     "output_type": "stream",
     "text": [
      "True\n",
      "False\n",
      "False\n"
     ]
    }
   ],
   "source": [
    "#membership operators in string\n",
    "x = 'python'\n",
    "print(\"py\" in x)\n",
    "print(\"pt\" in x)\n",
    "print(\"py\" not in x)"
   ]
  },
  {
   "cell_type": "markdown",
   "metadata": {},
   "source": [
    "# Built in function strings\n",
    "1. len() -> no of chars\n",
    "2. max() -> high ascii char \n",
    "3. min() -> low ascii char\n",
    "4. str() -> converts into str"
   ]
  },
  {
   "cell_type": "code",
   "execution_count": 38,
   "metadata": {},
   "outputs": [
    {
     "name": "stdout",
     "output_type": "stream",
     "text": [
      "5\n",
      "o\n",
      "e\n",
      "c\n",
      "1\n",
      "49\n"
     ]
    },
    {
     "data": {
      "text/plain": [
       "99"
      ]
     },
     "execution_count": 38,
     "metadata": {},
     "output_type": "execute_result"
    }
   ],
   "source": [
    "s = 'hello'\n",
    "p = \"abc123\"\n",
    "print(len(s))\n",
    "print(max(s))\n",
    "print(min(s))\n",
    "print(max(p))\n",
    "print(min(p))\n",
    "print(ord(\"1\"))  ##GIVES ASCII VALUE\n",
    "ord(\"c\")"
   ]
  },
  {
   "cell_type": "markdown",
   "metadata": {},
   "source": [
    "### Built in Methods:\n",
    "1. capitalize()\n",
    "2. isalpha()\n",
    "3. isalnum()\n",
    "4. isdigit()\n",
    "5. isupper()\n",
    "6. islower()\n",
    "8. lower()\n",
    "9. upper()\n",
    "10. swapcase()\n",
    "11. count()\n",
    "12. split()"
   ]
  },
  {
   "cell_type": "code",
   "execution_count": 44,
   "metadata": {},
   "outputs": [
    {
     "name": "stdout",
     "output_type": "stream",
     "text": [
      "5\n",
      "Hello\n",
      "Hello\n"
     ]
    }
   ],
   "source": [
    "#capitalize() -> fistr char to caps \n",
    "s = \"hello\"\n",
    "print(len(s)) #function name(obj name)\n",
    "print(s.capitalize())\n",
    "s = s.capitalize()\n",
    "print(s)"
   ]
  },
  {
   "cell_type": "code",
   "execution_count": 46,
   "metadata": {},
   "outputs": [
    {
     "name": "stdout",
     "output_type": "stream",
     "text": [
      "True\n",
      "False\n",
      "True\n",
      "False\n",
      "False\n",
      "True\n",
      "False\n",
      "True\n",
      "True\n"
     ]
    }
   ],
   "source": [
    "s1 = \"hello\"\n",
    "s2 = \"abc123\"\n",
    "s3 = \"134\"\n",
    "print(s1.isalpha())  #2\n",
    "print(s1.isdigit())   #3\n",
    "print(s1.isalnum())    #4\n",
    "print(s2.isalpha())\n",
    "print(s2.isdigit())\n",
    "print(s2.isalnum())\n",
    "print(s3.isalpha())\n",
    "print(s3.isdigit())\n",
    "print(s3.isalnum())"
   ]
  },
  {
   "cell_type": "code",
   "execution_count": 55,
   "metadata": {},
   "outputs": [
    {
     "name": "stdout",
     "output_type": "stream",
     "text": [
      "False\n",
      "True\n",
      "PYTHON\n",
      "python\n",
      "pYTHON\n"
     ]
    }
   ],
   "source": [
    "s1 = \"python\"\n",
    "s2 = \"PYTHON\"\n",
    "s3 = \"Python\"\n",
    "print(s1.isupper()) #all chaRS ARE CAPS then true\n",
    "print(s2.isupper())  \n",
    "print(s1.upper())   #changes to caps\n",
    "print(s2.lower()) #changes to lower\n",
    "print(s3.swapcase()) #changes case"
   ]
  },
  {
   "cell_type": "code",
   "execution_count": 54,
   "metadata": {},
   "outputs": [],
   "source": [
    "# for all in built  methods of a class\n",
    " #  help(\"str\") \n",
    "#   dir(\"str\")"
   ]
  },
  {
   "cell_type": "code",
   "execution_count": 56,
   "metadata": {},
   "outputs": [
    {
     "data": {
      "text/plain": [
       "3"
      ]
     },
     "execution_count": 56,
     "metadata": {},
     "output_type": "execute_result"
    }
   ],
   "source": [
    "# count\n",
    "s= \"abx anh abc\"\n",
    "s.count(\"a\") #frequency of given str"
   ]
  },
  {
   "cell_type": "code",
   "execution_count": 60,
   "metadata": {},
   "outputs": [
    {
     "name": "stdout",
     "output_type": "stream",
     "text": [
      "['abx', 'anh', 'abc']\n",
      "['a', 'b', 'c', 'd']\n"
     ]
    }
   ],
   "source": [
    "# split() -> return typ is list\n",
    "print(s.split())\n",
    "s1= \"a,b,c,d\"\n",
    "print(s1.split(\",\"))  #delimiter may be any thing \n",
    "                    #by default it is  space"
   ]
  },
  {
   "cell_type": "code",
   "execution_count": 64,
   "metadata": {},
   "outputs": [
    {
     "name": "stdout",
     "output_type": "stream",
     "text": [
      "abc\n",
      "axc\n"
     ]
    }
   ],
   "source": [
    "# replace \n",
    "s = \"abc\"\n",
    "s.replace('b','z')\n",
    "print(s)\n",
    "s= s.replace(\"b\",\"x\")\n",
    "print(s)"
   ]
  },
  {
   "cell_type": "code",
   "execution_count": 68,
   "metadata": {},
   "outputs": [
    {
     "name": "stdout",
     "output_type": "stream",
     "text": [
      "enter str: abcabc\n",
      "enter n:3\n",
      "ababc\n"
     ]
    }
   ],
   "source": [
    "# accept a num and remove nth pos\n",
    "#char from str\n",
    "s = input(\"enter str: \")\n",
    "n = int(input(\"enter n:\"))\n",
    "s = s.replace(s[n-1],\"\",1)\n",
    "print(s)"
   ]
  },
  {
   "cell_type": "markdown",
   "metadata": {},
   "source": [
    "# for loops\n",
    "1. for with range\n",
    "2. for with iterable obj"
   ]
  },
  {
   "cell_type": "markdown",
   "metadata": {},
   "source": [
    "``` for variablename i range(start,stop,step):\n",
    "        stmts```"
   ]
  },
  {
   "cell_type": "code",
   "execution_count": 71,
   "metadata": {},
   "outputs": [
    {
     "name": "stdout",
     "output_type": "stream",
     "text": [
      "1 2 3 4 5 6 7 8 9 10 \n",
      "1,2,3,4,5,6,7,8,9,10,"
     ]
    }
   ],
   "source": [
    "#  print 1-n\n",
    "n=10\n",
    "for i in range(1,n+1):\n",
    "    print(i,end=\" \")\n",
    "print()\n",
    "i=1\n",
    "while i<=n:\n",
    "    print(i,end=\",\")\n",
    "    i+=1"
   ]
  },
  {
   "cell_type": "code",
   "execution_count": 72,
   "metadata": {},
   "outputs": [
    {
     "name": "stdout",
     "output_type": "stream",
     "text": [
      "p\n",
      "y\n",
      "t\n",
      "h\n",
      "o\n",
      "n\n"
     ]
    }
   ],
   "source": [
    "s = \"python\"\n",
    "for i in s:\n",
    "    print(i)"
   ]
  },
  {
   "cell_type": "code",
   "execution_count": 6,
   "metadata": {},
   "outputs": [
    {
     "name": "stdout",
     "output_type": "stream",
     "text": [
      "p\n",
      "y\n",
      "t\n",
      "h\n",
      "o\n",
      "n\n"
     ]
    }
   ],
   "source": [
    "s = \"python\"\n",
    "i=0\n",
    "while i<len(s):\n",
    "    print(s[i])\n",
    "    i+=1\n"
   ]
  },
  {
   "cell_type": "code",
   "execution_count": 4,
   "metadata": {},
   "outputs": [
    {
     "name": "stdout",
     "output_type": "stream",
     "text": [
      "p\n",
      "y\n",
      "t\n",
      "h\n",
      "o\n",
      "n\n"
     ]
    }
   ],
   "source": [
    "for i in range(0,len(s)):\n",
    "    print(s[i])"
   ]
  },
  {
   "cell_type": "code",
   "execution_count": 3,
   "metadata": {},
   "outputs": [
    {
     "name": "stdout",
     "output_type": "stream",
     "text": [
      "enter a string qwer@@#\n",
      "1 3 3\n"
     ]
    }
   ],
   "source": [
    "#count vowels ,cons and special chars\n",
    "s = input(\"enter a string \")\n",
    "c=0\n",
    "v=0\n",
    "sp=0\n",
    "s = s.lower()\n",
    "for  i in range(0,len(s)):\n",
    "    if s[i] in ('a','e','i','o','u'):\n",
    "        v+=1\n",
    "    elif s[i]>='a' and s[i] <='z' :\n",
    "        c+=1\n",
    "    else :\n",
    "        sp+=1\n",
    "print(v,c,sp)"
   ]
  },
  {
   "cell_type": "code",
   "execution_count": 6,
   "metadata": {},
   "outputs": [
    {
     "name": "stdout",
     "output_type": "stream",
     "text": [
      "enter str: abbaaccbbaaa\n"
     ]
    },
    {
     "data": {
      "text/plain": [
       "2"
      ]
     },
     "execution_count": 6,
     "metadata": {},
     "output_type": "execute_result"
    }
   ],
   "source": [
    "# count no of pairs\n",
    "s = input(\"enter str: \")\n",
    "s.count(\"aa\")"
   ]
  },
  {
   "cell_type": "code",
   "execution_count": 8,
   "metadata": {},
   "outputs": [
    {
     "name": "stdout",
     "output_type": "stream",
     "text": [
      "enter str: ((((()()()))))()\n",
      "8\n"
     ]
    }
   ],
   "source": [
    "s = input(\"enter str: \")\n",
    "l,r = 0,0\n",
    "for i in range(0,len(s)):\n",
    "    if s[i] in ('('):\n",
    "        l+=1\n",
    "    else :\n",
    "        r+=1\n",
    "if l==r :\n",
    "    print(l)"
   ]
  },
  {
   "cell_type": "code",
   "execution_count": null,
   "metadata": {},
   "outputs": [],
   "source": []
  }
 ],
 "metadata": {
  "kernelspec": {
   "display_name": "Python 3",
   "language": "python",
   "name": "python3"
  },
  "language_info": {
   "codemirror_mode": {
    "name": "ipython",
    "version": 3
   },
   "file_extension": ".py",
   "mimetype": "text/x-python",
   "name": "python",
   "nbconvert_exporter": "python",
   "pygments_lexer": "ipython3",
   "version": "3.7.4"
  }
 },
 "nbformat": 4,
 "nbformat_minor": 2
}
