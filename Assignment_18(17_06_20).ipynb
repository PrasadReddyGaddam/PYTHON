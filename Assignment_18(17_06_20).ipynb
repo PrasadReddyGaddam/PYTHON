{
  "nbformat": 4,
  "nbformat_minor": 0,
  "metadata": {
    "colab": {
      "name": "Assignment-18(17-06-20).ipynb",
      "provenance": [],
      "collapsed_sections": [],
      "authorship_tag": "ABX9TyOG1XxTRP+I3OZUqhWvVj8k",
      "include_colab_link": true
    },
    "kernelspec": {
      "name": "python3",
      "display_name": "Python 3"
    }
  },
  "cells": [
    {
      "cell_type": "markdown",
      "metadata": {
        "id": "view-in-github",
        "colab_type": "text"
      },
      "source": [
        "<a href=\"https://colab.research.google.com/github/PrasadReddyGaddam/PYTHON/blob/master/Assignment_18(17_06_20).ipynb\" target=\"_parent\"><img src=\"https://colab.research.google.com/assets/colab-badge.svg\" alt=\"Open In Colab\"/></a>"
      ]
    },
    {
      "cell_type": "markdown",
      "metadata": {
        "id": "H-rcCorpswbE",
        "colab_type": "text"
      },
      "source": [
        "**CSE-221710301019-PRASAD REDDY**"
      ]
    },
    {
      "cell_type": "code",
      "metadata": {
        "id": "b_lXVqohs1dg",
        "colab_type": "code",
        "colab": {}
      },
      "source": [
        "import pandas as pd\n",
        "import numpy as np"
      ],
      "execution_count": 1,
      "outputs": []
    },
    {
      "cell_type": "markdown",
      "metadata": {
        "id": "60Yeh_iJtVJt",
        "colab_type": "text"
      },
      "source": [
        "1. Choose a dataset"
      ]
    },
    {
      "cell_type": "markdown",
      "metadata": {
        "id": "_KB_Vd8Xub2D",
        "colab_type": "text"
      },
      "source": [
        "2. Read the data in the proper format based on the data you have selected. \n",
        "- What is the data separator?\n",
        "- Is the data contains header?\n",
        "   - If no, then get the names of the columns from the description and give them using the proper arguments of the function\n"
      ]
    },
    {
      "cell_type": "code",
      "metadata": {
        "id": "7sI5LxCns9Xz",
        "colab_type": "code",
        "colab": {
          "base_uri": "https://localhost:8080/",
          "height": 465
        },
        "outputId": "836c92cb-b866-466d-e28b-42ede2c3675f"
      },
      "source": [
        "data = pd.read_csv(\"https://raw.githubusercontent.com/sumathi16/Datasets/master/Human_Resources_Employee_Attrition.csv\",nrows=200,sep=None)\n",
        "data"
      ],
      "execution_count": 4,
      "outputs": [
        {
          "output_type": "stream",
          "text": [
            "/usr/local/lib/python3.6/dist-packages/ipykernel_launcher.py:1: ParserWarning: Falling back to the 'python' engine because the 'c' engine does not support sep=None with delim_whitespace=False; you can avoid this warning by specifying engine='python'.\n",
            "  \"\"\"Entry point for launching an IPython kernel.\n"
          ],
          "name": "stderr"
        },
        {
          "output_type": "execute_result",
          "data": {
            "text/html": [
              "<div>\n",
              "<style scoped>\n",
              "    .dataframe tbody tr th:only-of-type {\n",
              "        vertical-align: middle;\n",
              "    }\n",
              "\n",
              "    .dataframe tbody tr th {\n",
              "        vertical-align: top;\n",
              "    }\n",
              "\n",
              "    .dataframe thead th {\n",
              "        text-align: right;\n",
              "    }\n",
              "</style>\n",
              "<table border=\"1\" class=\"dataframe\">\n",
              "  <thead>\n",
              "    <tr style=\"text-align: right;\">\n",
              "      <th></th>\n",
              "      <th>satisfaction_level</th>\n",
              "      <th>last_evaluation</th>\n",
              "      <th>number_of_projects</th>\n",
              "      <th>average_monthly_hours</th>\n",
              "      <th>years_at_company</th>\n",
              "      <th>work_accident</th>\n",
              "      <th>left</th>\n",
              "      <th>promotion_last_5years</th>\n",
              "      <th>department</th>\n",
              "      <th>salary</th>\n",
              "    </tr>\n",
              "  </thead>\n",
              "  <tbody>\n",
              "    <tr>\n",
              "      <th>0</th>\n",
              "      <td>0.38</td>\n",
              "      <td>0.53</td>\n",
              "      <td>2</td>\n",
              "      <td>157</td>\n",
              "      <td>3</td>\n",
              "      <td>0</td>\n",
              "      <td>1</td>\n",
              "      <td>0</td>\n",
              "      <td>sales</td>\n",
              "      <td>low</td>\n",
              "    </tr>\n",
              "    <tr>\n",
              "      <th>1</th>\n",
              "      <td>0.80</td>\n",
              "      <td>0.86</td>\n",
              "      <td>5</td>\n",
              "      <td>262</td>\n",
              "      <td>6</td>\n",
              "      <td>0</td>\n",
              "      <td>1</td>\n",
              "      <td>0</td>\n",
              "      <td>sales</td>\n",
              "      <td>medium</td>\n",
              "    </tr>\n",
              "    <tr>\n",
              "      <th>2</th>\n",
              "      <td>0.11</td>\n",
              "      <td>0.88</td>\n",
              "      <td>7</td>\n",
              "      <td>272</td>\n",
              "      <td>4</td>\n",
              "      <td>0</td>\n",
              "      <td>1</td>\n",
              "      <td>0</td>\n",
              "      <td>sales</td>\n",
              "      <td>medium</td>\n",
              "    </tr>\n",
              "    <tr>\n",
              "      <th>3</th>\n",
              "      <td>0.72</td>\n",
              "      <td>0.87</td>\n",
              "      <td>5</td>\n",
              "      <td>223</td>\n",
              "      <td>5</td>\n",
              "      <td>0</td>\n",
              "      <td>1</td>\n",
              "      <td>0</td>\n",
              "      <td>sales</td>\n",
              "      <td>low</td>\n",
              "    </tr>\n",
              "    <tr>\n",
              "      <th>4</th>\n",
              "      <td>0.37</td>\n",
              "      <td>0.52</td>\n",
              "      <td>2</td>\n",
              "      <td>159</td>\n",
              "      <td>3</td>\n",
              "      <td>0</td>\n",
              "      <td>1</td>\n",
              "      <td>0</td>\n",
              "      <td>sales</td>\n",
              "      <td>low</td>\n",
              "    </tr>\n",
              "    <tr>\n",
              "      <th>...</th>\n",
              "      <td>...</td>\n",
              "      <td>...</td>\n",
              "      <td>...</td>\n",
              "      <td>...</td>\n",
              "      <td>...</td>\n",
              "      <td>...</td>\n",
              "      <td>...</td>\n",
              "      <td>...</td>\n",
              "      <td>...</td>\n",
              "      <td>...</td>\n",
              "    </tr>\n",
              "    <tr>\n",
              "      <th>195</th>\n",
              "      <td>0.09</td>\n",
              "      <td>0.80</td>\n",
              "      <td>6</td>\n",
              "      <td>304</td>\n",
              "      <td>4</td>\n",
              "      <td>0</td>\n",
              "      <td>1</td>\n",
              "      <td>0</td>\n",
              "      <td>technical</td>\n",
              "      <td>low</td>\n",
              "    </tr>\n",
              "    <tr>\n",
              "      <th>196</th>\n",
              "      <td>0.27</td>\n",
              "      <td>0.54</td>\n",
              "      <td>7</td>\n",
              "      <td>278</td>\n",
              "      <td>3</td>\n",
              "      <td>0</td>\n",
              "      <td>1</td>\n",
              "      <td>0</td>\n",
              "      <td>technical</td>\n",
              "      <td>low</td>\n",
              "    </tr>\n",
              "    <tr>\n",
              "      <th>197</th>\n",
              "      <td>0.10</td>\n",
              "      <td>0.91</td>\n",
              "      <td>6</td>\n",
              "      <td>287</td>\n",
              "      <td>4</td>\n",
              "      <td>0</td>\n",
              "      <td>1</td>\n",
              "      <td>0</td>\n",
              "      <td>technical</td>\n",
              "      <td>low</td>\n",
              "    </tr>\n",
              "    <tr>\n",
              "      <th>198</th>\n",
              "      <td>0.10</td>\n",
              "      <td>0.89</td>\n",
              "      <td>7</td>\n",
              "      <td>285</td>\n",
              "      <td>4</td>\n",
              "      <td>0</td>\n",
              "      <td>1</td>\n",
              "      <td>0</td>\n",
              "      <td>technical</td>\n",
              "      <td>low</td>\n",
              "    </tr>\n",
              "    <tr>\n",
              "      <th>199</th>\n",
              "      <td>0.77</td>\n",
              "      <td>0.94</td>\n",
              "      <td>5</td>\n",
              "      <td>226</td>\n",
              "      <td>6</td>\n",
              "      <td>0</td>\n",
              "      <td>1</td>\n",
              "      <td>0</td>\n",
              "      <td>support</td>\n",
              "      <td>low</td>\n",
              "    </tr>\n",
              "  </tbody>\n",
              "</table>\n",
              "<p>200 rows × 10 columns</p>\n",
              "</div>"
            ],
            "text/plain": [
              "     satisfaction_level  last_evaluation  ...  department  salary\n",
              "0                  0.38             0.53  ...       sales     low\n",
              "1                  0.80             0.86  ...       sales  medium\n",
              "2                  0.11             0.88  ...       sales  medium\n",
              "3                  0.72             0.87  ...       sales     low\n",
              "4                  0.37             0.52  ...       sales     low\n",
              "..                  ...              ...  ...         ...     ...\n",
              "195                0.09             0.80  ...   technical     low\n",
              "196                0.27             0.54  ...   technical     low\n",
              "197                0.10             0.91  ...   technical     low\n",
              "198                0.10             0.89  ...   technical     low\n",
              "199                0.77             0.94  ...     support     low\n",
              "\n",
              "[200 rows x 10 columns]"
            ]
          },
          "metadata": {
            "tags": []
          },
          "execution_count": 4
        }
      ]
    },
    {
      "cell_type": "markdown",
      "metadata": {
        "id": "NneuUxDuupan",
        "colab_type": "text"
      },
      "source": [
        "No seperator required since data is in proper format"
      ]
    },
    {
      "cell_type": "code",
      "metadata": {
        "id": "-UdeaUQGtLLS",
        "colab_type": "code",
        "colab": {
          "base_uri": "https://localhost:8080/",
          "height": 87
        },
        "outputId": "bec634cb-267e-47ff-fbe7-837ce3f359bc"
      },
      "source": [
        "data.columns\n",
        "#contains following headers"
      ],
      "execution_count": 8,
      "outputs": [
        {
          "output_type": "execute_result",
          "data": {
            "text/plain": [
              "Index(['satisfaction_level', 'last_evaluation', 'number_of_projects',\n",
              "       'average_monthly_hours', 'years_at_company', 'work_accident', 'left',\n",
              "       'promotion_last_5years', 'department', 'salary'],\n",
              "      dtype='object')"
            ]
          },
          "metadata": {
            "tags": []
          },
          "execution_count": 8
        }
      ]
    },
    {
      "cell_type": "markdown",
      "metadata": {
        "id": "jUbJzdeIu703",
        "colab_type": "text"
      },
      "source": [
        "3. After getting the data as a dataframe check how many rows and columns are there? "
      ]
    },
    {
      "cell_type": "code",
      "metadata": {
        "id": "gpNEIFwit7HY",
        "colab_type": "code",
        "colab": {
          "base_uri": "https://localhost:8080/",
          "height": 52
        },
        "outputId": "6f6ce7a6-a8a6-43fb-b323-dcff3ed81a97"
      },
      "source": [
        "print(\" Rows:\",data.shape[0],\"\\n\",\"Columns:\",data.shape[1])"
      ],
      "execution_count": 9,
      "outputs": [
        {
          "output_type": "stream",
          "text": [
            " Rows: 200 \n",
            " Columns: 10\n"
          ],
          "name": "stdout"
        }
      ]
    },
    {
      "cell_type": "markdown",
      "metadata": {
        "id": "VPbL5PX5v2XU",
        "colab_type": "text"
      },
      "source": [
        "4.Check how many categorical and numerical columns are there?\n",
        "- Categorical - object type\n",
        "- Numerical - int,float\n",
        "- Boolean - bool\n"
      ]
    },
    {
      "cell_type": "code",
      "metadata": {
        "id": "UXulyOcdvXy5",
        "colab_type": "code",
        "colab": {
          "base_uri": "https://localhost:8080/",
          "height": 210
        },
        "outputId": "af0dc5de-e3cb-4d0d-d7d2-934beaad2b42"
      },
      "source": [
        "data.dtypes\n",
        "# There are 2 float columns,6 int columns,2 object columns\n",
        "# on total 8 numerical and 2 categorical columns"
      ],
      "execution_count": 12,
      "outputs": [
        {
          "output_type": "execute_result",
          "data": {
            "text/plain": [
              "satisfaction_level       float64\n",
              "last_evaluation          float64\n",
              "number_of_projects         int64\n",
              "average_monthly_hours      int64\n",
              "years_at_company           int64\n",
              "work_accident              int64\n",
              "left                       int64\n",
              "promotion_last_5years      int64\n",
              "department                object\n",
              "salary                    object\n",
              "dtype: object"
            ]
          },
          "metadata": {
            "tags": []
          },
          "execution_count": 12
        }
      ]
    },
    {
      "cell_type": "markdown",
      "metadata": {
        "id": "bcaRri4pwzMW",
        "colab_type": "text"
      },
      "source": [
        "5. Create a copy of the dataframe. Later on perform the operations on a new dataframe.\n"
      ]
    },
    {
      "cell_type": "code",
      "metadata": {
        "id": "OEPVBYsBwyxa",
        "colab_type": "code",
        "colab": {
          "base_uri": "https://localhost:8080/",
          "height": 430
        },
        "outputId": "2e4b8e94-49ff-4f99-a48a-d90a30582ae6"
      },
      "source": [
        "temp = data.copy()\n",
        "temp"
      ],
      "execution_count": 13,
      "outputs": [
        {
          "output_type": "execute_result",
          "data": {
            "text/html": [
              "<div>\n",
              "<style scoped>\n",
              "    .dataframe tbody tr th:only-of-type {\n",
              "        vertical-align: middle;\n",
              "    }\n",
              "\n",
              "    .dataframe tbody tr th {\n",
              "        vertical-align: top;\n",
              "    }\n",
              "\n",
              "    .dataframe thead th {\n",
              "        text-align: right;\n",
              "    }\n",
              "</style>\n",
              "<table border=\"1\" class=\"dataframe\">\n",
              "  <thead>\n",
              "    <tr style=\"text-align: right;\">\n",
              "      <th></th>\n",
              "      <th>satisfaction_level</th>\n",
              "      <th>last_evaluation</th>\n",
              "      <th>number_of_projects</th>\n",
              "      <th>average_monthly_hours</th>\n",
              "      <th>years_at_company</th>\n",
              "      <th>work_accident</th>\n",
              "      <th>left</th>\n",
              "      <th>promotion_last_5years</th>\n",
              "      <th>department</th>\n",
              "      <th>salary</th>\n",
              "    </tr>\n",
              "  </thead>\n",
              "  <tbody>\n",
              "    <tr>\n",
              "      <th>0</th>\n",
              "      <td>0.38</td>\n",
              "      <td>0.53</td>\n",
              "      <td>2</td>\n",
              "      <td>157</td>\n",
              "      <td>3</td>\n",
              "      <td>0</td>\n",
              "      <td>1</td>\n",
              "      <td>0</td>\n",
              "      <td>sales</td>\n",
              "      <td>low</td>\n",
              "    </tr>\n",
              "    <tr>\n",
              "      <th>1</th>\n",
              "      <td>0.80</td>\n",
              "      <td>0.86</td>\n",
              "      <td>5</td>\n",
              "      <td>262</td>\n",
              "      <td>6</td>\n",
              "      <td>0</td>\n",
              "      <td>1</td>\n",
              "      <td>0</td>\n",
              "      <td>sales</td>\n",
              "      <td>medium</td>\n",
              "    </tr>\n",
              "    <tr>\n",
              "      <th>2</th>\n",
              "      <td>0.11</td>\n",
              "      <td>0.88</td>\n",
              "      <td>7</td>\n",
              "      <td>272</td>\n",
              "      <td>4</td>\n",
              "      <td>0</td>\n",
              "      <td>1</td>\n",
              "      <td>0</td>\n",
              "      <td>sales</td>\n",
              "      <td>medium</td>\n",
              "    </tr>\n",
              "    <tr>\n",
              "      <th>3</th>\n",
              "      <td>0.72</td>\n",
              "      <td>0.87</td>\n",
              "      <td>5</td>\n",
              "      <td>223</td>\n",
              "      <td>5</td>\n",
              "      <td>0</td>\n",
              "      <td>1</td>\n",
              "      <td>0</td>\n",
              "      <td>sales</td>\n",
              "      <td>low</td>\n",
              "    </tr>\n",
              "    <tr>\n",
              "      <th>4</th>\n",
              "      <td>0.37</td>\n",
              "      <td>0.52</td>\n",
              "      <td>2</td>\n",
              "      <td>159</td>\n",
              "      <td>3</td>\n",
              "      <td>0</td>\n",
              "      <td>1</td>\n",
              "      <td>0</td>\n",
              "      <td>sales</td>\n",
              "      <td>low</td>\n",
              "    </tr>\n",
              "    <tr>\n",
              "      <th>...</th>\n",
              "      <td>...</td>\n",
              "      <td>...</td>\n",
              "      <td>...</td>\n",
              "      <td>...</td>\n",
              "      <td>...</td>\n",
              "      <td>...</td>\n",
              "      <td>...</td>\n",
              "      <td>...</td>\n",
              "      <td>...</td>\n",
              "      <td>...</td>\n",
              "    </tr>\n",
              "    <tr>\n",
              "      <th>195</th>\n",
              "      <td>0.09</td>\n",
              "      <td>0.80</td>\n",
              "      <td>6</td>\n",
              "      <td>304</td>\n",
              "      <td>4</td>\n",
              "      <td>0</td>\n",
              "      <td>1</td>\n",
              "      <td>0</td>\n",
              "      <td>technical</td>\n",
              "      <td>low</td>\n",
              "    </tr>\n",
              "    <tr>\n",
              "      <th>196</th>\n",
              "      <td>0.27</td>\n",
              "      <td>0.54</td>\n",
              "      <td>7</td>\n",
              "      <td>278</td>\n",
              "      <td>3</td>\n",
              "      <td>0</td>\n",
              "      <td>1</td>\n",
              "      <td>0</td>\n",
              "      <td>technical</td>\n",
              "      <td>low</td>\n",
              "    </tr>\n",
              "    <tr>\n",
              "      <th>197</th>\n",
              "      <td>0.10</td>\n",
              "      <td>0.91</td>\n",
              "      <td>6</td>\n",
              "      <td>287</td>\n",
              "      <td>4</td>\n",
              "      <td>0</td>\n",
              "      <td>1</td>\n",
              "      <td>0</td>\n",
              "      <td>technical</td>\n",
              "      <td>low</td>\n",
              "    </tr>\n",
              "    <tr>\n",
              "      <th>198</th>\n",
              "      <td>0.10</td>\n",
              "      <td>0.89</td>\n",
              "      <td>7</td>\n",
              "      <td>285</td>\n",
              "      <td>4</td>\n",
              "      <td>0</td>\n",
              "      <td>1</td>\n",
              "      <td>0</td>\n",
              "      <td>technical</td>\n",
              "      <td>low</td>\n",
              "    </tr>\n",
              "    <tr>\n",
              "      <th>199</th>\n",
              "      <td>0.77</td>\n",
              "      <td>0.94</td>\n",
              "      <td>5</td>\n",
              "      <td>226</td>\n",
              "      <td>6</td>\n",
              "      <td>0</td>\n",
              "      <td>1</td>\n",
              "      <td>0</td>\n",
              "      <td>support</td>\n",
              "      <td>low</td>\n",
              "    </tr>\n",
              "  </tbody>\n",
              "</table>\n",
              "<p>200 rows × 10 columns</p>\n",
              "</div>"
            ],
            "text/plain": [
              "     satisfaction_level  last_evaluation  ...  department  salary\n",
              "0                  0.38             0.53  ...       sales     low\n",
              "1                  0.80             0.86  ...       sales  medium\n",
              "2                  0.11             0.88  ...       sales  medium\n",
              "3                  0.72             0.87  ...       sales     low\n",
              "4                  0.37             0.52  ...       sales     low\n",
              "..                  ...              ...  ...         ...     ...\n",
              "195                0.09             0.80  ...   technical     low\n",
              "196                0.27             0.54  ...   technical     low\n",
              "197                0.10             0.91  ...   technical     low\n",
              "198                0.10             0.89  ...   technical     low\n",
              "199                0.77             0.94  ...     support     low\n",
              "\n",
              "[200 rows x 10 columns]"
            ]
          },
          "metadata": {
            "tags": []
          },
          "execution_count": 13
        }
      ]
    },
    {
      "cell_type": "markdown",
      "metadata": {
        "id": "f7WlMd_Ywas8",
        "colab_type": "text"
      },
      "source": [
        "6. Observe the data and check for missing data and duplicates based on entire data.\n",
        " -   Remove the duplicates \n",
        "  - Replace the missing values with a function of your choice \n"
      ]
    },
    {
      "cell_type": "code",
      "metadata": {
        "id": "qxNXGDPgxY1T",
        "colab_type": "code",
        "colab": {
          "base_uri": "https://localhost:8080/",
          "height": 430
        },
        "outputId": "cba2cf22-dfe6-4ee6-8e62-37ff954db56d"
      },
      "source": [
        "temp[temp[\"satisfaction_level\"].duplicated()]"
      ],
      "execution_count": 18,
      "outputs": [
        {
          "output_type": "execute_result",
          "data": {
            "text/html": [
              "<div>\n",
              "<style scoped>\n",
              "    .dataframe tbody tr th:only-of-type {\n",
              "        vertical-align: middle;\n",
              "    }\n",
              "\n",
              "    .dataframe tbody tr th {\n",
              "        vertical-align: top;\n",
              "    }\n",
              "\n",
              "    .dataframe thead th {\n",
              "        text-align: right;\n",
              "    }\n",
              "</style>\n",
              "<table border=\"1\" class=\"dataframe\">\n",
              "  <thead>\n",
              "    <tr style=\"text-align: right;\">\n",
              "      <th></th>\n",
              "      <th>satisfaction_level</th>\n",
              "      <th>last_evaluation</th>\n",
              "      <th>number_of_projects</th>\n",
              "      <th>average_monthly_hours</th>\n",
              "      <th>years_at_company</th>\n",
              "      <th>work_accident</th>\n",
              "      <th>left</th>\n",
              "      <th>promotion_last_5years</th>\n",
              "      <th>department</th>\n",
              "      <th>salary</th>\n",
              "    </tr>\n",
              "  </thead>\n",
              "  <tbody>\n",
              "    <tr>\n",
              "      <th>11</th>\n",
              "      <td>0.11</td>\n",
              "      <td>0.81</td>\n",
              "      <td>6</td>\n",
              "      <td>305</td>\n",
              "      <td>4</td>\n",
              "      <td>0</td>\n",
              "      <td>1</td>\n",
              "      <td>0</td>\n",
              "      <td>sales</td>\n",
              "      <td>low</td>\n",
              "    </tr>\n",
              "    <tr>\n",
              "      <th>13</th>\n",
              "      <td>0.41</td>\n",
              "      <td>0.55</td>\n",
              "      <td>2</td>\n",
              "      <td>148</td>\n",
              "      <td>3</td>\n",
              "      <td>0</td>\n",
              "      <td>1</td>\n",
              "      <td>0</td>\n",
              "      <td>sales</td>\n",
              "      <td>low</td>\n",
              "    </tr>\n",
              "    <tr>\n",
              "      <th>15</th>\n",
              "      <td>0.38</td>\n",
              "      <td>0.54</td>\n",
              "      <td>2</td>\n",
              "      <td>143</td>\n",
              "      <td>3</td>\n",
              "      <td>0</td>\n",
              "      <td>1</td>\n",
              "      <td>0</td>\n",
              "      <td>sales</td>\n",
              "      <td>low</td>\n",
              "    </tr>\n",
              "    <tr>\n",
              "      <th>16</th>\n",
              "      <td>0.45</td>\n",
              "      <td>0.47</td>\n",
              "      <td>2</td>\n",
              "      <td>160</td>\n",
              "      <td>3</td>\n",
              "      <td>0</td>\n",
              "      <td>1</td>\n",
              "      <td>0</td>\n",
              "      <td>sales</td>\n",
              "      <td>low</td>\n",
              "    </tr>\n",
              "    <tr>\n",
              "      <th>18</th>\n",
              "      <td>0.45</td>\n",
              "      <td>0.51</td>\n",
              "      <td>2</td>\n",
              "      <td>160</td>\n",
              "      <td>3</td>\n",
              "      <td>1</td>\n",
              "      <td>1</td>\n",
              "      <td>1</td>\n",
              "      <td>sales</td>\n",
              "      <td>low</td>\n",
              "    </tr>\n",
              "    <tr>\n",
              "      <th>...</th>\n",
              "      <td>...</td>\n",
              "      <td>...</td>\n",
              "      <td>...</td>\n",
              "      <td>...</td>\n",
              "      <td>...</td>\n",
              "      <td>...</td>\n",
              "      <td>...</td>\n",
              "      <td>...</td>\n",
              "      <td>...</td>\n",
              "      <td>...</td>\n",
              "    </tr>\n",
              "    <tr>\n",
              "      <th>193</th>\n",
              "      <td>0.09</td>\n",
              "      <td>0.82</td>\n",
              "      <td>6</td>\n",
              "      <td>249</td>\n",
              "      <td>4</td>\n",
              "      <td>0</td>\n",
              "      <td>1</td>\n",
              "      <td>0</td>\n",
              "      <td>technical</td>\n",
              "      <td>medium</td>\n",
              "    </tr>\n",
              "    <tr>\n",
              "      <th>194</th>\n",
              "      <td>0.89</td>\n",
              "      <td>0.95</td>\n",
              "      <td>4</td>\n",
              "      <td>275</td>\n",
              "      <td>5</td>\n",
              "      <td>0</td>\n",
              "      <td>1</td>\n",
              "      <td>0</td>\n",
              "      <td>technical</td>\n",
              "      <td>medium</td>\n",
              "    </tr>\n",
              "    <tr>\n",
              "      <th>195</th>\n",
              "      <td>0.09</td>\n",
              "      <td>0.80</td>\n",
              "      <td>6</td>\n",
              "      <td>304</td>\n",
              "      <td>4</td>\n",
              "      <td>0</td>\n",
              "      <td>1</td>\n",
              "      <td>0</td>\n",
              "      <td>technical</td>\n",
              "      <td>low</td>\n",
              "    </tr>\n",
              "    <tr>\n",
              "      <th>197</th>\n",
              "      <td>0.10</td>\n",
              "      <td>0.91</td>\n",
              "      <td>6</td>\n",
              "      <td>287</td>\n",
              "      <td>4</td>\n",
              "      <td>0</td>\n",
              "      <td>1</td>\n",
              "      <td>0</td>\n",
              "      <td>technical</td>\n",
              "      <td>low</td>\n",
              "    </tr>\n",
              "    <tr>\n",
              "      <th>198</th>\n",
              "      <td>0.10</td>\n",
              "      <td>0.89</td>\n",
              "      <td>7</td>\n",
              "      <td>285</td>\n",
              "      <td>4</td>\n",
              "      <td>0</td>\n",
              "      <td>1</td>\n",
              "      <td>0</td>\n",
              "      <td>technical</td>\n",
              "      <td>low</td>\n",
              "    </tr>\n",
              "  </tbody>\n",
              "</table>\n",
              "<p>155 rows × 10 columns</p>\n",
              "</div>"
            ],
            "text/plain": [
              "     satisfaction_level  last_evaluation  ...  department  salary\n",
              "11                 0.11             0.81  ...       sales     low\n",
              "13                 0.41             0.55  ...       sales     low\n",
              "15                 0.38             0.54  ...       sales     low\n",
              "16                 0.45             0.47  ...       sales     low\n",
              "18                 0.45             0.51  ...       sales     low\n",
              "..                  ...              ...  ...         ...     ...\n",
              "193                0.09             0.82  ...   technical  medium\n",
              "194                0.89             0.95  ...   technical  medium\n",
              "195                0.09             0.80  ...   technical     low\n",
              "197                0.10             0.91  ...   technical     low\n",
              "198                0.10             0.89  ...   technical     low\n",
              "\n",
              "[155 rows x 10 columns]"
            ]
          },
          "metadata": {
            "tags": []
          },
          "execution_count": 18
        }
      ]
    },
    {
      "cell_type": "code",
      "metadata": {
        "id": "COIq7aGOwOFR",
        "colab_type": "code",
        "colab": {
          "base_uri": "https://localhost:8080/",
          "height": 210
        },
        "outputId": "58084900-63df-4476-8cf2-62f9926c29f9"
      },
      "source": [
        "temp.isna().sum()\n",
        "# no missing values in any column"
      ],
      "execution_count": 15,
      "outputs": [
        {
          "output_type": "execute_result",
          "data": {
            "text/plain": [
              "satisfaction_level       0\n",
              "last_evaluation          0\n",
              "number_of_projects       0\n",
              "average_monthly_hours    0\n",
              "years_at_company         0\n",
              "work_accident            0\n",
              "left                     0\n",
              "promotion_last_5years    0\n",
              "department               0\n",
              "salary                   0\n",
              "dtype: int64"
            ]
          },
          "metadata": {
            "tags": []
          },
          "execution_count": 15
        }
      ]
    },
    {
      "cell_type": "markdown",
      "metadata": {
        "id": "jNIS41yW2AK_",
        "colab_type": "text"
      },
      "source": [
        "7. Apply standard scaler for all the columns\n"
      ]
    },
    {
      "cell_type": "code",
      "metadata": {
        "id": "6HNUd8G0xPgR",
        "colab_type": "code",
        "colab": {
          "base_uri": "https://localhost:8080/",
          "height": 245
        },
        "outputId": "f8a7f492-ccc4-4911-ff9e-5fedb0c2b82b"
      },
      "source": [
        "numdata = temp.iloc[:,0:8]\n",
        "from sklearn.preprocessing import StandardScaler\n",
        "sc = StandardScaler()\n",
        "stdscale_data = sc.fit_transform(numdata)\n",
        "stdscale_data"
      ],
      "execution_count": 28,
      "outputs": [
        {
          "output_type": "execute_result",
          "data": {
            "text/plain": [
              "array([[-0.1291856 , -0.89505158, -0.98361129, ..., -0.19044535,\n",
              "         0.        , -0.12340351],\n",
              "       [ 1.47370815,  0.80343618,  0.61143404, ..., -0.19044535,\n",
              "         0.        , -0.12340351],\n",
              "       [-1.1596173 ,  0.90637483,  1.6747976 , ..., -0.19044535,\n",
              "         0.        , -0.12340351],\n",
              "       ...,\n",
              "       [-1.19778144,  1.06078281,  1.14311582, ..., -0.19044535,\n",
              "         0.        , -0.12340351],\n",
              "       [-1.19778144,  0.95784416,  1.6747976 , ..., -0.19044535,\n",
              "         0.        , -0.12340351],\n",
              "       [ 1.35921574,  1.21519079,  0.61143404, ..., -0.19044535,\n",
              "         0.        , -0.12340351]])"
            ]
          },
          "metadata": {
            "tags": []
          },
          "execution_count": 28
        }
      ]
    },
    {
      "cell_type": "code",
      "metadata": {
        "id": "5uISuXNW2VSz",
        "colab_type": "code",
        "colab": {
          "base_uri": "https://localhost:8080/",
          "height": 410
        },
        "outputId": "eb197f21-416b-4aff-a903-3e7010aa1c95"
      },
      "source": [
        "stdscale_data = pd.DataFrame(stdscale_data)\n",
        "stdscale_data"
      ],
      "execution_count": 29,
      "outputs": [
        {
          "output_type": "execute_result",
          "data": {
            "text/html": [
              "<div>\n",
              "<style scoped>\n",
              "    .dataframe tbody tr th:only-of-type {\n",
              "        vertical-align: middle;\n",
              "    }\n",
              "\n",
              "    .dataframe tbody tr th {\n",
              "        vertical-align: top;\n",
              "    }\n",
              "\n",
              "    .dataframe thead th {\n",
              "        text-align: right;\n",
              "    }\n",
              "</style>\n",
              "<table border=\"1\" class=\"dataframe\">\n",
              "  <thead>\n",
              "    <tr style=\"text-align: right;\">\n",
              "      <th></th>\n",
              "      <th>0</th>\n",
              "      <th>1</th>\n",
              "      <th>2</th>\n",
              "      <th>3</th>\n",
              "      <th>4</th>\n",
              "      <th>5</th>\n",
              "      <th>6</th>\n",
              "      <th>7</th>\n",
              "    </tr>\n",
              "  </thead>\n",
              "  <tbody>\n",
              "    <tr>\n",
              "      <th>0</th>\n",
              "      <td>-0.129186</td>\n",
              "      <td>-0.895052</td>\n",
              "      <td>-0.983611</td>\n",
              "      <td>-0.756906</td>\n",
              "      <td>-0.847998</td>\n",
              "      <td>-0.190445</td>\n",
              "      <td>0.0</td>\n",
              "      <td>-0.123404</td>\n",
              "    </tr>\n",
              "    <tr>\n",
              "      <th>1</th>\n",
              "      <td>1.473708</td>\n",
              "      <td>0.803436</td>\n",
              "      <td>0.611434</td>\n",
              "      <td>0.877208</td>\n",
              "      <td>2.331995</td>\n",
              "      <td>-0.190445</td>\n",
              "      <td>0.0</td>\n",
              "      <td>-0.123404</td>\n",
              "    </tr>\n",
              "    <tr>\n",
              "      <th>2</th>\n",
              "      <td>-1.159617</td>\n",
              "      <td>0.906375</td>\n",
              "      <td>1.674798</td>\n",
              "      <td>1.032838</td>\n",
              "      <td>0.212000</td>\n",
              "      <td>-0.190445</td>\n",
              "      <td>0.0</td>\n",
              "      <td>-0.123404</td>\n",
              "    </tr>\n",
              "    <tr>\n",
              "      <th>3</th>\n",
              "      <td>1.168395</td>\n",
              "      <td>0.854906</td>\n",
              "      <td>0.611434</td>\n",
              "      <td>0.270251</td>\n",
              "      <td>1.271997</td>\n",
              "      <td>-0.190445</td>\n",
              "      <td>0.0</td>\n",
              "      <td>-0.123404</td>\n",
              "    </tr>\n",
              "    <tr>\n",
              "      <th>4</th>\n",
              "      <td>-0.167350</td>\n",
              "      <td>-0.946521</td>\n",
              "      <td>-0.983611</td>\n",
              "      <td>-0.725780</td>\n",
              "      <td>-0.847998</td>\n",
              "      <td>-0.190445</td>\n",
              "      <td>0.0</td>\n",
              "      <td>-0.123404</td>\n",
              "    </tr>\n",
              "    <tr>\n",
              "      <th>...</th>\n",
              "      <td>...</td>\n",
              "      <td>...</td>\n",
              "      <td>...</td>\n",
              "      <td>...</td>\n",
              "      <td>...</td>\n",
              "      <td>...</td>\n",
              "      <td>...</td>\n",
              "      <td>...</td>\n",
              "    </tr>\n",
              "    <tr>\n",
              "      <th>195</th>\n",
              "      <td>-1.235946</td>\n",
              "      <td>0.494620</td>\n",
              "      <td>1.143116</td>\n",
              "      <td>1.530854</td>\n",
              "      <td>0.212000</td>\n",
              "      <td>-0.190445</td>\n",
              "      <td>0.0</td>\n",
              "      <td>-0.123404</td>\n",
              "    </tr>\n",
              "    <tr>\n",
              "      <th>196</th>\n",
              "      <td>-0.548991</td>\n",
              "      <td>-0.843582</td>\n",
              "      <td>1.674798</td>\n",
              "      <td>1.126216</td>\n",
              "      <td>-0.847998</td>\n",
              "      <td>-0.190445</td>\n",
              "      <td>0.0</td>\n",
              "      <td>-0.123404</td>\n",
              "    </tr>\n",
              "    <tr>\n",
              "      <th>197</th>\n",
              "      <td>-1.197781</td>\n",
              "      <td>1.060783</td>\n",
              "      <td>1.143116</td>\n",
              "      <td>1.266283</td>\n",
              "      <td>0.212000</td>\n",
              "      <td>-0.190445</td>\n",
              "      <td>0.0</td>\n",
              "      <td>-0.123404</td>\n",
              "    </tr>\n",
              "    <tr>\n",
              "      <th>198</th>\n",
              "      <td>-1.197781</td>\n",
              "      <td>0.957844</td>\n",
              "      <td>1.674798</td>\n",
              "      <td>1.235157</td>\n",
              "      <td>0.212000</td>\n",
              "      <td>-0.190445</td>\n",
              "      <td>0.0</td>\n",
              "      <td>-0.123404</td>\n",
              "    </tr>\n",
              "    <tr>\n",
              "      <th>199</th>\n",
              "      <td>1.359216</td>\n",
              "      <td>1.215191</td>\n",
              "      <td>0.611434</td>\n",
              "      <td>0.316940</td>\n",
              "      <td>2.331995</td>\n",
              "      <td>-0.190445</td>\n",
              "      <td>0.0</td>\n",
              "      <td>-0.123404</td>\n",
              "    </tr>\n",
              "  </tbody>\n",
              "</table>\n",
              "<p>200 rows × 8 columns</p>\n",
              "</div>"
            ],
            "text/plain": [
              "            0         1         2         3         4         5    6         7\n",
              "0   -0.129186 -0.895052 -0.983611 -0.756906 -0.847998 -0.190445  0.0 -0.123404\n",
              "1    1.473708  0.803436  0.611434  0.877208  2.331995 -0.190445  0.0 -0.123404\n",
              "2   -1.159617  0.906375  1.674798  1.032838  0.212000 -0.190445  0.0 -0.123404\n",
              "3    1.168395  0.854906  0.611434  0.270251  1.271997 -0.190445  0.0 -0.123404\n",
              "4   -0.167350 -0.946521 -0.983611 -0.725780 -0.847998 -0.190445  0.0 -0.123404\n",
              "..        ...       ...       ...       ...       ...       ...  ...       ...\n",
              "195 -1.235946  0.494620  1.143116  1.530854  0.212000 -0.190445  0.0 -0.123404\n",
              "196 -0.548991 -0.843582  1.674798  1.126216 -0.847998 -0.190445  0.0 -0.123404\n",
              "197 -1.197781  1.060783  1.143116  1.266283  0.212000 -0.190445  0.0 -0.123404\n",
              "198 -1.197781  0.957844  1.674798  1.235157  0.212000 -0.190445  0.0 -0.123404\n",
              "199  1.359216  1.215191  0.611434  0.316940  2.331995 -0.190445  0.0 -0.123404\n",
              "\n",
              "[200 rows x 8 columns]"
            ]
          },
          "metadata": {
            "tags": []
          },
          "execution_count": 29
        }
      ]
    },
    {
      "cell_type": "markdown",
      "metadata": {
        "id": "XnQhUZI_5sgw",
        "colab_type": "text"
      },
      "source": [
        "8. Apply onehotencoder to a categorical column\n",
        "\n"
      ]
    },
    {
      "cell_type": "code",
      "metadata": {
        "id": "jIhYrdq_5yTt",
        "colab_type": "code",
        "colab": {}
      },
      "source": [
        "he_sal_data= temp.copy()\n",
        "from sklearn.preprocessing import OneHotEncoder\n",
        "from sklearn.compose import ColumnTransformer"
      ],
      "execution_count": 34,
      "outputs": []
    },
    {
      "cell_type": "code",
      "metadata": {
        "id": "XwCbsTTz6aC2",
        "colab_type": "code",
        "colab": {}
      },
      "source": [
        "ct = ColumnTransformer(transformers=[('xyz',OneHotEncoder(),[9])],remainder=\"passthrough\")"
      ],
      "execution_count": 35,
      "outputs": []
    },
    {
      "cell_type": "code",
      "metadata": {
        "id": "kEpef7C068lv",
        "colab_type": "code",
        "colab": {
          "base_uri": "https://localhost:8080/",
          "height": 140
        },
        "outputId": "1b6f228f-81ce-4675-e33e-167c295816b0"
      },
      "source": [
        "he_sal_data = ct.fit_transform(he_sal_data)\n",
        "he_sal_data"
      ],
      "execution_count": 36,
      "outputs": [
        {
          "output_type": "execute_result",
          "data": {
            "text/plain": [
              "array([[0.0, 1.0, 0.0, ..., 1, 0, 'sales'],\n",
              "       [0.0, 0.0, 1.0, ..., 1, 0, 'sales'],\n",
              "       [0.0, 0.0, 1.0, ..., 1, 0, 'sales'],\n",
              "       ...,\n",
              "       [0.0, 1.0, 0.0, ..., 1, 0, 'technical'],\n",
              "       [0.0, 1.0, 0.0, ..., 1, 0, 'technical'],\n",
              "       [0.0, 1.0, 0.0, ..., 1, 0, 'support']], dtype=object)"
            ]
          },
          "metadata": {
            "tags": []
          },
          "execution_count": 36
        }
      ]
    },
    {
      "cell_type": "markdown",
      "metadata": {
        "id": "ytmqyC9J4YnC",
        "colab_type": "text"
      },
      "source": [
        "9.  Apply labelEncoder to a categorical column\n"
      ]
    },
    {
      "cell_type": "code",
      "metadata": {
        "id": "9fq3sDYC4YDs",
        "colab_type": "code",
        "colab": {
          "base_uri": "https://localhost:8080/",
          "height": 228
        },
        "outputId": "adf539d7-2f22-46a9-ce1f-6af71c96f818"
      },
      "source": [
        "le_sal_data = temp.copy()\n",
        "from sklearn.preprocessing import LabelEncoder\n",
        "le = LabelEncoder()\n",
        "le_sal_data.salary = le.fit_transform(le_sal_data.salary)\n",
        "le_sal_data.salary\n",
        "#low, medium changed to 1,2"
      ],
      "execution_count": 32,
      "outputs": [
        {
          "output_type": "execute_result",
          "data": {
            "text/plain": [
              "0      1\n",
              "1      2\n",
              "2      2\n",
              "3      1\n",
              "4      1\n",
              "      ..\n",
              "195    1\n",
              "196    1\n",
              "197    1\n",
              "198    1\n",
              "199    1\n",
              "Name: salary, Length: 200, dtype: int64"
            ]
          },
          "metadata": {
            "tags": []
          },
          "execution_count": 32
        }
      ]
    },
    {
      "cell_type": "markdown",
      "metadata": {
        "id": "zx497TTV72z8",
        "colab_type": "text"
      },
      "source": [
        "10. Apply pd.get_dummies for the entire data frame and check how many columns added."
      ]
    },
    {
      "cell_type": "code",
      "metadata": {
        "id": "ZEBZYTRV-NnA",
        "colab_type": "code",
        "colab": {
          "base_uri": "https://localhost:8080/",
          "height": 34
        },
        "outputId": "be38b88a-1bd4-45c7-a6c6-0474c73dec1f"
      },
      "source": [
        "temp.shape[1]"
      ],
      "execution_count": 46,
      "outputs": [
        {
          "output_type": "execute_result",
          "data": {
            "text/plain": [
              "10"
            ]
          },
          "metadata": {
            "tags": []
          },
          "execution_count": 46
        }
      ]
    },
    {
      "cell_type": "code",
      "metadata": {
        "id": "4YjLZoD93sAq",
        "colab_type": "code",
        "colab": {
          "base_uri": "https://localhost:8080/",
          "height": 34
        },
        "outputId": "ee603623-f7a2-42d7-8fd8-4dd704c72bd0"
      },
      "source": [
        "pd.get_dummies(temp).shape[1]\n",
        "#hence we can conclude that 10 columns are added by using get_dummies()"
      ],
      "execution_count": 45,
      "outputs": [
        {
          "output_type": "execute_result",
          "data": {
            "text/plain": [
              "20"
            ]
          },
          "metadata": {
            "tags": []
          },
          "execution_count": 45
        }
      ]
    },
    {
      "cell_type": "markdown",
      "metadata": {
        "id": "8kfVfWsf8JsI",
        "colab_type": "text"
      },
      "source": [
        "11. Select one column from your data(which is your output). Store output in y"
      ]
    },
    {
      "cell_type": "code",
      "metadata": {
        "id": "_biQz-4D8O34",
        "colab_type": "code",
        "colab": {
          "base_uri": "https://localhost:8080/",
          "height": 228
        },
        "outputId": "baa3109a-f848-470c-c28c-d42ec5f6acca"
      },
      "source": [
        "y = temp.salary\n",
        "y"
      ],
      "execution_count": 39,
      "outputs": [
        {
          "output_type": "execute_result",
          "data": {
            "text/plain": [
              "0         low\n",
              "1      medium\n",
              "2      medium\n",
              "3         low\n",
              "4         low\n",
              "        ...  \n",
              "195       low\n",
              "196       low\n",
              "197       low\n",
              "198       low\n",
              "199       low\n",
              "Name: salary, Length: 200, dtype: object"
            ]
          },
          "metadata": {
            "tags": []
          },
          "execution_count": 39
        }
      ]
    },
    {
      "cell_type": "markdown",
      "metadata": {
        "id": "YO9b4pwu8ayy",
        "colab_type": "text"
      },
      "source": [
        "12. Except the output column, all the remaining columns are your inputs. Store all inputs in X"
      ]
    },
    {
      "cell_type": "code",
      "metadata": {
        "id": "j-uBNFsb8Tg4",
        "colab_type": "code",
        "colab": {
          "base_uri": "https://localhost:8080/",
          "height": 430
        },
        "outputId": "1ba288e2-2a20-45d9-b57f-1e1b24dee59f"
      },
      "source": [
        "X = temp.iloc[:,0:9]\n",
        "X"
      ],
      "execution_count": 41,
      "outputs": [
        {
          "output_type": "execute_result",
          "data": {
            "text/html": [
              "<div>\n",
              "<style scoped>\n",
              "    .dataframe tbody tr th:only-of-type {\n",
              "        vertical-align: middle;\n",
              "    }\n",
              "\n",
              "    .dataframe tbody tr th {\n",
              "        vertical-align: top;\n",
              "    }\n",
              "\n",
              "    .dataframe thead th {\n",
              "        text-align: right;\n",
              "    }\n",
              "</style>\n",
              "<table border=\"1\" class=\"dataframe\">\n",
              "  <thead>\n",
              "    <tr style=\"text-align: right;\">\n",
              "      <th></th>\n",
              "      <th>satisfaction_level</th>\n",
              "      <th>last_evaluation</th>\n",
              "      <th>number_of_projects</th>\n",
              "      <th>average_monthly_hours</th>\n",
              "      <th>years_at_company</th>\n",
              "      <th>work_accident</th>\n",
              "      <th>left</th>\n",
              "      <th>promotion_last_5years</th>\n",
              "      <th>department</th>\n",
              "    </tr>\n",
              "  </thead>\n",
              "  <tbody>\n",
              "    <tr>\n",
              "      <th>0</th>\n",
              "      <td>0.38</td>\n",
              "      <td>0.53</td>\n",
              "      <td>2</td>\n",
              "      <td>157</td>\n",
              "      <td>3</td>\n",
              "      <td>0</td>\n",
              "      <td>1</td>\n",
              "      <td>0</td>\n",
              "      <td>sales</td>\n",
              "    </tr>\n",
              "    <tr>\n",
              "      <th>1</th>\n",
              "      <td>0.80</td>\n",
              "      <td>0.86</td>\n",
              "      <td>5</td>\n",
              "      <td>262</td>\n",
              "      <td>6</td>\n",
              "      <td>0</td>\n",
              "      <td>1</td>\n",
              "      <td>0</td>\n",
              "      <td>sales</td>\n",
              "    </tr>\n",
              "    <tr>\n",
              "      <th>2</th>\n",
              "      <td>0.11</td>\n",
              "      <td>0.88</td>\n",
              "      <td>7</td>\n",
              "      <td>272</td>\n",
              "      <td>4</td>\n",
              "      <td>0</td>\n",
              "      <td>1</td>\n",
              "      <td>0</td>\n",
              "      <td>sales</td>\n",
              "    </tr>\n",
              "    <tr>\n",
              "      <th>3</th>\n",
              "      <td>0.72</td>\n",
              "      <td>0.87</td>\n",
              "      <td>5</td>\n",
              "      <td>223</td>\n",
              "      <td>5</td>\n",
              "      <td>0</td>\n",
              "      <td>1</td>\n",
              "      <td>0</td>\n",
              "      <td>sales</td>\n",
              "    </tr>\n",
              "    <tr>\n",
              "      <th>4</th>\n",
              "      <td>0.37</td>\n",
              "      <td>0.52</td>\n",
              "      <td>2</td>\n",
              "      <td>159</td>\n",
              "      <td>3</td>\n",
              "      <td>0</td>\n",
              "      <td>1</td>\n",
              "      <td>0</td>\n",
              "      <td>sales</td>\n",
              "    </tr>\n",
              "    <tr>\n",
              "      <th>...</th>\n",
              "      <td>...</td>\n",
              "      <td>...</td>\n",
              "      <td>...</td>\n",
              "      <td>...</td>\n",
              "      <td>...</td>\n",
              "      <td>...</td>\n",
              "      <td>...</td>\n",
              "      <td>...</td>\n",
              "      <td>...</td>\n",
              "    </tr>\n",
              "    <tr>\n",
              "      <th>195</th>\n",
              "      <td>0.09</td>\n",
              "      <td>0.80</td>\n",
              "      <td>6</td>\n",
              "      <td>304</td>\n",
              "      <td>4</td>\n",
              "      <td>0</td>\n",
              "      <td>1</td>\n",
              "      <td>0</td>\n",
              "      <td>technical</td>\n",
              "    </tr>\n",
              "    <tr>\n",
              "      <th>196</th>\n",
              "      <td>0.27</td>\n",
              "      <td>0.54</td>\n",
              "      <td>7</td>\n",
              "      <td>278</td>\n",
              "      <td>3</td>\n",
              "      <td>0</td>\n",
              "      <td>1</td>\n",
              "      <td>0</td>\n",
              "      <td>technical</td>\n",
              "    </tr>\n",
              "    <tr>\n",
              "      <th>197</th>\n",
              "      <td>0.10</td>\n",
              "      <td>0.91</td>\n",
              "      <td>6</td>\n",
              "      <td>287</td>\n",
              "      <td>4</td>\n",
              "      <td>0</td>\n",
              "      <td>1</td>\n",
              "      <td>0</td>\n",
              "      <td>technical</td>\n",
              "    </tr>\n",
              "    <tr>\n",
              "      <th>198</th>\n",
              "      <td>0.10</td>\n",
              "      <td>0.89</td>\n",
              "      <td>7</td>\n",
              "      <td>285</td>\n",
              "      <td>4</td>\n",
              "      <td>0</td>\n",
              "      <td>1</td>\n",
              "      <td>0</td>\n",
              "      <td>technical</td>\n",
              "    </tr>\n",
              "    <tr>\n",
              "      <th>199</th>\n",
              "      <td>0.77</td>\n",
              "      <td>0.94</td>\n",
              "      <td>5</td>\n",
              "      <td>226</td>\n",
              "      <td>6</td>\n",
              "      <td>0</td>\n",
              "      <td>1</td>\n",
              "      <td>0</td>\n",
              "      <td>support</td>\n",
              "    </tr>\n",
              "  </tbody>\n",
              "</table>\n",
              "<p>200 rows × 9 columns</p>\n",
              "</div>"
            ],
            "text/plain": [
              "     satisfaction_level  last_evaluation  ...  promotion_last_5years  department\n",
              "0                  0.38             0.53  ...                      0       sales\n",
              "1                  0.80             0.86  ...                      0       sales\n",
              "2                  0.11             0.88  ...                      0       sales\n",
              "3                  0.72             0.87  ...                      0       sales\n",
              "4                  0.37             0.52  ...                      0       sales\n",
              "..                  ...              ...  ...                    ...         ...\n",
              "195                0.09             0.80  ...                      0   technical\n",
              "196                0.27             0.54  ...                      0   technical\n",
              "197                0.10             0.91  ...                      0   technical\n",
              "198                0.10             0.89  ...                      0   technical\n",
              "199                0.77             0.94  ...                      0     support\n",
              "\n",
              "[200 rows x 9 columns]"
            ]
          },
          "metadata": {
            "tags": []
          },
          "execution_count": 41
        }
      ]
    },
    {
      "cell_type": "markdown",
      "metadata": {
        "id": "pAxNlweZ8p3S",
        "colab_type": "text"
      },
      "source": [
        "13. Split the data with a specific random state and make 25% of the data for testing and 75% of the data for training"
      ]
    },
    {
      "cell_type": "code",
      "metadata": {
        "id": "sWsvOYBN8jVR",
        "colab_type": "code",
        "colab": {}
      },
      "source": [
        "from sklearn.model_selection import train_test_split\n",
        "X_train,X_test,y_train,y_test = train_test_split(X,y,test_size=0.25,random_state=1)"
      ],
      "execution_count": 42,
      "outputs": []
    },
    {
      "cell_type": "code",
      "metadata": {
        "id": "ebHO9asj9UJs",
        "colab_type": "code",
        "colab": {
          "base_uri": "https://localhost:8080/",
          "height": 105
        },
        "outputId": "8245fffd-df21-4332-bd07-88607d9b1eeb"
      },
      "source": [
        "print(temp.shape) \n",
        "print(X_train.shape) \n",
        "print(X_test.shape)  \n",
        "print(y_train.shape) \n",
        "print(y_test.shape)"
      ],
      "execution_count": 43,
      "outputs": [
        {
          "output_type": "stream",
          "text": [
            "(200, 10)\n",
            "(150, 9)\n",
            "(50, 9)\n",
            "(150,)\n",
            "(50,)\n"
          ],
          "name": "stdout"
        }
      ]
    }
  ]
}