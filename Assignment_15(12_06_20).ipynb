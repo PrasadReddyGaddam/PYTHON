{
  "nbformat": 4,
  "nbformat_minor": 0,
  "metadata": {
    "colab": {
      "name": "Assignment-15(12-06-20).ipynb",
      "provenance": [],
      "authorship_tag": "ABX9TyM3LGYL185JG9ebzJMhPITZ",
      "include_colab_link": true
    },
    "kernelspec": {
      "name": "python3",
      "display_name": "Python 3"
    }
  },
  "cells": [
    {
      "cell_type": "markdown",
      "metadata": {
        "id": "view-in-github",
        "colab_type": "text"
      },
      "source": [
        "<a href=\"https://colab.research.google.com/github/PrasadReddyGaddam/PYTHON/blob/master/Assignment_15(12_06_20).ipynb\" target=\"_parent\"><img src=\"https://colab.research.google.com/assets/colab-badge.svg\" alt=\"Open In Colab\"/></a>"
      ]
    },
    {
      "cell_type": "markdown",
      "metadata": {
        "id": "X3bf93LV1vUo",
        "colab_type": "text"
      },
      "source": [
        "**CSE-221710301019-GADDAM PRASAD REDDY**"
      ]
    },
    {
      "cell_type": "markdown",
      "metadata": {
        "id": "qXmm0BvO1-Mw",
        "colab_type": "text"
      },
      "source": [
        " \n",
        "1. Input string : \"xyz:750,abc:265,qwerty:195\"\n",
        "Output string : abc\n",
        "\n",
        "For digits:\n",
        "1. find the reverse of the number and add it to the original number\n",
        "2. if that sum is not palindrome,again add its reverse to that sum\n",
        "3. Find the palindrome numbers for each number in the string by repeating the above step\n",
        "4. Find the maximum palindrome number among all and its original number\n",
        "5. And return the alphabetic code of that palindrome number as output\n"
      ]
    },
    {
      "cell_type": "code",
      "metadata": {
        "id": "uf7jtbPk1yZo",
        "colab_type": "code",
        "outputId": "f3b4638b-e1d5-4a36-daf9-7ae7b82c4fd7",
        "colab": {
          "base_uri": "https://localhost:8080/",
          "height": 52
        }
      },
      "source": [
        "list1 = input().split(\",\")\n",
        "list2 = [i.split(\":\")[1] for i in list1]\n",
        "list3 = []\n",
        "for n in list2:\n",
        "  while True:\n",
        "    if str(n)== str(n)[::-1]:\n",
        "      list3.append(n)\n",
        "      break\n",
        "    else:\n",
        "      n = int(str(n)) + int(str(n)[::-1])\n",
        "list1[list3.index(max(list3))].split(\":\")[0]"
      ],
      "execution_count": 0,
      "outputs": [
        {
          "output_type": "stream",
          "text": [
            "xyz:750,abc:265,qwerty:195\n"
          ],
          "name": "stdout"
        },
        {
          "output_type": "execute_result",
          "data": {
            "text/plain": [
              "'abc'"
            ]
          },
          "metadata": {
            "tags": []
          },
          "execution_count": 31
        }
      ]
    },
    {
      "cell_type": "markdown",
      "metadata": {
        "id": "IJaO-mKrNsnj",
        "colab_type": "text"
      },
      "source": [
        "2. The groups_per_user function receives a dictionary.which contains group names with the list of users.Users can belong to multiple groups.Return a dictionary with the users as keys and a list of their groups as values.\n",
        "\n",
        "Input :\n",
        " {\"local\":[\"admin\",\"userA\"],\"public\":[\"admin\",\"userB\"],\"administrator\":[\"admin\"]}\n",
        "\n",
        "Output :\n",
        " {'admin': ['local', 'public', 'administrator'],\n",
        " 'userA': ['local'],\n",
        " 'userB': ['public']}\n"
      ]
    },
    {
      "cell_type": "code",
      "metadata": {
        "id": "MWRoW2CQUsRS",
        "colab_type": "code",
        "outputId": "34990e6a-c473-4108-9718-4aa15ad52bf2",
        "colab": {
          "base_uri": "https://localhost:8080/",
          "height": 87
        }
      },
      "source": [
        "def groups_per_user(dict1):\n",
        "    res = {}\n",
        "    for keys in dict1:\n",
        "        for values in dict1[keys]:\n",
        "            if values not in res:\n",
        "                res[values] = []\n",
        "            if keys not in res[values]:\n",
        "                res[values].append(keys)\n",
        "    return res\n",
        "groups_per_user(eval(input()))"
      ],
      "execution_count": 0,
      "outputs": [
        {
          "output_type": "stream",
          "text": [
            " {\"local\":[\"admin\",\"userA\"],\"public\":[\"admin\",\"userB\"],\"administrator\":[\"admin\"]}\n"
          ],
          "name": "stdout"
        },
        {
          "output_type": "execute_result",
          "data": {
            "text/plain": [
              "{'admin': ['local', 'public', 'administrator'],\n",
              " 'userA': ['local'],\n",
              " 'userB': ['public']}"
            ]
          },
          "metadata": {
            "tags": []
          },
          "execution_count": 48
        }
      ]
    },
    {
      "cell_type": "markdown",
      "metadata": {
        "id": "k2DXcKSienps",
        "colab_type": "text"
      },
      "source": [
        "3. Input : london 40000 12,chicago      60000 20,munich 50000 15,paris 70000 5\n",
        "\n",
        "   Output : paris munich\n"
      ]
    },
    {
      "cell_type": "code",
      "metadata": {
        "id": "Y2Wp0PLZUtSH",
        "colab_type": "code",
        "outputId": "14842c3f-f550-4ffe-e81c-12d92685cf19",
        "colab": {
          "base_uri": "https://localhost:8080/",
          "height": 69
        }
      },
      "source": [
        "s=input()\n",
        "s1=s.split(',')\n",
        "print(s1)\n",
        "a={}\n",
        "b={}\n",
        "al=[]\n",
        "bl=[]\n",
        "for i in s1:\n",
        "    a1=list(i.split())\n",
        "    a[a1[0]]=int(a1[1])\n",
        "    b[a1[0]]=int(a1[2])\n",
        "a1 = sorted(a.items(), key=lambda x: x[1],reverse=True)\n",
        "b1 = sorted(b.items(), key=lambda x: x[1])\n",
        "for i in a1:\n",
        "    al.append(i[0])\n",
        "for i in b1:\n",
        "    bl.append(i[0])\n",
        "for i in range(0,len(a1)):\n",
        "    if(al[i]==bl[i]):\n",
        "        print(al[i],end=\" \")"
      ],
      "execution_count": 142,
      "outputs": [
        {
          "output_type": "stream",
          "text": [
            "london 40000 12,chicago 60000 20,munich 50000 15,paris 70000 5\n",
            "['london 40000 12', 'chicago 60000 20', 'munich 50000 15', 'paris 70000 5']\n",
            "paris munich "
          ],
          "name": "stdout"
        }
      ]
    },
    {
      "cell_type": "markdown",
      "metadata": {
        "id": "a9SdrDNFxPiU",
        "colab_type": "text"
      },
      "source": [
        "4 .Jug Filling Problem\n",
        "Problem statement: “Given two empty jugs with 3 and 5 liter capacities and a full jug with 8 liters, find a sequence of pours leaving four liters in the two largest jugs.”\n"
      ]
    },
    {
      "cell_type": "code",
      "metadata": {
        "id": "nWswF1ZGxGyl",
        "colab_type": "code",
        "colab": {
          "base_uri": "https://localhost:8080/",
          "height": 72
        },
        "outputId": "12f0a9c8-c1dd-4240-815c-5319cbde107e"
      },
      "source": [
        "capacity = (8,5,3)\n",
        "x = capacity[0]\n",
        "y = capacity[1]\n",
        "z = capacity[2]\n",
        "memory = {}\n",
        "ans = []\n",
        "\n",
        "def get_all_states(state):\n",
        "  a = state[0]\n",
        "  b = state[1]\n",
        "  c = state[2]\n",
        "\n",
        "  if(a==4 and b==4):\n",
        "      ans.append(state)\n",
        "      return True\n",
        "\n",
        "  if((a,b,c) in memory):\n",
        "      return False\n",
        "\n",
        "  memory[(a,b,c)] = 1\n",
        "  if(a>0):\n",
        "      if(a+b<=y):\n",
        "          if( get_all_states((0,a+b,c)) ):\n",
        "              ans.append(state)\n",
        "              return True\n",
        "      else:\n",
        "          if( get_all_states((a-(y-b), y, c)) ):\n",
        "              ans.append(state)\n",
        "              return True\n",
        "      if(a+c<=z):\n",
        "          if( get_all_states((0,b,a+c)) ):\n",
        "              ans.append(state)\n",
        "              return True\n",
        "      else:\n",
        "          if( get_all_states((a-(z-c), b, z)) ):\n",
        "              ans.append(state)\n",
        "              return True\n",
        "  if(b>0):\n",
        "      if(a+b<=x):\n",
        "          if( get_all_states((a+b, 0, c)) ):\n",
        "              ans.append(state)\n",
        "              return True\n",
        "      else:\n",
        "          if( get_all_states((x, b-(x-a), c)) ):\n",
        "              ans.append(state)\n",
        "              return True\n",
        "      if(b+c<=z):\n",
        "          if( get_all_states((a, 0, b+c)) ):\n",
        "              ans.append(state)\n",
        "              return True\n",
        "      else:\n",
        "          if( get_all_states((a, b-(z-c), z)) ):\n",
        "              ans.append(state)\n",
        "              return True\n",
        "  if(c>0):\n",
        "      if(a+c<=x):\n",
        "          if( get_all_states((a+c, b, 0)) ):\n",
        "              ans.append(state)\n",
        "              return True\n",
        "      else:\n",
        "          if( get_all_states((x, b, c-(x-a))) ):\n",
        "              ans.append(state)\n",
        "              return True\n",
        "      if(b+c<=y):\n",
        "          if( get_all_states((a, b+c, 0)) ):\n",
        "              ans.append(state)\n",
        "              return True\n",
        "      else:\n",
        "          if( get_all_states((a, y, c-(y-b))) ):\n",
        "              ans.append(state)\n",
        "              return True\n",
        "\n",
        "  return False\n",
        "\n",
        "initial_state = (8,0,0)\n",
        "get_all_states(initial_state)\n",
        "ans.reverse()\n",
        "print(ans)\n",
        "print(len(ans))"
      ],
      "execution_count": 143,
      "outputs": [
        {
          "output_type": "stream",
          "text": [
            "[(8, 0, 0), (3, 5, 0), (0, 5, 3), (5, 0, 3), (5, 3, 0), (2, 3, 3), (2, 5, 1), (7, 0, 1), (7, 1, 0), (4, 1, 3), (4, 4, 0)]\n",
            "11\n"
          ],
          "name": "stdout"
        }
      ]
    }
  ]
}