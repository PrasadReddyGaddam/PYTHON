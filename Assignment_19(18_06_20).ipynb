{
  "nbformat": 4,
  "nbformat_minor": 0,
  "metadata": {
    "colab": {
      "name": "Assignment-19(18-06-20).ipynb",
      "provenance": [],
      "authorship_tag": "ABX9TyOtTTUXNPkuUn0dkoU5y/dx",
      "include_colab_link": true
    },
    "kernelspec": {
      "name": "python3",
      "display_name": "Python 3"
    }
  },
  "cells": [
    {
      "cell_type": "markdown",
      "metadata": {
        "id": "view-in-github",
        "colab_type": "text"
      },
      "source": [
        "<a href=\"https://colab.research.google.com/github/PrasadReddyGaddam/PYTHON/blob/master/Assignment_19(18_06_20).ipynb\" target=\"_parent\"><img src=\"https://colab.research.google.com/assets/colab-badge.svg\" alt=\"Open In Colab\"/></a>"
      ]
    },
    {
      "cell_type": "markdown",
      "metadata": {
        "id": "ALEId-VXN88y",
        "colab_type": "text"
      },
      "source": [
        "**CSE-221710301019-PRASAD REDDY**"
      ]
    },
    {
      "cell_type": "code",
      "metadata": {
        "id": "QtNhDsTnQqr8",
        "colab_type": "code",
        "colab": {}
      },
      "source": [
        "import numpy as np\n",
        "import matplotlib.pyplot as plt\n",
        "%matplotlib inline\n",
        "import seaborn as sns"
      ],
      "execution_count": 109,
      "outputs": []
    },
    {
      "cell_type": "markdown",
      "metadata": {
        "id": "qNC2yUsXOO1E",
        "colab_type": "text"
      },
      "source": [
        "Load the dataset in a proper structure"
      ]
    },
    {
      "cell_type": "code",
      "metadata": {
        "id": "h-nmiuzjyYBN",
        "colab_type": "code",
        "colab": {
          "base_uri": "https://localhost:8080/",
          "height": 608
        },
        "outputId": "8ce2fada-0698-4d5a-a5f1-1a12c9beb2cf"
      },
      "source": [
        "import pandas as pd\n",
        "df = pd.read_csv(\"https://raw.githubusercontent.com/PritamGuha31/COVID-19-Analysis/master/datasets/covid_19_india.csv\",parse_dates=[\"Date\"])\n",
        "df"
      ],
      "execution_count": 22,
      "outputs": [
        {
          "output_type": "execute_result",
          "data": {
            "text/html": [
              "<div>\n",
              "<style scoped>\n",
              "    .dataframe tbody tr th:only-of-type {\n",
              "        vertical-align: middle;\n",
              "    }\n",
              "\n",
              "    .dataframe tbody tr th {\n",
              "        vertical-align: top;\n",
              "    }\n",
              "\n",
              "    .dataframe thead th {\n",
              "        text-align: right;\n",
              "    }\n",
              "</style>\n",
              "<table border=\"1\" class=\"dataframe\">\n",
              "  <thead>\n",
              "    <tr style=\"text-align: right;\">\n",
              "      <th></th>\n",
              "      <th>Sno</th>\n",
              "      <th>Date</th>\n",
              "      <th>Time</th>\n",
              "      <th>State/UnionTerritory</th>\n",
              "      <th>ConfirmedIndianNational</th>\n",
              "      <th>ConfirmedForeignNational</th>\n",
              "      <th>Cured</th>\n",
              "      <th>Deaths</th>\n",
              "      <th>Confirmed</th>\n",
              "    </tr>\n",
              "  </thead>\n",
              "  <tbody>\n",
              "    <tr>\n",
              "      <th>0</th>\n",
              "      <td>1</td>\n",
              "      <td>2020-01-30</td>\n",
              "      <td>6:00 PM</td>\n",
              "      <td>Kerala</td>\n",
              "      <td>1</td>\n",
              "      <td>0</td>\n",
              "      <td>0</td>\n",
              "      <td>0</td>\n",
              "      <td>1</td>\n",
              "    </tr>\n",
              "    <tr>\n",
              "      <th>1</th>\n",
              "      <td>2</td>\n",
              "      <td>2020-01-31</td>\n",
              "      <td>6:00 PM</td>\n",
              "      <td>Kerala</td>\n",
              "      <td>1</td>\n",
              "      <td>0</td>\n",
              "      <td>0</td>\n",
              "      <td>0</td>\n",
              "      <td>1</td>\n",
              "    </tr>\n",
              "    <tr>\n",
              "      <th>2</th>\n",
              "      <td>3</td>\n",
              "      <td>2020-01-02</td>\n",
              "      <td>6:00 PM</td>\n",
              "      <td>Kerala</td>\n",
              "      <td>2</td>\n",
              "      <td>0</td>\n",
              "      <td>0</td>\n",
              "      <td>0</td>\n",
              "      <td>2</td>\n",
              "    </tr>\n",
              "    <tr>\n",
              "      <th>3</th>\n",
              "      <td>4</td>\n",
              "      <td>2020-02-02</td>\n",
              "      <td>6:00 PM</td>\n",
              "      <td>Kerala</td>\n",
              "      <td>3</td>\n",
              "      <td>0</td>\n",
              "      <td>0</td>\n",
              "      <td>0</td>\n",
              "      <td>3</td>\n",
              "    </tr>\n",
              "    <tr>\n",
              "      <th>4</th>\n",
              "      <td>5</td>\n",
              "      <td>2020-03-02</td>\n",
              "      <td>6:00 PM</td>\n",
              "      <td>Kerala</td>\n",
              "      <td>3</td>\n",
              "      <td>0</td>\n",
              "      <td>0</td>\n",
              "      <td>0</td>\n",
              "      <td>3</td>\n",
              "    </tr>\n",
              "    <tr>\n",
              "      <th>...</th>\n",
              "      <td>...</td>\n",
              "      <td>...</td>\n",
              "      <td>...</td>\n",
              "      <td>...</td>\n",
              "      <td>...</td>\n",
              "      <td>...</td>\n",
              "      <td>...</td>\n",
              "      <td>...</td>\n",
              "      <td>...</td>\n",
              "    </tr>\n",
              "    <tr>\n",
              "      <th>1313</th>\n",
              "      <td>1314</td>\n",
              "      <td>2020-04-25</td>\n",
              "      <td>5:00 PM</td>\n",
              "      <td>Telengana</td>\n",
              "      <td>-</td>\n",
              "      <td>-</td>\n",
              "      <td>253</td>\n",
              "      <td>26</td>\n",
              "      <td>984</td>\n",
              "    </tr>\n",
              "    <tr>\n",
              "      <th>1314</th>\n",
              "      <td>1315</td>\n",
              "      <td>2020-04-25</td>\n",
              "      <td>5:00 PM</td>\n",
              "      <td>Tripura</td>\n",
              "      <td>-</td>\n",
              "      <td>-</td>\n",
              "      <td>1</td>\n",
              "      <td>0</td>\n",
              "      <td>2</td>\n",
              "    </tr>\n",
              "    <tr>\n",
              "      <th>1315</th>\n",
              "      <td>1316</td>\n",
              "      <td>2020-04-25</td>\n",
              "      <td>5:00 PM</td>\n",
              "      <td>Uttarakhand</td>\n",
              "      <td>-</td>\n",
              "      <td>-</td>\n",
              "      <td>25</td>\n",
              "      <td>0</td>\n",
              "      <td>48</td>\n",
              "    </tr>\n",
              "    <tr>\n",
              "      <th>1316</th>\n",
              "      <td>1317</td>\n",
              "      <td>2020-04-25</td>\n",
              "      <td>5:00 PM</td>\n",
              "      <td>Uttar Pradesh</td>\n",
              "      <td>-</td>\n",
              "      <td>-</td>\n",
              "      <td>248</td>\n",
              "      <td>26</td>\n",
              "      <td>1778</td>\n",
              "    </tr>\n",
              "    <tr>\n",
              "      <th>1317</th>\n",
              "      <td>1318</td>\n",
              "      <td>2020-04-25</td>\n",
              "      <td>5:00 PM</td>\n",
              "      <td>West Bengal</td>\n",
              "      <td>-</td>\n",
              "      <td>-</td>\n",
              "      <td>103</td>\n",
              "      <td>18</td>\n",
              "      <td>571</td>\n",
              "    </tr>\n",
              "  </tbody>\n",
              "</table>\n",
              "<p>1318 rows × 9 columns</p>\n",
              "</div>"
            ],
            "text/plain": [
              "       Sno       Date     Time  ... Cured Deaths Confirmed\n",
              "0        1 2020-01-30  6:00 PM  ...     0      0         1\n",
              "1        2 2020-01-31  6:00 PM  ...     0      0         1\n",
              "2        3 2020-01-02  6:00 PM  ...     0      0         2\n",
              "3        4 2020-02-02  6:00 PM  ...     0      0         3\n",
              "4        5 2020-03-02  6:00 PM  ...     0      0         3\n",
              "...    ...        ...      ...  ...   ...    ...       ...\n",
              "1313  1314 2020-04-25  5:00 PM  ...   253     26       984\n",
              "1314  1315 2020-04-25  5:00 PM  ...     1      0         2\n",
              "1315  1316 2020-04-25  5:00 PM  ...    25      0        48\n",
              "1316  1317 2020-04-25  5:00 PM  ...   248     26      1778\n",
              "1317  1318 2020-04-25  5:00 PM  ...   103     18       571\n",
              "\n",
              "[1318 rows x 9 columns]"
            ]
          },
          "metadata": {
            "tags": []
          },
          "execution_count": 22
        }
      ]
    },
    {
      "cell_type": "code",
      "metadata": {
        "id": "GmqEwfGPylPx",
        "colab_type": "code",
        "colab": {}
      },
      "source": [
        "df.drop(\"Sno\",axis=1,inplace=True)"
      ],
      "execution_count": 24,
      "outputs": []
    },
    {
      "cell_type": "code",
      "metadata": {
        "id": "ysMmw0v-I4-D",
        "colab_type": "code",
        "colab": {}
      },
      "source": [
        "df.rename(columns={\"State/UnionTerritory\":\"State/ut\",\"ConfirmedIndianNational\":\"CIndian\",\"ConfirmedForeignNational\":\"CForeigner\"},inplace=True)"
      ],
      "execution_count": 30,
      "outputs": []
    },
    {
      "cell_type": "code",
      "metadata": {
        "id": "uqKuihGbKAU1",
        "colab_type": "code",
        "colab": {
          "base_uri": "https://localhost:8080/",
          "height": 203
        },
        "outputId": "480abe94-3253-4b7b-f647-cac4efdaddf5"
      },
      "source": [
        "df.head()"
      ],
      "execution_count": 31,
      "outputs": [
        {
          "output_type": "execute_result",
          "data": {
            "text/html": [
              "<div>\n",
              "<style scoped>\n",
              "    .dataframe tbody tr th:only-of-type {\n",
              "        vertical-align: middle;\n",
              "    }\n",
              "\n",
              "    .dataframe tbody tr th {\n",
              "        vertical-align: top;\n",
              "    }\n",
              "\n",
              "    .dataframe thead th {\n",
              "        text-align: right;\n",
              "    }\n",
              "</style>\n",
              "<table border=\"1\" class=\"dataframe\">\n",
              "  <thead>\n",
              "    <tr style=\"text-align: right;\">\n",
              "      <th></th>\n",
              "      <th>Date</th>\n",
              "      <th>Time</th>\n",
              "      <th>State/ut</th>\n",
              "      <th>CIndian</th>\n",
              "      <th>CForeigner</th>\n",
              "      <th>Cured</th>\n",
              "      <th>Deaths</th>\n",
              "      <th>Confirmed</th>\n",
              "    </tr>\n",
              "  </thead>\n",
              "  <tbody>\n",
              "    <tr>\n",
              "      <th>0</th>\n",
              "      <td>2020-01-30</td>\n",
              "      <td>6:00 PM</td>\n",
              "      <td>Kerala</td>\n",
              "      <td>1</td>\n",
              "      <td>0</td>\n",
              "      <td>0</td>\n",
              "      <td>0</td>\n",
              "      <td>1</td>\n",
              "    </tr>\n",
              "    <tr>\n",
              "      <th>1</th>\n",
              "      <td>2020-01-31</td>\n",
              "      <td>6:00 PM</td>\n",
              "      <td>Kerala</td>\n",
              "      <td>1</td>\n",
              "      <td>0</td>\n",
              "      <td>0</td>\n",
              "      <td>0</td>\n",
              "      <td>1</td>\n",
              "    </tr>\n",
              "    <tr>\n",
              "      <th>2</th>\n",
              "      <td>2020-01-02</td>\n",
              "      <td>6:00 PM</td>\n",
              "      <td>Kerala</td>\n",
              "      <td>2</td>\n",
              "      <td>0</td>\n",
              "      <td>0</td>\n",
              "      <td>0</td>\n",
              "      <td>2</td>\n",
              "    </tr>\n",
              "    <tr>\n",
              "      <th>3</th>\n",
              "      <td>2020-02-02</td>\n",
              "      <td>6:00 PM</td>\n",
              "      <td>Kerala</td>\n",
              "      <td>3</td>\n",
              "      <td>0</td>\n",
              "      <td>0</td>\n",
              "      <td>0</td>\n",
              "      <td>3</td>\n",
              "    </tr>\n",
              "    <tr>\n",
              "      <th>4</th>\n",
              "      <td>2020-03-02</td>\n",
              "      <td>6:00 PM</td>\n",
              "      <td>Kerala</td>\n",
              "      <td>3</td>\n",
              "      <td>0</td>\n",
              "      <td>0</td>\n",
              "      <td>0</td>\n",
              "      <td>3</td>\n",
              "    </tr>\n",
              "  </tbody>\n",
              "</table>\n",
              "</div>"
            ],
            "text/plain": [
              "        Date     Time State/ut CIndian CForeigner  Cured  Deaths  Confirmed\n",
              "0 2020-01-30  6:00 PM   Kerala       1          0      0       0          1\n",
              "1 2020-01-31  6:00 PM   Kerala       1          0      0       0          1\n",
              "2 2020-01-02  6:00 PM   Kerala       2          0      0       0          2\n",
              "3 2020-02-02  6:00 PM   Kerala       3          0      0       0          3\n",
              "4 2020-03-02  6:00 PM   Kerala       3          0      0       0          3"
            ]
          },
          "metadata": {
            "tags": []
          },
          "execution_count": 31
        }
      ]
    },
    {
      "cell_type": "markdown",
      "metadata": {
        "id": "-ZmeB7z1OWHT",
        "colab_type": "text"
      },
      "source": [
        "Get the number of rows and columns from the dataset\n"
      ]
    },
    {
      "cell_type": "code",
      "metadata": {
        "id": "QS6yMteOKsQX",
        "colab_type": "code",
        "colab": {
          "base_uri": "https://localhost:8080/",
          "height": 34
        },
        "outputId": "e692ec3e-d377-42e7-cd9a-a4bff7b95686"
      },
      "source": [
        "df.shape"
      ],
      "execution_count": 33,
      "outputs": [
        {
          "output_type": "execute_result",
          "data": {
            "text/plain": [
              "(1318, 8)"
            ]
          },
          "metadata": {
            "tags": []
          },
          "execution_count": 33
        }
      ]
    },
    {
      "cell_type": "markdown",
      "metadata": {
        "id": "iqDTdKU9ObV7",
        "colab_type": "text"
      },
      "source": [
        "Check how many categorical and numerical columns are there\n",
        "- Categorical - object type\n",
        "- Numerical - int,float\n",
        "- Boolean - bool\n"
      ]
    },
    {
      "cell_type": "code",
      "metadata": {
        "id": "d199CZY1NqQE",
        "colab_type": "code",
        "colab": {
          "base_uri": "https://localhost:8080/",
          "height": 175
        },
        "outputId": "d44bfd6c-cf62-4664-9748-185bc912ae58"
      },
      "source": [
        "df.dtypes"
      ],
      "execution_count": 38,
      "outputs": [
        {
          "output_type": "execute_result",
          "data": {
            "text/plain": [
              "Date          datetime64[ns]\n",
              "Time                  object\n",
              "State/ut              object\n",
              "CIndian               object\n",
              "CForeigner            object\n",
              "Cured                  int64\n",
              "Deaths                 int64\n",
              "Confirmed              int64\n",
              "dtype: object"
            ]
          },
          "metadata": {
            "tags": []
          },
          "execution_count": 38
        }
      ]
    },
    {
      "cell_type": "markdown",
      "metadata": {
        "id": "rN7FxZMnOrhG",
        "colab_type": "text"
      },
      "source": [
        "Get the basic descriptive information from the dataset \n"
      ]
    },
    {
      "cell_type": "code",
      "metadata": {
        "id": "2J5lpGFVN0sB",
        "colab_type": "code",
        "colab": {
          "base_uri": "https://localhost:8080/",
          "height": 296
        },
        "outputId": "5964fe24-121c-4950-b732-31a8a6e609bd"
      },
      "source": [
        "df.describe()"
      ],
      "execution_count": 39,
      "outputs": [
        {
          "output_type": "execute_result",
          "data": {
            "text/html": [
              "<div>\n",
              "<style scoped>\n",
              "    .dataframe tbody tr th:only-of-type {\n",
              "        vertical-align: middle;\n",
              "    }\n",
              "\n",
              "    .dataframe tbody tr th {\n",
              "        vertical-align: top;\n",
              "    }\n",
              "\n",
              "    .dataframe thead th {\n",
              "        text-align: right;\n",
              "    }\n",
              "</style>\n",
              "<table border=\"1\" class=\"dataframe\">\n",
              "  <thead>\n",
              "    <tr style=\"text-align: right;\">\n",
              "      <th></th>\n",
              "      <th>Cured</th>\n",
              "      <th>Deaths</th>\n",
              "      <th>Confirmed</th>\n",
              "    </tr>\n",
              "  </thead>\n",
              "  <tbody>\n",
              "    <tr>\n",
              "      <th>count</th>\n",
              "      <td>1318.000000</td>\n",
              "      <td>1318.000000</td>\n",
              "      <td>1318.000000</td>\n",
              "    </tr>\n",
              "    <tr>\n",
              "      <th>mean</th>\n",
              "      <td>30.939302</td>\n",
              "      <td>6.631259</td>\n",
              "      <td>214.399848</td>\n",
              "    </tr>\n",
              "    <tr>\n",
              "      <th>std</th>\n",
              "      <td>92.963392</td>\n",
              "      <td>25.189408</td>\n",
              "      <td>569.223462</td>\n",
              "    </tr>\n",
              "    <tr>\n",
              "      <th>min</th>\n",
              "      <td>0.000000</td>\n",
              "      <td>0.000000</td>\n",
              "      <td>0.000000</td>\n",
              "    </tr>\n",
              "    <tr>\n",
              "      <th>25%</th>\n",
              "      <td>0.000000</td>\n",
              "      <td>0.000000</td>\n",
              "      <td>3.250000</td>\n",
              "    </tr>\n",
              "    <tr>\n",
              "      <th>50%</th>\n",
              "      <td>2.000000</td>\n",
              "      <td>0.000000</td>\n",
              "      <td>20.000000</td>\n",
              "    </tr>\n",
              "    <tr>\n",
              "      <th>75%</th>\n",
              "      <td>18.000000</td>\n",
              "      <td>3.000000</td>\n",
              "      <td>132.000000</td>\n",
              "    </tr>\n",
              "    <tr>\n",
              "      <th>max</th>\n",
              "      <td>957.000000</td>\n",
              "      <td>301.000000</td>\n",
              "      <td>6817.000000</td>\n",
              "    </tr>\n",
              "  </tbody>\n",
              "</table>\n",
              "</div>"
            ],
            "text/plain": [
              "             Cured       Deaths    Confirmed\n",
              "count  1318.000000  1318.000000  1318.000000\n",
              "mean     30.939302     6.631259   214.399848\n",
              "std      92.963392    25.189408   569.223462\n",
              "min       0.000000     0.000000     0.000000\n",
              "25%       0.000000     0.000000     3.250000\n",
              "50%       2.000000     0.000000    20.000000\n",
              "75%      18.000000     3.000000   132.000000\n",
              "max     957.000000   301.000000  6817.000000"
            ]
          },
          "metadata": {
            "tags": []
          },
          "execution_count": 39
        }
      ]
    },
    {
      "cell_type": "code",
      "metadata": {
        "id": "kHScCsh1OwT1",
        "colab_type": "code",
        "colab": {
          "base_uri": "https://localhost:8080/",
          "height": 172
        },
        "outputId": "7365f245-38f6-4969-c5ac-94af4a54848e"
      },
      "source": [
        "df.describe(include=\"O\")"
      ],
      "execution_count": 41,
      "outputs": [
        {
          "output_type": "execute_result",
          "data": {
            "text/html": [
              "<div>\n",
              "<style scoped>\n",
              "    .dataframe tbody tr th:only-of-type {\n",
              "        vertical-align: middle;\n",
              "    }\n",
              "\n",
              "    .dataframe tbody tr th {\n",
              "        vertical-align: top;\n",
              "    }\n",
              "\n",
              "    .dataframe thead th {\n",
              "        text-align: right;\n",
              "    }\n",
              "</style>\n",
              "<table border=\"1\" class=\"dataframe\">\n",
              "  <thead>\n",
              "    <tr style=\"text-align: right;\">\n",
              "      <th></th>\n",
              "      <th>Time</th>\n",
              "      <th>State/ut</th>\n",
              "      <th>CIndian</th>\n",
              "      <th>CForeigner</th>\n",
              "    </tr>\n",
              "  </thead>\n",
              "  <tbody>\n",
              "    <tr>\n",
              "      <th>count</th>\n",
              "      <td>1318</td>\n",
              "      <td>1318</td>\n",
              "      <td>1318</td>\n",
              "      <td>1318</td>\n",
              "    </tr>\n",
              "    <tr>\n",
              "      <th>unique</th>\n",
              "      <td>6</td>\n",
              "      <td>36</td>\n",
              "      <td>62</td>\n",
              "      <td>12</td>\n",
              "    </tr>\n",
              "    <tr>\n",
              "      <th>top</th>\n",
              "      <td>6:00 PM</td>\n",
              "      <td>Kerala</td>\n",
              "      <td>-</td>\n",
              "      <td>-</td>\n",
              "    </tr>\n",
              "    <tr>\n",
              "      <th>freq</th>\n",
              "      <td>600</td>\n",
              "      <td>87</td>\n",
              "      <td>872</td>\n",
              "      <td>872</td>\n",
              "    </tr>\n",
              "  </tbody>\n",
              "</table>\n",
              "</div>"
            ],
            "text/plain": [
              "           Time State/ut CIndian CForeigner\n",
              "count      1318     1318    1318       1318\n",
              "unique        6       36      62         12\n",
              "top     6:00 PM   Kerala       -          -\n",
              "freq        600       87     872        872"
            ]
          },
          "metadata": {
            "tags": []
          },
          "execution_count": 41
        }
      ]
    },
    {
      "cell_type": "markdown",
      "metadata": {
        "id": "ZAUTLviCPFtY",
        "colab_type": "text"
      },
      "source": [
        "Get the frequency of the categories in all the columns of the dataset\n"
      ]
    },
    {
      "cell_type": "code",
      "metadata": {
        "id": "jeJPeS8wO04_",
        "colab_type": "code",
        "colab": {
          "base_uri": "https://localhost:8080/",
          "height": 175
        },
        "outputId": "5d250002-a74e-427e-dc9c-05d8930ed434"
      },
      "source": [
        "df.nunique()"
      ],
      "execution_count": 47,
      "outputs": [
        {
          "output_type": "execute_result",
          "data": {
            "text/plain": [
              "Date           87\n",
              "Time            6\n",
              "State/ut       36\n",
              "CIndian        62\n",
              "CForeigner     12\n",
              "Cured         162\n",
              "Deaths         76\n",
              "Confirmed     379\n",
              "dtype: int64"
            ]
          },
          "metadata": {
            "tags": []
          },
          "execution_count": 47
        }
      ]
    },
    {
      "cell_type": "markdown",
      "metadata": {
        "id": "VlYR6pMFQIfy",
        "colab_type": "text"
      },
      "source": [
        "Check for the missing values and if found any visualize the missing values using seaborn, missingno libraries.\n"
      ]
    },
    {
      "cell_type": "code",
      "metadata": {
        "id": "WZADBJGsPKfd",
        "colab_type": "code",
        "colab": {
          "base_uri": "https://localhost:8080/",
          "height": 366
        },
        "outputId": "be47b52e-320b-4a24-8f29-4fe7d71261fa"
      },
      "source": [
        "import missingno as mn\n",
        "mn.matrix(df)"
      ],
      "execution_count": 48,
      "outputs": [
        {
          "output_type": "stream",
          "text": [
            "/usr/local/lib/python3.6/dist-packages/statsmodels/tools/_testing.py:19: FutureWarning: pandas.util.testing is deprecated. Use the functions in the public API at pandas.testing instead.\n",
            "  import pandas.util.testing as tm\n"
          ],
          "name": "stderr"
        },
        {
          "output_type": "execute_result",
          "data": {
            "text/plain": [
              "<matplotlib.axes._subplots.AxesSubplot at 0x7febf1ead860>"
            ]
          },
          "metadata": {
            "tags": []
          },
          "execution_count": 48
        },
        {
          "output_type": "display_data",
          "data": {
            "image/png": "[encoded data removed]",
            "text/plain": [
              "<Figure size 1800x720 with 2 Axes>"
            ]
          },
          "metadata": {
            "tags": [],
            "needs_background": "light"
          }
        }
      ]
    },
    {
      "cell_type": "code",
      "metadata": {
        "id": "dHlnb_KmQQwI",
        "colab_type": "code",
        "colab": {
          "base_uri": "https://localhost:8080/",
          "height": 335
        },
        "outputId": "111776bd-f325-4023-977c-b6e49ed8a2f1"
      },
      "source": [
        "mn.bar(df)"
      ],
      "execution_count": 49,
      "outputs": [
        {
          "output_type": "execute_result",
          "data": {
            "text/plain": [
              "<matplotlib.axes._subplots.AxesSubplot at 0x7febef1abe48>"
            ]
          },
          "metadata": {
            "tags": []
          },
          "execution_count": 49
        },
        {
          "output_type": "display_data",
          "data": {
            "image/png": "[encoded data removed]",
            "text/plain": [
              "<Figure size 1728x720 with 3 Axes>"
            ]
          },
          "metadata": {
            "tags": [],
            "needs_background": "light"
          }
        }
      ]
    },
    {
      "cell_type": "code",
      "metadata": {
        "id": "M4Fk63c5Qbay",
        "colab_type": "code",
        "colab": {
          "base_uri": "https://localhost:8080/",
          "height": 175
        },
        "outputId": "4b741b56-56a7-47ef-8288-8bda9796e8d3"
      },
      "source": [
        "df.isna().sum()\n",
        "#no null values"
      ],
      "execution_count": 51,
      "outputs": [
        {
          "output_type": "execute_result",
          "data": {
            "text/plain": [
              "Date          0\n",
              "Time          0\n",
              "State/ut      0\n",
              "CIndian       0\n",
              "CForeigner    0\n",
              "Cured         0\n",
              "Deaths        0\n",
              "Confirmed     0\n",
              "dtype: int64"
            ]
          },
          "metadata": {
            "tags": []
          },
          "execution_count": 51
        }
      ]
    },
    {
      "cell_type": "code",
      "metadata": {
        "id": "-s2aF7KhQfJW",
        "colab_type": "code",
        "colab": {
          "base_uri": "https://localhost:8080/",
          "height": 330
        },
        "outputId": "93050091-3b05-46c6-946d-4940f73be25c"
      },
      "source": [
        "sns.heatmap(df.isna())"
      ],
      "execution_count": 54,
      "outputs": [
        {
          "output_type": "execute_result",
          "data": {
            "text/plain": [
              "<matplotlib.axes._subplots.AxesSubplot at 0x7febede0d9b0>"
            ]
          },
          "metadata": {
            "tags": []
          },
          "execution_count": 54
        },
        {
          "output_type": "display_data",
          "data": {
            "image/png": "[encoded data removed]",
            "text/plain": [
              "<Figure size 432x288 with 2 Axes>"
            ]
          },
          "metadata": {
            "tags": [],
            "needs_background": "light"
          }
        }
      ]
    },
    {
      "cell_type": "markdown",
      "metadata": {
        "id": "Vf_K3vgVRIwK",
        "colab_type": "text"
      },
      "source": [
        "Plot all the columns from the dataset; try to get some observations from the plot and write your inferences below the plots generated"
      ]
    },
    {
      "cell_type": "code",
      "metadata": {
        "id": "yo7kH_RGQ-DW",
        "colab_type": "code",
        "colab": {
          "base_uri": "https://localhost:8080/",
          "height": 696
        },
        "outputId": "1367bd7f-7f86-4dc3-85c8-0803f4fa31f2"
      },
      "source": [
        "#visualizing numerical columns\n",
        "df.hist(figsize=(10,10))"
      ],
      "execution_count": 57,
      "outputs": [
        {
          "output_type": "execute_result",
          "data": {
            "text/plain": [
              "array([[<matplotlib.axes._subplots.AxesSubplot object at 0x7febec1abc50>,\n",
              "        <matplotlib.axes._subplots.AxesSubplot object at 0x7febec17e5c0>],\n",
              "       [<matplotlib.axes._subplots.AxesSubplot object at 0x7febec12d828>,\n",
              "        <matplotlib.axes._subplots.AxesSubplot object at 0x7febec0dda90>]],\n",
              "      dtype=object)"
            ]
          },
          "metadata": {
            "tags": []
          },
          "execution_count": 57
        },
        {
          "output_type": "display_data",
          "data": {
            "image/png": "[encoded data removed]",
            "text/plain": [
              "<Figure size 720x720 with 4 Axes>"
            ]
          },
          "metadata": {
            "tags": [],
            "needs_background": "light"
          }
        }
      ]
    },
    {
      "cell_type": "code",
      "metadata": {
        "id": "NcRz68LmT4g1",
        "colab_type": "code",
        "colab": {
          "base_uri": "https://localhost:8080/",
          "height": 288
        },
        "outputId": "f4f8e5f8-48c5-4c27-d2ba-340dc604e104"
      },
      "source": [
        "#top 5 states with more confirmed cases till date\n",
        "df_final = df[df[\"Date\"]==\"2020-04-25\"]\n",
        "df_final.head()"
      ],
      "execution_count": 71,
      "outputs": [
        {
          "output_type": "execute_result",
          "data": {
            "text/html": [
              "<div>\n",
              "<style scoped>\n",
              "    .dataframe tbody tr th:only-of-type {\n",
              "        vertical-align: middle;\n",
              "    }\n",
              "\n",
              "    .dataframe tbody tr th {\n",
              "        vertical-align: top;\n",
              "    }\n",
              "\n",
              "    .dataframe thead th {\n",
              "        text-align: right;\n",
              "    }\n",
              "</style>\n",
              "<table border=\"1\" class=\"dataframe\">\n",
              "  <thead>\n",
              "    <tr style=\"text-align: right;\">\n",
              "      <th></th>\n",
              "      <th>Date</th>\n",
              "      <th>Time</th>\n",
              "      <th>State/ut</th>\n",
              "      <th>CIndian</th>\n",
              "      <th>CForeigner</th>\n",
              "      <th>Cured</th>\n",
              "      <th>Deaths</th>\n",
              "      <th>Confirmed</th>\n",
              "    </tr>\n",
              "  </thead>\n",
              "  <tbody>\n",
              "    <tr>\n",
              "      <th>1286</th>\n",
              "      <td>2020-04-25</td>\n",
              "      <td>5:00 PM</td>\n",
              "      <td>Andaman and Nicobar Islands</td>\n",
              "      <td>-</td>\n",
              "      <td>-</td>\n",
              "      <td>11</td>\n",
              "      <td>0</td>\n",
              "      <td>27</td>\n",
              "    </tr>\n",
              "    <tr>\n",
              "      <th>1287</th>\n",
              "      <td>2020-04-25</td>\n",
              "      <td>5:00 PM</td>\n",
              "      <td>Andhra Pradesh</td>\n",
              "      <td>-</td>\n",
              "      <td>-</td>\n",
              "      <td>171</td>\n",
              "      <td>31</td>\n",
              "      <td>1061</td>\n",
              "    </tr>\n",
              "    <tr>\n",
              "      <th>1288</th>\n",
              "      <td>2020-04-25</td>\n",
              "      <td>5:00 PM</td>\n",
              "      <td>Arunachal Pradesh</td>\n",
              "      <td>-</td>\n",
              "      <td>-</td>\n",
              "      <td>1</td>\n",
              "      <td>0</td>\n",
              "      <td>1</td>\n",
              "    </tr>\n",
              "    <tr>\n",
              "      <th>1289</th>\n",
              "      <td>2020-04-25</td>\n",
              "      <td>5:00 PM</td>\n",
              "      <td>Assam</td>\n",
              "      <td>-</td>\n",
              "      <td>-</td>\n",
              "      <td>19</td>\n",
              "      <td>1</td>\n",
              "      <td>36</td>\n",
              "    </tr>\n",
              "    <tr>\n",
              "      <th>1290</th>\n",
              "      <td>2020-04-25</td>\n",
              "      <td>5:00 PM</td>\n",
              "      <td>Bihar</td>\n",
              "      <td>-</td>\n",
              "      <td>-</td>\n",
              "      <td>46</td>\n",
              "      <td>2</td>\n",
              "      <td>228</td>\n",
              "    </tr>\n",
              "  </tbody>\n",
              "</table>\n",
              "</div>"
            ],
            "text/plain": [
              "           Date     Time                     State/ut  ... Cured Deaths  Confirmed\n",
              "1286 2020-04-25  5:00 PM  Andaman and Nicobar Islands  ...    11      0         27\n",
              "1287 2020-04-25  5:00 PM               Andhra Pradesh  ...   171     31       1061\n",
              "1288 2020-04-25  5:00 PM            Arunachal Pradesh  ...     1      0          1\n",
              "1289 2020-04-25  5:00 PM                        Assam  ...    19      1         36\n",
              "1290 2020-04-25  5:00 PM                        Bihar  ...    46      2        228\n",
              "\n",
              "[5 rows x 8 columns]"
            ]
          },
          "metadata": {
            "tags": []
          },
          "execution_count": 71
        }
      ]
    },
    {
      "cell_type": "code",
      "metadata": {
        "id": "1UIjAiJxWKRU",
        "colab_type": "code",
        "colab": {
          "base_uri": "https://localhost:8080/",
          "height": 288
        },
        "outputId": "ebf6ac3d-4f0b-4e81-fb57-acacdc6372f8"
      },
      "source": [
        "#sorting according to max confirmed cases\n",
        "df_final = df_final.sort_values(by=[\"Confirmed\"],ascending=False)\n",
        "df_final.head(5)"
      ],
      "execution_count": 74,
      "outputs": [
        {
          "output_type": "execute_result",
          "data": {
            "text/html": [
              "<div>\n",
              "<style scoped>\n",
              "    .dataframe tbody tr th:only-of-type {\n",
              "        vertical-align: middle;\n",
              "    }\n",
              "\n",
              "    .dataframe tbody tr th {\n",
              "        vertical-align: top;\n",
              "    }\n",
              "\n",
              "    .dataframe thead th {\n",
              "        text-align: right;\n",
              "    }\n",
              "</style>\n",
              "<table border=\"1\" class=\"dataframe\">\n",
              "  <thead>\n",
              "    <tr style=\"text-align: right;\">\n",
              "      <th></th>\n",
              "      <th>Date</th>\n",
              "      <th>Time</th>\n",
              "      <th>State/ut</th>\n",
              "      <th>CIndian</th>\n",
              "      <th>CForeigner</th>\n",
              "      <th>Cured</th>\n",
              "      <th>Deaths</th>\n",
              "      <th>Confirmed</th>\n",
              "    </tr>\n",
              "  </thead>\n",
              "  <tbody>\n",
              "    <tr>\n",
              "      <th>1304</th>\n",
              "      <td>2020-04-25</td>\n",
              "      <td>5:00 PM</td>\n",
              "      <td>Maharashtra</td>\n",
              "      <td>-</td>\n",
              "      <td>-</td>\n",
              "      <td>957</td>\n",
              "      <td>301</td>\n",
              "      <td>6817</td>\n",
              "    </tr>\n",
              "    <tr>\n",
              "      <th>1295</th>\n",
              "      <td>2020-04-25</td>\n",
              "      <td>5:00 PM</td>\n",
              "      <td>Gujarat</td>\n",
              "      <td>-</td>\n",
              "      <td>-</td>\n",
              "      <td>265</td>\n",
              "      <td>127</td>\n",
              "      <td>2815</td>\n",
              "    </tr>\n",
              "    <tr>\n",
              "      <th>1293</th>\n",
              "      <td>2020-04-25</td>\n",
              "      <td>5:00 PM</td>\n",
              "      <td>Delhi</td>\n",
              "      <td>-</td>\n",
              "      <td>-</td>\n",
              "      <td>857</td>\n",
              "      <td>53</td>\n",
              "      <td>2514</td>\n",
              "    </tr>\n",
              "    <tr>\n",
              "      <th>1311</th>\n",
              "      <td>2020-04-25</td>\n",
              "      <td>5:00 PM</td>\n",
              "      <td>Rajasthan</td>\n",
              "      <td>-</td>\n",
              "      <td>-</td>\n",
              "      <td>230</td>\n",
              "      <td>27</td>\n",
              "      <td>2034</td>\n",
              "    </tr>\n",
              "    <tr>\n",
              "      <th>1303</th>\n",
              "      <td>2020-04-25</td>\n",
              "      <td>5:00 PM</td>\n",
              "      <td>Madhya Pradesh</td>\n",
              "      <td>-</td>\n",
              "      <td>-</td>\n",
              "      <td>210</td>\n",
              "      <td>92</td>\n",
              "      <td>1952</td>\n",
              "    </tr>\n",
              "  </tbody>\n",
              "</table>\n",
              "</div>"
            ],
            "text/plain": [
              "           Date     Time        State/ut  ... Cured Deaths  Confirmed\n",
              "1304 2020-04-25  5:00 PM     Maharashtra  ...   957    301       6817\n",
              "1295 2020-04-25  5:00 PM         Gujarat  ...   265    127       2815\n",
              "1293 2020-04-25  5:00 PM           Delhi  ...   857     53       2514\n",
              "1311 2020-04-25  5:00 PM       Rajasthan  ...   230     27       2034\n",
              "1303 2020-04-25  5:00 PM  Madhya Pradesh  ...   210     92       1952\n",
              "\n",
              "[5 rows x 8 columns]"
            ]
          },
          "metadata": {
            "tags": []
          },
          "execution_count": 74
        }
      ]
    },
    {
      "cell_type": "code",
      "metadata": {
        "id": "_50QTkkIRm1q",
        "colab_type": "code",
        "colab": {
          "base_uri": "https://localhost:8080/",
          "height": 279
        },
        "outputId": "fa9f01f2-c275-4852-ee38-d37f5a826c6b"
      },
      "source": [
        "\n",
        "plt.bar(df_final[\"State/ut\"][:5],df_final[\"Confirmed\"][:5])\n",
        "plt.xlabel(\"States/ut\")\n",
        "plt.ylabel(\"Cases\")\n",
        "plt.show()"
      ],
      "execution_count": 114,
      "outputs": [
        {
          "output_type": "display_data",
          "data": {
            "image/png": "[encoded data removed]",
            "text/plain": [
              "<Figure size 432x288 with 1 Axes>"
            ]
          },
          "metadata": {
            "tags": [],
            "needs_background": "light"
          }
        }
      ]
    },
    {
      "cell_type": "code",
      "metadata": {
        "id": "2Ejjze_MSTNw",
        "colab_type": "code",
        "colab": {
          "base_uri": "https://localhost:8080/",
          "height": 295
        },
        "outputId": "33748b1a-9bd8-40d7-bd5f-377804f2a0de"
      },
      "source": [
        "p = sns.barplot(x=\"State/ut\",y=\"Confirmed\",data=df_final.head(5))\n",
        "p.set_title(\"TOP 5 STATES WITH MAX CONFIRMED CASES\")\n",
        "plt.show()\n",
        "#maharastra has highest confirmed cases"
      ],
      "execution_count": 119,
      "outputs": [
        {
          "output_type": "display_data",
          "data": {
            "image/png": "[encoded data removed]",
            "text/plain": [
              "<Figure size 432x288 with 1 Axes>"
            ]
          },
          "metadata": {
            "tags": [],
            "needs_background": "light"
          }
        }
      ]
    },
    {
      "cell_type": "code",
      "metadata": {
        "id": "bkTXUDS2YuHd",
        "colab_type": "code",
        "colab": {
          "base_uri": "https://localhost:8080/",
          "height": 288
        },
        "outputId": "05321d55-776b-4bd1-90ec-6484c8a0ead9"
      },
      "source": [
        "df_final = df_final.sort_values(by=[\"Deaths\"],ascending=False).head(5)\n",
        "df_final"
      ],
      "execution_count": 123,
      "outputs": [
        {
          "output_type": "execute_result",
          "data": {
            "text/html": [
              "<div>\n",
              "<style scoped>\n",
              "    .dataframe tbody tr th:only-of-type {\n",
              "        vertical-align: middle;\n",
              "    }\n",
              "\n",
              "    .dataframe tbody tr th {\n",
              "        vertical-align: top;\n",
              "    }\n",
              "\n",
              "    .dataframe thead th {\n",
              "        text-align: right;\n",
              "    }\n",
              "</style>\n",
              "<table border=\"1\" class=\"dataframe\">\n",
              "  <thead>\n",
              "    <tr style=\"text-align: right;\">\n",
              "      <th></th>\n",
              "      <th>Date</th>\n",
              "      <th>Time</th>\n",
              "      <th>State/ut</th>\n",
              "      <th>CIndian</th>\n",
              "      <th>CForeigner</th>\n",
              "      <th>Cured</th>\n",
              "      <th>Deaths</th>\n",
              "      <th>Confirmed</th>\n",
              "    </tr>\n",
              "  </thead>\n",
              "  <tbody>\n",
              "    <tr>\n",
              "      <th>1304</th>\n",
              "      <td>2020-04-25</td>\n",
              "      <td>5:00 PM</td>\n",
              "      <td>Maharashtra</td>\n",
              "      <td>-</td>\n",
              "      <td>-</td>\n",
              "      <td>957</td>\n",
              "      <td>301</td>\n",
              "      <td>6817</td>\n",
              "    </tr>\n",
              "    <tr>\n",
              "      <th>1295</th>\n",
              "      <td>2020-04-25</td>\n",
              "      <td>5:00 PM</td>\n",
              "      <td>Gujarat</td>\n",
              "      <td>-</td>\n",
              "      <td>-</td>\n",
              "      <td>265</td>\n",
              "      <td>127</td>\n",
              "      <td>2815</td>\n",
              "    </tr>\n",
              "    <tr>\n",
              "      <th>1303</th>\n",
              "      <td>2020-04-25</td>\n",
              "      <td>5:00 PM</td>\n",
              "      <td>Madhya Pradesh</td>\n",
              "      <td>-</td>\n",
              "      <td>-</td>\n",
              "      <td>210</td>\n",
              "      <td>92</td>\n",
              "      <td>1952</td>\n",
              "    </tr>\n",
              "    <tr>\n",
              "      <th>1293</th>\n",
              "      <td>2020-04-25</td>\n",
              "      <td>5:00 PM</td>\n",
              "      <td>Delhi</td>\n",
              "      <td>-</td>\n",
              "      <td>-</td>\n",
              "      <td>857</td>\n",
              "      <td>53</td>\n",
              "      <td>2514</td>\n",
              "    </tr>\n",
              "    <tr>\n",
              "      <th>1287</th>\n",
              "      <td>2020-04-25</td>\n",
              "      <td>5:00 PM</td>\n",
              "      <td>Andhra Pradesh</td>\n",
              "      <td>-</td>\n",
              "      <td>-</td>\n",
              "      <td>171</td>\n",
              "      <td>31</td>\n",
              "      <td>1061</td>\n",
              "    </tr>\n",
              "  </tbody>\n",
              "</table>\n",
              "</div>"
            ],
            "text/plain": [
              "           Date     Time        State/ut  ... Cured Deaths  Confirmed\n",
              "1304 2020-04-25  5:00 PM     Maharashtra  ...   957    301       6817\n",
              "1295 2020-04-25  5:00 PM         Gujarat  ...   265    127       2815\n",
              "1303 2020-04-25  5:00 PM  Madhya Pradesh  ...   210     92       1952\n",
              "1293 2020-04-25  5:00 PM           Delhi  ...   857     53       2514\n",
              "1287 2020-04-25  5:00 PM  Andhra Pradesh  ...   171     31       1061\n",
              "\n",
              "[5 rows x 8 columns]"
            ]
          },
          "metadata": {
            "tags": []
          },
          "execution_count": 123
        }
      ]
    },
    {
      "cell_type": "code",
      "metadata": {
        "id": "xl5gUnn5ga9M",
        "colab_type": "code",
        "colab": {
          "base_uri": "https://localhost:8080/",
          "height": 122
        },
        "outputId": "83b95892-e365-4d38-90dd-98126aa61ca1"
      },
      "source": [
        "# TOP 5 STATES WITH MAXIMUM DEATHS\n",
        "df_final[\"Deaths\"]"
      ],
      "execution_count": 130,
      "outputs": [
        {
          "output_type": "execute_result",
          "data": {
            "text/plain": [
              "1304    301\n",
              "1295    127\n",
              "1303     92\n",
              "1293     53\n",
              "1287     31\n",
              "Name: Deaths, dtype: int64"
            ]
          },
          "metadata": {
            "tags": []
          },
          "execution_count": 130
        }
      ]
    },
    {
      "cell_type": "code",
      "metadata": {
        "id": "xxAUd7offOPs",
        "colab_type": "code",
        "colab": {
          "base_uri": "https://localhost:8080/",
          "height": 248
        },
        "outputId": "8dd4b1d5-7f75-4aa1-cb85-4e7bb4e229c8"
      },
      "source": [
        "plt.pie(\"Deaths\",data=df_final,autopct=\"%0.1f%%\",labels=list(df_final[\"State/ut\"]))\n",
        "plt.show()\n",
        "#half of the deaths in the country occured in maharastra"
      ],
      "execution_count": 154,
      "outputs": [
        {
          "output_type": "display_data",
          "data": {
            "image/png": "[encoded data removed]",
            "text/plain": [
              "<Figure size 432x288 with 1 Axes>"
            ]
          },
          "metadata": {
            "tags": []
          }
        }
      ]
    },
    {
      "cell_type": "code",
      "metadata": {
        "id": "gq_uF9JngOCf",
        "colab_type": "code",
        "colab": {
          "base_uri": "https://localhost:8080/",
          "height": 386
        },
        "outputId": "be7e6dcb-898e-4fbc-8be6-bceda1a6af11"
      },
      "source": [
        "plt.figure(figsize=(10,10))\n",
        "p=sns.catplot(y=\"State/ut\",x=\"Confirmed\",data=df[df[\"Date\"]==\"2020-04-25\"],kind=\"bar\")\n",
        "plt.show()"
      ],
      "execution_count": 228,
      "outputs": [
        {
          "output_type": "display_data",
          "data": {
            "text/plain": [
              "<Figure size 720x720 with 0 Axes>"
            ]
          },
          "metadata": {
            "tags": []
          }
        },
        {
          "output_type": "display_data",
          "data": {
            "image/png": "[encoded data removed]",
            "text/plain": [
              "<Figure size 360x360 with 1 Axes>"
            ]
          },
          "metadata": {
            "tags": [],
            "needs_background": "light"
          }
        }
      ]
    },
    {
      "cell_type": "code",
      "metadata": {
        "id": "j9WjYvzhmwBs",
        "colab_type": "code",
        "colab": {
          "base_uri": "https://localhost:8080/",
          "height": 404
        },
        "outputId": "9dc50303-5f80-483b-d0f6-fe22a9741ca4"
      },
      "source": [
        "plt.figure(figsize=(100,20))\n",
        "sns.relplot(x=\"State/ut\",y=\"Confirmed\",data=df_final)"
      ],
      "execution_count": 209,
      "outputs": [
        {
          "output_type": "execute_result",
          "data": {
            "text/plain": [
              "<seaborn.axisgrid.FacetGrid at 0x7febdf2f4080>"
            ]
          },
          "metadata": {
            "tags": []
          },
          "execution_count": 209
        },
        {
          "output_type": "display_data",
          "data": {
            "text/plain": [
              "<Figure size 7200x1440 with 0 Axes>"
            ]
          },
          "metadata": {
            "tags": []
          }
        },
        {
          "output_type": "display_data",
          "data": {
            "image/png": "[encoded data removed]",
            "text/plain": [
              "<Figure size 360x360 with 1 Axes>"
            ]
          },
          "metadata": {
            "tags": [],
            "needs_background": "light"
          }
        }
      ]
    },
    {
      "cell_type": "code",
      "metadata": {
        "id": "reeDyHrKpuYN",
        "colab_type": "code",
        "colab": {
          "base_uri": "https://localhost:8080/",
          "height": 284
        },
        "outputId": "f3d8d4ec-4b98-4921-ce40-57efb885e3de"
      },
      "source": [
        "plt.plot(df_final[\"State/ut\"],df_final[\"Confirmed\"],linestyle=\"-.\",color=\"green\")"
      ],
      "execution_count": 205,
      "outputs": [
        {
          "output_type": "execute_result",
          "data": {
            "text/plain": [
              "[<matplotlib.lines.Line2D at 0x7febdf39fa90>]"
            ]
          },
          "metadata": {
            "tags": []
          },
          "execution_count": 205
        },
        {
          "output_type": "display_data",
          "data": {
            "image/png": "[encoded data removed]",
            "text/plain": [
              "<Figure size 432x288 with 1 Axes>"
            ]
          },
          "metadata": {
            "tags": [],
            "needs_background": "light"
          }
        }
      ]
    },
    {
      "cell_type": "code",
      "metadata": {
        "id": "Z_AfqN02sRi3",
        "colab_type": "code",
        "colab": {
          "base_uri": "https://localhost:8080/",
          "height": 286
        },
        "outputId": "abe65778-21f0-4a47-9202-2a25e6755d87"
      },
      "source": [
        "sns.heatmap(df.corr())"
      ],
      "execution_count": 212,
      "outputs": [
        {
          "output_type": "execute_result",
          "data": {
            "text/plain": [
              "<matplotlib.axes._subplots.AxesSubplot at 0x7febdf0f3d68>"
            ]
          },
          "metadata": {
            "tags": []
          },
          "execution_count": 212
        },
        {
          "output_type": "display_data",
          "data": {
            "image/png": "[encoded data removed]",
            "text/plain": [
              "<Figure size 432x288 with 2 Axes>"
            ]
          },
          "metadata": {
            "tags": [],
            "needs_background": "light"
          }
        }
      ]
    },
    {
      "cell_type": "markdown",
      "metadata": {
        "id": "NWCiaNxIuwrh",
        "colab_type": "text"
      },
      "source": [
        "Select any column as output  from the dataset and plot the output column with some of the input columns, which are suitable from your data columns\n"
      ]
    },
    {
      "cell_type": "code",
      "metadata": {
        "id": "ntplE2KLuPWu",
        "colab_type": "code",
        "colab": {
          "base_uri": "https://localhost:8080/",
          "height": 228
        },
        "outputId": "62403a16-b13a-4282-f0ce-acdbbc96060e"
      },
      "source": [
        "y = df[\"Deaths\"]\n",
        "y"
      ],
      "execution_count": 214,
      "outputs": [
        {
          "output_type": "execute_result",
          "data": {
            "text/plain": [
              "0        0\n",
              "1        0\n",
              "2        0\n",
              "3        0\n",
              "4        0\n",
              "        ..\n",
              "1313    26\n",
              "1314     0\n",
              "1315     0\n",
              "1316    26\n",
              "1317    18\n",
              "Name: Deaths, Length: 1318, dtype: int64"
            ]
          },
          "metadata": {
            "tags": []
          },
          "execution_count": 214
        }
      ]
    },
    {
      "cell_type": "code",
      "metadata": {
        "id": "hgQ_U9EavETu",
        "colab_type": "code",
        "colab": {}
      },
      "source": [
        "X = df[\"State/ut\"]"
      ],
      "execution_count": 215,
      "outputs": []
    },
    {
      "cell_type": "code",
      "metadata": {
        "id": "J-UHutQ2vbZa",
        "colab_type": "code",
        "colab": {
          "base_uri": "https://localhost:8080/",
          "height": 516
        },
        "outputId": "880392e1-4335-4df6-e69e-4def6dbd563a"
      },
      "source": [
        "plt.figure(figsize=(10,10))\n",
        "sns.countplot(y=\"State/ut\",data=df.sort_values(by=[\"Deaths\"]))\n",
        "plt.show()"
      ],
      "execution_count": 238,
      "outputs": [
        {
          "output_type": "display_data",
          "data": {
            "image/png": "[encoded data removed]",
            "text/plain": [
              "<Figure size 720x720 with 1 Axes>"
            ]
          },
          "metadata": {
            "tags": [],
            "needs_background": "light"
          }
        }
      ]
    },
    {
      "cell_type": "markdown",
      "metadata": {
        "id": "dK78EhlGxw0u",
        "colab_type": "text"
      },
      "source": [
        "Encode the categorical columns using different kinds of encoding techniques from pandas and scikit-learn\n",
        "\n"
      ]
    },
    {
      "cell_type": "code",
      "metadata": {
        "id": "SDqDylqVy4Q_",
        "colab_type": "code",
        "colab": {
          "base_uri": "https://localhost:8080/",
          "height": 34
        },
        "outputId": "1243d7af-c7e7-4cdf-e144-a9091805bdf8"
      },
      "source": [
        "df.columns[2]"
      ],
      "execution_count": 240,
      "outputs": [
        {
          "output_type": "execute_result",
          "data": {
            "text/plain": [
              "'State/ut'"
            ]
          },
          "metadata": {
            "tags": []
          },
          "execution_count": 240
        }
      ]
    },
    {
      "cell_type": "code",
      "metadata": {
        "id": "i1ajzMiKvmfx",
        "colab_type": "code",
        "colab": {}
      },
      "source": [
        "df = pd.concat([df,pd.get_dummies(df[\"State/ut\"],drop_first=True)],axis=1)"
      ],
      "execution_count": 244,
      "outputs": []
    },
    {
      "cell_type": "code",
      "metadata": {
        "id": "w-zlc4ALyzBc",
        "colab_type": "code",
        "colab": {
          "base_uri": "https://localhost:8080/",
          "height": 34
        },
        "outputId": "ee7ba7ba-08b5-40d1-966c-0af8a5be7c17"
      },
      "source": [
        "df.shape"
      ],
      "execution_count": 245,
      "outputs": [
        {
          "output_type": "execute_result",
          "data": {
            "text/plain": [
              "(1318, 43)"
            ]
          },
          "metadata": {
            "tags": []
          },
          "execution_count": 245
        }
      ]
    },
    {
      "cell_type": "code",
      "metadata": {
        "id": "s3eiPXAZzLz-",
        "colab_type": "code",
        "colab": {
          "base_uri": "https://localhost:8080/",
          "height": 175
        },
        "outputId": "6a1a6558-e8c6-48fe-b43e-384abe7baed3"
      },
      "source": [
        "df.columns"
      ],
      "execution_count": 246,
      "outputs": [
        {
          "output_type": "execute_result",
          "data": {
            "text/plain": [
              "Index(['Date', 'Time', 'State/ut', 'CIndian', 'CForeigner', 'Cured', 'Deaths',\n",
              "       'Confirmed', 'Andhra Pradesh', 'Arunachal Pradesh', 'Assam', 'Bihar',\n",
              "       'Chandigarh', 'Chhattisgarh', 'Delhi', 'Goa', 'Gujarat', 'Haryana',\n",
              "       'Himachal Pradesh', 'Jammu and Kashmir', 'Jharkhand', 'Jharkhand#',\n",
              "       'Karnataka', 'Kerala', 'Ladakh', 'Madhya Pradesh', 'Maharashtra',\n",
              "       'Manipur', 'Meghalaya', 'Mizoram', 'Nagaland', 'Nagaland#', 'Odisha',\n",
              "       'Puducherry', 'Punjab', 'Rajasthan', 'Tamil Nadu', 'Telengana',\n",
              "       'Tripura', 'Unassigned', 'Uttar Pradesh', 'Uttarakhand', 'West Bengal'],\n",
              "      dtype='object')"
            ]
          },
          "metadata": {
            "tags": []
          },
          "execution_count": 246
        }
      ]
    },
    {
      "cell_type": "code",
      "metadata": {
        "id": "vB6gKbDk0NWb",
        "colab_type": "code",
        "colab": {}
      },
      "source": [
        ""
      ],
      "execution_count": null,
      "outputs": []
    }
  ]
}