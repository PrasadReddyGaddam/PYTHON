{
  "nbformat": 4,
  "nbformat_minor": 0,
  "metadata": {
    "colab": {
      "name": "Assignment-12(09-06-20).ipynb",
      "provenance": [],
      "collapsed_sections": [],
      "authorship_tag": "ABX9TyNoCyKYX+erCvg0Yj2lkNVT",
      "include_colab_link": true
    },
    "kernelspec": {
      "name": "python3",
      "display_name": "Python 3"
    }
  },
  "cells": [
    {
      "cell_type": "markdown",
      "metadata": {
        "id": "view-in-github",
        "colab_type": "text"
      },
      "source": [
        "<a href=\"https://colab.research.google.com/github/PrasadReddyGaddam/PYTHON/blob/master/Assignment_12(09_06_20).ipynb\" target=\"_parent\"><img src=\"https://colab.research.google.com/assets/colab-badge.svg\" alt=\"Open In Colab\"/></a>"
      ]
    },
    {
      "cell_type": "markdown",
      "metadata": {
        "id": "HWqVvuxF9jGp",
        "colab_type": "text"
      },
      "source": [
        "**CSE-221710301019-GADDAM PRASAD REDDY**"
      ]
    },
    {
      "cell_type": "code",
      "metadata": {
        "id": "9egBAOuh9alG",
        "colab_type": "code",
        "colab": {}
      },
      "source": [
        "import pandas as pd\n",
        "import numpy as np\n",
        "import matplotlib.pyplot as plt\n",
        "%matplotlib inline"
      ],
      "execution_count": 0,
      "outputs": []
    },
    {
      "cell_type": "code",
      "metadata": {
        "id": "f-oITS2O90iv",
        "colab_type": "code",
        "colab": {}
      },
      "source": [
        "df = pd.read_csv(\"https://raw.githubusercontent.com/kotagiri-preeti/Summer-Internship-AI-and-ML/master/Match%20(1).csv\")\n"
      ],
      "execution_count": 0,
      "outputs": []
    },
    {
      "cell_type": "markdown",
      "metadata": {
        "id": "QbKkCt-R-J2F",
        "colab_type": "text"
      },
      "source": [
        "1. Print ManOfMach count of each player in Hyderabad stadium\n"
      ]
    },
    {
      "cell_type": "code",
      "metadata": {
        "id": "yE-YHujvT4Ax",
        "colab_type": "code",
        "outputId": "cb055e96-98da-4ce5-826b-703ecb522911",
        "colab": {
          "base_uri": "https://localhost:8080/",
          "height": 537
        }
      },
      "source": [
        "df2 = df[\"ManOfMach\"][df.Venue_Name==(\"Rajiv Gandhi International Stadium, Uppal\")]\n",
        "df2.sort_values(axis=0)\n",
        "df3 = df2.value_counts(sort=False)\n",
        "df3 = df3.sort_index(axis=0)\n",
        "df3"
      ],
      "execution_count": 0,
      "outputs": [
        {
          "output_type": "execute_result",
          "data": {
            "text/plain": [
              "A Mishra             2\n",
              "AB Dinda             1\n",
              "AT Rayudu            1\n",
              "B Kumar              1\n",
              "CH Morris            1\n",
              "DA Warner            6\n",
              "DJ Bravo             1\n",
              "DJG Sammy            1\n",
              "DW Steyn             3\n",
              "G Gambhir            1\n",
              "GH Vihari            2\n",
              "I Sharma             1\n",
              "MJ McClenaghan       1\n",
              "MR Marsh             1\n",
              "Mandeep Singh        1\n",
              "Mustafizur Rahman    1\n",
              "PA Patel             1\n",
              "PC Valthaty          1\n",
              "R Vinay Kumar        1\n",
              "SC Ganguly           1\n",
              "SE Marsh             1\n",
              "SK Raina             2\n",
              "SK Trivedi           1\n",
              "SL Malinga           1\n",
              "UT Yadav             1\n",
              "V Kohli              1\n",
              "V Sehwag             2\n",
              "WP Saha              1\n",
              "YK Pathan            2\n",
              "Name: ManOfMach, dtype: int64"
            ]
          },
          "metadata": {
            "tags": []
          },
          "execution_count": 66
        }
      ]
    },
    {
      "cell_type": "markdown",
      "metadata": {
        "id": "oNFd1wT4HPYG",
        "colab_type": "text"
      },
      "source": [
        "2. Plot a pie chart for the country_name column"
      ]
    },
    {
      "cell_type": "code",
      "metadata": {
        "id": "cAOfWzGVaPCn",
        "colab_type": "code",
        "outputId": "7a740970-1871-4eee-c9ff-113d73e5d725",
        "colab": {
          "base_uri": "https://localhost:8080/",
          "height": 35
        }
      },
      "source": [
        "def fun(st):\n",
        "  t= df['Country_Name'].str.contains(st).value_counts()\n",
        "  p.append(t[1])\n",
        "p=[]\n",
        "fun(\"India\")\n",
        "fun(\"U.A.E\")\n",
        "fun(\"South Africa\")\n",
        "p"
      ],
      "execution_count": 0,
      "outputs": [
        {
          "output_type": "execute_result",
          "data": {
            "text/plain": [
              "[560, 20, 57]"
            ]
          },
          "metadata": {
            "tags": []
          },
          "execution_count": 116
        }
      ]
    },
    {
      "cell_type": "code",
      "metadata": {
        "id": "5CUS_TuFCqSS",
        "colab_type": "code",
        "outputId": "edf244cd-fd32-46d2-c547-d4dd1c1482e9",
        "colab": {
          "base_uri": "https://localhost:8080/",
          "height": 248
        }
      },
      "source": [
        "pd = [\"India\",\"U.A.E\",\"South Africa\"]\n",
        "plt.pie(p,labels=pd,startangle=45,explode=[0.1,0,0],colors=[\"blue\",\"red\",\"green\"],autopct=\"%0.1f%%\")\n",
        "plt.show()"
      ],
      "execution_count": 0,
      "outputs": [
        {
          "output_type": "display_data",
          "data": {
            "image/png": "[encoded data removed]",
            "text/plain": [
              "<Figure size 432x288 with 1 Axes>"
            ]
          },
          "metadata": {
            "tags": []
          }
        }
      ]
    }
  ]
}